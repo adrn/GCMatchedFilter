{
 "cells": [
  {
   "cell_type": "code",
   "execution_count": null,
   "metadata": {
    "collapsed": false
   },
   "outputs": [],
   "source": [
    "import sys\n",
    "globber_path = '/Users/adrian/projects/globber/'\n",
    "if globber_path not in sys.path:\n",
    "    sys.path.append(globber_path)\n",
    "    \n",
    "from collections import OrderedDict\n",
    "import astropy.units as u\n",
    "import astropy.coordinates as coord\n",
    "import numpy as np\n",
    "from numpy.polynomial.polynomial import polyval\n",
    "import matplotlib.pyplot as pl\n",
    "import matplotlib as mpl\n",
    "pl.style.use('apw-notebook')\n",
    "%matplotlib inline\n",
    "import h5py\n",
    "from scipy.ndimage import gaussian_filter\n",
    "from scipy.stats import scoreatpercentile\n",
    "from scipy import interpolate\n",
    "\n",
    "from globber.ngc5897 import cluster_c, r_c, r_t, fiducial_DM"
   ]
  },
  {
   "cell_type": "code",
   "execution_count": null,
   "metadata": {
    "collapsed": true
   },
   "outputs": [],
   "source": [
    "XCov_filename = \"/Users/adrian/projects/globber/data/ngc5897/XCov_test.h5\""
   ]
  },
  {
   "cell_type": "code",
   "execution_count": null,
   "metadata": {
    "collapsed": false,
    "scrolled": true
   },
   "outputs": [],
   "source": [
    "with h5py.File(XCov_filename, \"r\") as f:\n",
    "    ra = f['search']['ra'][:]\n",
    "    dec = f['search']['dec'][:]\n",
    "    allX = f['search']['X'][:]\n",
    "    cluX = f['cluster']['X'][:]\n",
    "    nonX = f['control']['X'][:]\n",
    "    isoX = f['isochrone']['X'][:]\n",
    "    \n",
    "#     print(list(f.keys()))\n",
    "    non_ll = f['log_likelihood']['control'][:]\n",
    "    iso_ll = f['log_likelihood/isochrone/15.60'][:]"
   ]
  },
  {
   "cell_type": "code",
   "execution_count": null,
   "metadata": {
    "collapsed": false
   },
   "outputs": [],
   "source": [
    "# all_data = np.array([tuple(x) for x in np.vstack([ra,dec,non_ll,clu_ll,xd_ll]+[il for il in iso_lls.values()]).T], \n",
    "#                     dtype=[('ra','f4'),('dec','f4'),('non_ll','f4'),('clu_ll','f4'),('xd_ll','f4')] + \\\n",
    "#                           [(\"iso_\"+name,'f4') for name in iso_lls.keys()])\n",
    "all_data = np.array([tuple(x) for x in np.vstack([ra,dec,non_ll,iso_ll]).T],\n",
    "                    dtype=[('ra','f4'),('dec','f4'),('non_ll','f4'),('iso_ll','f4')])\n",
    "\n",
    "pre_filter_ix = (allX[:,0] > 18.3) & (allX[:,0] < 20.) & np.isfinite(all_data['non_ll'])\n",
    "# pre_filter_ix = np.ones_like(allX[:,0]).astype(bool)\n",
    "\n",
    "all_data = all_data[pre_filter_ix]\n",
    "allX = allX[pre_filter_ix]\n",
    "all_c = coord.SkyCoord(ra=all_data['ra']*u.degree, dec=all_data['dec']*u.degree)"
   ]
  },
  {
   "cell_type": "code",
   "execution_count": null,
   "metadata": {
    "collapsed": false
   },
   "outputs": [],
   "source": [
    "fig,axes = pl.subplots(1,2,figsize=(10,5),sharey=True)\n",
    "\n",
    "for i in range(2):\n",
    "    ax = axes[i]\n",
    "    ax.plot(allX[:,i+1], allX[:,0], color='k', marker=',', ls='none', alpha=0.1)\n",
    "\n",
    "    for idx in np.argsort(all_data['non_ll'])[:100]:\n",
    "        thisX = allX[idx]\n",
    "        ax.plot(thisX[i+1], thisX[0], color='r', marker='o', ls='none')\n",
    "\n",
    "axes[0].set_xlim(-0.5, 1.75)\n",
    "axes[1].set_xlim(-0.5, 1.75)\n",
    "ax.set_ylim(21, 14)"
   ]
  },
  {
   "cell_type": "code",
   "execution_count": null,
   "metadata": {
    "collapsed": false
   },
   "outputs": [],
   "source": [
    "iso_ll = all_data['iso_ll']\n",
    "# iso_ll = all_data['xd_ll']\n",
    "ll = (iso_ll - all_data['non_ll'])\n",
    "weights = np.exp(ll)\n",
    "# weights = np.exp(iso_ll-iso_ll.max())[filter_ix]\n",
    "\n",
    "# filter_ix = non_ll > threshold\n",
    "# filter_ix = np.ones_like(all_data['non_ll']).astype(bool)\n",
    "\n",
    "# threshold total ll\n",
    "threshold = -2\n",
    "weights[ll > threshold] = np.exp(threshold)\n",
    "\n",
    "# threshold control ll\n",
    "# threshold = 10\n",
    "# weights[all_data['non_ll'] < threshold] = np.exp(iso_ll[all_data['non_ll'] < threshold] - threshold)"
   ]
  },
  {
   "cell_type": "code",
   "execution_count": null,
   "metadata": {
    "collapsed": false
   },
   "outputs": [],
   "source": [
    "bins = np.linspace(-25, 25, 64)\n",
    "pl.hist(iso_ll, bins=bins, alpha=0.5)\n",
    "pl.hist(all_data['non_ll'], bins=bins, alpha=0.5)\n",
    "pl.hist(ll, bins=bins, alpha=0.5)\n",
    "pl.hist(np.log(weights), bins=bins, alpha=0.2)\n",
    "# pl.axvline(threshold)\n",
    "pl.yscale('log')"
   ]
  },
  {
   "cell_type": "markdown",
   "metadata": {},
   "source": [
    "Plot CMD binned, weighted by weights"
   ]
  },
  {
   "cell_type": "code",
   "execution_count": null,
   "metadata": {
    "collapsed": false
   },
   "outputs": [],
   "source": [
    "cmd_bin_size = 0.02\n",
    "g_bins = np.arange(allX[:,0].min(), allX[:,0].max(), step=cmd_bin_size)\n",
    "gi_bins = np.arange(allX[:,1].min(), allX[:,1].max(), step=cmd_bin_size)\n",
    "\n",
    "cmd_H,g_edges,gi_edges = np.histogram2d(allX[:,1], allX[:,0],\n",
    "                                        bins=(gi_bins, g_bins), weights=weights)\n",
    "cmd_H_iso,g_edges,gi_edges = np.histogram2d(allX[:,1], allX[:,0],\n",
    "                                            bins=(gi_bins, g_bins), weights=np.exp(iso_ll-iso_ll.max()))\n",
    "bg_H_iso,g_edges,gi_edges = np.histogram2d(allX[:,1], allX[:,0],\n",
    "                                           bins=(gi_bins, g_bins),\n",
    "                                           weights=np.exp(all_data['non_ll']-all_data['non_ll'].max()))\n",
    "\n",
    "g_mesh,gi_mesh = np.meshgrid((g_bins[1:]+g_bins[:-1])/2, (gi_bins[1:]+gi_bins[:-1])/2)"
   ]
  },
  {
   "cell_type": "code",
   "execution_count": null,
   "metadata": {
    "collapsed": false
   },
   "outputs": [],
   "source": [
    "fig,axes = pl.subplots(1,3,figsize=(10,6),sharex=True,sharey=True)\n",
    "\n",
    "ax = axes[0]\n",
    "ax.pcolormesh(gi_mesh, g_mesh, cmd_H, cmap='Blues')\n",
    "ax.plot(isoX[:,1], isoX[:,0]+fiducial_DM, marker=None)\n",
    "ax.set_xlim(0, 0.75)\n",
    "ax.set_ylim(21, 14)\n",
    "ax.set_xlabel('$g-i$')\n",
    "ax.set_ylabel('$i$')\n",
    "\n",
    "ax = axes[1]\n",
    "ax.pcolormesh(gi_mesh, g_mesh, cmd_H_iso, cmap='Blues')\n",
    "ax.plot(isoX[:,1], isoX[:,0]+fiducial_DM, marker=None)\n",
    "ax.set_xlabel('$g-i$')\n",
    "\n",
    "ax = axes[2]\n",
    "ax.pcolormesh(gi_mesh, g_mesh, bg_H_iso, cmap='Blues')\n",
    "ax.plot(isoX[:,1], isoX[:,0]+fiducial_DM, marker=None)\n",
    "ax.set_xlabel('$g-i$')"
   ]
  },
  {
   "cell_type": "markdown",
   "metadata": {},
   "source": [
    "---"
   ]
  },
  {
   "cell_type": "code",
   "execution_count": null,
   "metadata": {
    "collapsed": false
   },
   "outputs": [],
   "source": [
    "sky_binsize = (6*u.arcmin).to(u.degree).value\n",
    "sky_smooth = (6*u.arcmin).to(u.degree).value / sky_binsize\n",
    "\n",
    "search_ra = ra\n",
    "search_dec = dec\n",
    "ra_bins = np.arange(search_ra.min(), search_ra.max()+sky_binsize, sky_binsize)\n",
    "dec_bins = np.arange(search_dec.min(), search_dec.max()+sky_binsize, sky_binsize)\n",
    "print(\"{} RA bins, {} Dec bins\".format(len(ra_bins), len(dec_bins)))"
   ]
  },
  {
   "cell_type": "code",
   "execution_count": null,
   "metadata": {
    "collapsed": false
   },
   "outputs": [],
   "source": [
    "weights.shape"
   ]
  },
  {
   "cell_type": "code",
   "execution_count": null,
   "metadata": {
    "collapsed": false
   },
   "outputs": [],
   "source": [
    "# no_cluster_ix = all_c.separation(cluster_c) > 5*r_c\n",
    "no_cluster_ix = np.ones(len(all_c)).astype(bool)\n",
    "_data = all_data[no_cluster_ix]\n",
    "H,ra_edges,dec_edges = np.histogram2d(_data['ra'], _data['dec'],\n",
    "                                      bins=(ra_bins,dec_bins), weights=weights[no_cluster_ix])\n",
    "unw_H,ra_edges,dec_edges = np.histogram2d(_data['ra'], _data['dec'],\n",
    "                                          bins=(ra_bins,dec_bins))\n",
    "ra_mesh,dec_mesh = np.meshgrid((ra_edges[1:]+ra_edges[:-1])/2, (dec_edges[1:]+dec_edges[:-1])/2)\n",
    "H = H.T\n",
    "unw_H = unw_H.T\n",
    "\n",
    "# use a bivariate spline to smooth and divide out the background\n",
    "spl = interpolate.SmoothBivariateSpline(ra_mesh.ravel(), dec_mesh.ravel(), \n",
    "                                        unw_H.ravel()/unw_H.sum(), kx=5, ky=5)\n",
    "spl_unw_H = spl.ev(ra_mesh.ravel(), dec_mesh.ravel())\n",
    "spl_unw_H = spl_unw_H.reshape(ra_mesh.shape)\n",
    "\n",
    "# norm_H = H \n",
    "norm_H = H / spl_unw_H\n",
    "# norm_H = H / gaussian_filter(unw_H, 2*sky_smooth)"
   ]
  },
  {
   "cell_type": "code",
   "execution_count": null,
   "metadata": {
    "collapsed": true
   },
   "outputs": [],
   "source": [
    "# H_operation = lambda x: np.log(x)\n",
    "# H_operation = lambda x: np.sqrt(x)\n",
    "H_operation = lambda x: x\n",
    "# H_operation = lambda x: x**2"
   ]
  },
  {
   "cell_type": "code",
   "execution_count": null,
   "metadata": {
    "collapsed": false
   },
   "outputs": [],
   "source": [
    "tmp = H_operation(norm_H.ravel())\n",
    "bins = np.linspace(*scoreatpercentile(tmp, [1,99]), num=32)\n",
    "pl.hist(tmp, bins=bins);\n",
    "\n",
    "vmin,vmax = scoreatpercentile(tmp, [5,85])\n",
    "pl.axvline(vmin, color='r')\n",
    "pl.axvline(vmax, color='r')"
   ]
  },
  {
   "cell_type": "code",
   "execution_count": null,
   "metadata": {
    "collapsed": false
   },
   "outputs": [],
   "source": [
    "fig,axes = pl.subplots(3,1,figsize=(8,16),sharex=True,sharey=True)\n",
    "\n",
    "ax = axes[0]\n",
    "ax.pcolormesh(ra_mesh, dec_mesh, H_operation(norm_H), \n",
    "              cmap='Greys', vmin=vmin, vmax=vmax)\n",
    "\n",
    "pa = mpl.patches.Circle((cluster_c.ra.degree, cluster_c.dec.degree), radius=r_c.to(u.degree).value,\n",
    "                        edgecolor='r', facecolor='none')\n",
    "ax.add_patch(pa)\n",
    "pa = mpl.patches.Circle((cluster_c.ra.degree, cluster_c.dec.degree), radius=r_t.to(u.degree).value,\n",
    "                        edgecolor='g', facecolor='none')\n",
    "ax.add_patch(pa)\n",
    "\n",
    "# ax.set_xlim(ra_mesh.max(), ra_mesh.min())\n",
    "ax.set_xlim(ra_mesh.max(), 220.)\n",
    "ax.set_ylim(dec_mesh.min(), dec_mesh.max())\n",
    "ax.set_ylabel('Dec [deg]')\n",
    "\n",
    "# ----\n",
    "\n",
    "ax = axes[1]\n",
    "ax.pcolormesh(ra_mesh, dec_mesh, gaussian_filter(H_operation(norm_H), sky_smooth), \n",
    "              cmap='Greys', vmin=vmin, vmax=vmax)\n",
    "\n",
    "pa = mpl.patches.Circle((cluster_c.ra.degree, cluster_c.dec.degree), radius=r_c.to(u.degree).value,\n",
    "                        edgecolor='r', facecolor='none')\n",
    "ax.add_patch(pa)\n",
    "pa = mpl.patches.Circle((cluster_c.ra.degree, cluster_c.dec.degree), radius=r_t.to(u.degree).value,\n",
    "                        edgecolor='g', facecolor='none')\n",
    "ax.add_patch(pa)\n",
    "ax.set_ylabel('Dec [deg]')\n",
    "\n",
    "# ----\n",
    "\n",
    "ax = axes[2]\n",
    "ax.pcolormesh(ra_mesh, dec_mesh, spl_unw_H, \n",
    "              cmap='Greys')#, vmin=vmin, vmax=vmax)\n",
    "\n",
    "pa = mpl.patches.Circle((cluster_c.ra.degree, cluster_c.dec.degree), radius=r_c.to(u.degree).value,\n",
    "                        edgecolor='r', facecolor='none')\n",
    "ax.add_patch(pa)\n",
    "pa = mpl.patches.Circle((cluster_c.ra.degree, cluster_c.dec.degree), radius=r_t.to(u.degree).value,\n",
    "                        edgecolor='g', facecolor='none')\n",
    "ax.add_patch(pa)\n",
    "\n",
    "# ax.set_xlim(ra_mesh.max(), ra_mesh.min())\n",
    "ax.set_xlim(ra_mesh.max(), 220.)\n",
    "ax.set_ylim(dec_mesh.min(), dec_mesh.max())\n",
    "ax.set_xlabel('RA [deg]')\n",
    "ax.set_ylabel('Dec [deg]')\n",
    "ax.set_aspect('equal')\n",
    "\n",
    "fig.tight_layout()"
   ]
  },
  {
   "cell_type": "code",
   "execution_count": null,
   "metadata": {
    "collapsed": false
   },
   "outputs": [],
   "source": [
    "zoom_buffer = 2\n",
    "\n",
    "fig,axes = pl.subplots(3,1,figsize=(6,14),sharex=True,sharey=True)\n",
    "\n",
    "ax = axes[0]\n",
    "ax.pcolormesh(ra_mesh, dec_mesh, H_operation(norm_H), \n",
    "              cmap='Greys', vmin=vmin, vmax=vmax)\n",
    "pa = mpl.patches.Circle((cluster_c.ra.degree, cluster_c.dec.degree), radius=r_c.to(u.degree).value,\n",
    "                        edgecolor='r', facecolor='none')\n",
    "ax.add_patch(pa)\n",
    "pa = mpl.patches.Circle((cluster_c.ra.degree, cluster_c.dec.degree), radius=r_t.to(u.degree).value,\n",
    "                        edgecolor='g', facecolor='none')\n",
    "ax.add_patch(pa)\n",
    "\n",
    "ax.set_xlim(cluster_c.ra.degree+zoom_buffer, cluster_c.ra.degree-zoom_buffer)\n",
    "ax.set_ylim(cluster_c.dec.degree-zoom_buffer, cluster_c.dec.degree+zoom_buffer)\n",
    "# ax.set_xlabel('RA [deg]')\n",
    "ax.set_ylabel('Dec [deg]')\n",
    "ax.set_aspect('equal')\n",
    "\n",
    "# ----\n",
    "\n",
    "ax = axes[1]\n",
    "ax.pcolormesh(ra_mesh, dec_mesh, gaussian_filter(H_operation(norm_H), sky_smooth), \n",
    "              cmap='Greys', vmin=vmin, vmax=vmax)\n",
    "\n",
    "pa = mpl.patches.Circle((cluster_c.ra.degree, cluster_c.dec.degree), radius=r_c.to(u.degree).value,\n",
    "                        edgecolor='r', facecolor='none')\n",
    "ax.add_patch(pa)\n",
    "pa = mpl.patches.Circle((cluster_c.ra.degree, cluster_c.dec.degree), radius=r_t.to(u.degree).value,\n",
    "                        edgecolor='g', facecolor='none')\n",
    "ax.add_patch(pa)\n",
    "ax.set_ylabel('Dec [deg]')\n",
    "\n",
    "# ----\n",
    "\n",
    "ax = axes[2]\n",
    "ax.pcolormesh(ra_mesh, dec_mesh, spl_unw_H, \n",
    "              cmap='Greys')#, vmin=vmin, vmax=vmax)\n",
    "\n",
    "pa = mpl.patches.Circle((cluster_c.ra.degree, cluster_c.dec.degree), radius=r_c.to(u.degree).value,\n",
    "                        edgecolor='r', facecolor='none')\n",
    "ax.add_patch(pa)\n",
    "pa = mpl.patches.Circle((cluster_c.ra.degree, cluster_c.dec.degree), radius=r_t.to(u.degree).value,\n",
    "                        edgecolor='g', facecolor='none')\n",
    "ax.add_patch(pa)\n",
    "\n",
    "ax.set_xlim(cluster_c.ra.degree+zoom_buffer, cluster_c.ra.degree-zoom_buffer)\n",
    "ax.set_ylim(cluster_c.dec.degree-zoom_buffer, cluster_c.dec.degree+zoom_buffer)\n",
    "ax.set_xlabel('RA [deg]')\n",
    "ax.set_ylabel('Dec [deg]')\n",
    "ax.set_aspect('equal')\n",
    "\n",
    "\n",
    "fig.tight_layout()"
   ]
  },
  {
   "cell_type": "code",
   "execution_count": null,
   "metadata": {
    "collapsed": false
   },
   "outputs": [],
   "source": [
    "sm_H = gaussian_filter(H_operation(norm_H), sky_smooth)\n",
    "levels = scoreatpercentile(norm_H.ravel(), [55,60,70,80,90,95,96,97,98,99])\n",
    "# levels = scoreatpercentile(norm_H.ravel(), np.linspace(85,100,16))\n",
    "\n",
    "fig,ax = pl.subplots(1,1,figsize=(6,6),sharex=True,sharey=True)\n",
    "\n",
    "ax.contour(ra_mesh, dec_mesh, sm_H, levels=levels, colors='k')\n",
    "\n",
    "pa = mpl.patches.Circle((cluster_c.ra.degree, cluster_c.dec.degree), radius=r_c.to(u.degree).value,\n",
    "                        edgecolor='r', facecolor='none')\n",
    "ax.add_patch(pa)\n",
    "pa = mpl.patches.Circle((cluster_c.ra.degree, cluster_c.dec.degree), radius=r_t.to(u.degree).value,\n",
    "                        edgecolor='g', facecolor='none')\n",
    "ax.add_patch(pa)\n",
    "\n",
    "ax.set_xlim(cluster_c.ra.degree + zoom_buffer, cluster_c.ra.degree - zoom_buffer)\n",
    "ax.set_ylim(cluster_c.dec.degree - zoom_buffer, cluster_c.dec.degree + zoom_buffer)\n",
    "\n",
    "ax.set_xlabel('RA [deg]')\n",
    "ax.set_ylabel('Dec [deg]')\n",
    "ax.set_aspect('equal')"
   ]
  },
  {
   "cell_type": "code",
   "execution_count": null,
   "metadata": {
    "collapsed": true
   },
   "outputs": [],
   "source": []
  },
  {
   "cell_type": "code",
   "execution_count": null,
   "metadata": {
    "collapsed": true
   },
   "outputs": [],
   "source": []
  },
  {
   "cell_type": "code",
   "execution_count": null,
   "metadata": {
    "collapsed": true
   },
   "outputs": [],
   "source": []
  },
  {
   "cell_type": "code",
   "execution_count": null,
   "metadata": {
    "collapsed": false
   },
   "outputs": [],
   "source": [
    "def rot_matrix(t, v):\n",
    "    m1 = 1 - np.cos(t)\n",
    "    R = np.array([[np.cos(t) + v[0]**2*m1, v[0]*v[1]*m1 - v[2]*np.sin(t), v[1]*np.sin(t)+v[0]*v[2]*m1],\n",
    "                  [v[2]*np.sin(t)+v[0]*v[1]*m1, np.cos(t)+v[1]**2*m1, -v[0]*np.sin(t)+v[1]*v[2]*m1],\n",
    "                  [-v[1]*np.sin(t)+v[0]*v[2]*m1, v[0]*np.sin(t)+v[1]*v[2]*m1, np.cos(t)+v[2]**2*m1]])\n",
    "    return R"
   ]
  },
  {
   "cell_type": "markdown",
   "metadata": {},
   "source": [
    "Fit a polynomial surface "
   ]
  },
  {
   "cell_type": "code",
   "execution_count": null,
   "metadata": {
    "collapsed": true
   },
   "outputs": [],
   "source": [
    "# vec = cluster_c.cartesian.xyz.value\n",
    "# c = coord.ICRS(ra=all_data['ra']*u.degree, dec=all_data['dec']*u.degree)\n",
    "\n",
    "# def surface_model(xdata, *p):\n",
    "#     theta,a,b,c1,c2,c3,c4,c5 = p\n",
    "#     R = rot_matrix(theta, vec)\n",
    "#     rot_xyz = np.array([R.dot(w).tolist() for w in c.cartesian.xyz.value.T])\n",
    "    \n",
    "#     sph = coord.CartesianRepresentation(rot_xyz.T*u.one)\\\n",
    "#                .represent_as(coord.UnitSphericalRepresentation)\n",
    "#     x = sph.lon.degree\n",
    "#     return a*np.exp(-b*x) * polyval(x, c=[c1, c2, c3, c4, c5])"
   ]
  },
  {
   "cell_type": "code",
   "execution_count": null,
   "metadata": {
    "collapsed": true
   },
   "outputs": [],
   "source": [
    "# curve_fit(surface_model, )"
   ]
  },
  {
   "cell_type": "markdown",
   "metadata": {},
   "source": [
    "Transform to \"stream coordinates\""
   ]
  },
  {
   "cell_type": "code",
   "execution_count": null,
   "metadata": {
    "collapsed": true
   },
   "outputs": [],
   "source": [
    "import astropy.coordinates as coord"
   ]
  },
  {
   "cell_type": "code",
   "execution_count": null,
   "metadata": {
    "collapsed": false
   },
   "outputs": [],
   "source": [
    "vv = coord.ICRS(ra=230*u.degree, dec=-21*u.degree).cartesian.xyz.value\n",
    "R = rot_matrix((52+180)*u.degree, vv)\n",
    "c = coord.ICRS(ra=all_data['ra']*u.degree, dec=_dec*u.degree)\n",
    "new_xyz = np.array([R.dot(w).tolist() for w in c.cartesian.xyz.value.T])"
   ]
  },
  {
   "cell_type": "code",
   "execution_count": null,
   "metadata": {
    "collapsed": false
   },
   "outputs": [],
   "source": [
    "sph = coord.CartesianRepresentation(new_xyz.T*u.one)\\\n",
    "           .represent_as(coord.UnitSphericalRepresentation)"
   ]
  },
  {
   "cell_type": "code",
   "execution_count": null,
   "metadata": {
    "collapsed": false
   },
   "outputs": [],
   "source": [
    "pl.plot(sph.lon.degree, sph.lat.degree, ls='none', marker=',', alpha=0.051)"
   ]
  },
  {
   "cell_type": "code",
   "execution_count": null,
   "metadata": {
    "collapsed": true
   },
   "outputs": [],
   "source": [
    "phi1, phi2 = sph.lon.degree, sph.lat.degree\n",
    "sph_H,phi1_edges,phi12_edges = np.histogram2d(phi1, phi2,\n",
    "                                              bins=(ra_bins+5,dec_bins), \n",
    "                                              weights=weights, normed=True)\n",
    "phi1_mesh,phi2_mesh = np.meshgrid((phi1_edges[1:]+phi1_edges[:-1])/2, \n",
    "                                  (phi12_edges[1:]+phi12_edges[:-1])/2)\n",
    "\n",
    "sph_H = sph_H.T"
   ]
  },
  {
   "cell_type": "code",
   "execution_count": null,
   "metadata": {
    "collapsed": false
   },
   "outputs": [],
   "source": [
    "pl.figure(figsize=(8,8))\n",
    "pl.pcolormesh(sph_H, cmap='Greys', vmin=vmin, vmax=vmax)\n",
    "\n",
    "x_lims = (70, 145)\n",
    "for l in x_lims:\n",
    "    pl.axvline(l, color='r')"
   ]
  },
  {
   "cell_type": "code",
   "execution_count": null,
   "metadata": {
    "collapsed": true
   },
   "outputs": [],
   "source": [
    "sph_H_cut = sph_H[:, slice(*x_lims)]"
   ]
  },
  {
   "cell_type": "code",
   "execution_count": null,
   "metadata": {
    "collapsed": false
   },
   "outputs": [],
   "source": [
    "pl.figure(figsize=(8,8))\n",
    "pl.pcolormesh(sph_H_cut, cmap='Greys', vmin=vmin, vmax=vmax)\n",
    "pl.gca().set_aspect('equal')\n",
    "\n",
    "slc_lo = 34\n",
    "slc_hi = 44\n",
    "pl.axhline(slc_lo, color='r')\n",
    "pl.axhline(slc_hi, color='r')"
   ]
  },
  {
   "cell_type": "code",
   "execution_count": null,
   "metadata": {
    "collapsed": false
   },
   "outputs": [],
   "source": [
    "from scipy.optimize import curve_fit\n",
    "from scipy.stats import scoreatpercentile\n",
    "from numpy.polynomial.polynomial import polyval"
   ]
  },
  {
   "cell_type": "code",
   "execution_count": null,
   "metadata": {
    "collapsed": false
   },
   "outputs": [],
   "source": [
    "fit_y = np.mean(sph_H_cut[slc_lo:slc_hi], axis=0)\n",
    "fit_x = np.arange(fit_y.size)\n",
    "y_err = 0.05 * fit_y.mean() # 5% of mean\n",
    "\n",
    "# just exponential\n",
    "# def model(x, a, b):\n",
    "#     return a*np.exp(-b*x)\n",
    "# p0 = (scoreatpercentile(fit_y, 95), 0.78E-2) # 0.78 - BY EYE fit\n",
    "\n",
    "# exponential * polynomial\n",
    "def model(x, a, b, c1, c2, c3, c4):\n",
    "    return a*np.exp(-b*x) * polyval(x, c=[c1, c2, c3, c4])\n",
    "p0 = (scoreatpercentile(fit_y, 95), 1E-2, 0, 0, 0, 0)"
   ]
  },
  {
   "cell_type": "code",
   "execution_count": null,
   "metadata": {
    "collapsed": false
   },
   "outputs": [],
   "source": [
    "p_opt, pcov = curve_fit(model, xdata=fit_x, ydata=fit_y, p0=p0, sigma=y_err) "
   ]
  },
  {
   "cell_type": "code",
   "execution_count": null,
   "metadata": {
    "collapsed": false
   },
   "outputs": [],
   "source": [
    "pl.figure(figsize=(10,8))\n",
    "\n",
    "for l,r in zip(range(0,sph_H_cut.shape[0],10), range(10,sph_H_cut.shape[0]+10,10)):\n",
    "    pl.plot(np.mean(sph_H_cut[l:r], axis=0), marker=None)\n",
    "\n",
    "_x = np.linspace(0,sph_H_cut.shape[1],256)\n",
    "pl.plot(_x, model(_x, *p_opt), marker=None, lw=3, ls='--')\n",
    "# pl.plot(_x, p0[0]*np.exp(-5E-3*(_x)), marker=None, lw=3, ls='--')\n",
    "# pl.plot(_x, model(_x, 0.01481421,  9.85E-3, 0.1), marker=None, lw=3, ls='--')\n",
    "\n",
    "pl.ylim(8E-4,8E-2)\n",
    "# pl.xlim(1,100)\n",
    "pl.yscale('log')\n",
    "# pl.xscale('log')"
   ]
  },
  {
   "cell_type": "code",
   "execution_count": null,
   "metadata": {
    "collapsed": false
   },
   "outputs": [],
   "source": [
    "_gridx = np.arange(sph_H_cut.shape[0])\n",
    "_gridy = np.arange(sph_H_cut.shape[1])\n",
    "_xx,_ = np.meshgrid(_gridy,_gridx)\n",
    "model_im = model(_xx, *p_opt)"
   ]
  },
  {
   "cell_type": "code",
   "execution_count": null,
   "metadata": {
    "collapsed": false
   },
   "outputs": [],
   "source": [
    "div_rot_H = (sph_H_cut - model_im)"
   ]
  },
  {
   "cell_type": "code",
   "execution_count": null,
   "metadata": {
    "collapsed": false
   },
   "outputs": [],
   "source": [
    "pl.figure(figsize=(10,8))\n",
    "\n",
    "for l,r in zip(range(0,sph_H_cut.shape[0],10), range(10,sph_H_cut.shape[0]+10,10)):\n",
    "    pl.plot(np.mean(div_rot_H[l:r], axis=0), marker=None)\n",
    "\n",
    "pl.ylim(-0.01,0.01)\n",
    "# pl.xlim(1,100)\n",
    "# pl.yscale('log')\n",
    "# pl.xscale('log')"
   ]
  },
  {
   "cell_type": "code",
   "execution_count": null,
   "metadata": {
    "collapsed": false
   },
   "outputs": [],
   "source": [
    "drH_rav = div_rot_H.ravel()\n",
    "pl.hist(drH_rav, bins=np.linspace(-0.01,0.05,64));\n",
    "\n",
    "dr_vmin,dr_vmax = scoreatpercentile(drH_rav, [15,85])\n",
    "pl.axvline(dr_vmin, color='r')\n",
    "pl.axvline(dr_vmax, color='r')"
   ]
  },
  {
   "cell_type": "code",
   "execution_count": null,
   "metadata": {
    "collapsed": false
   },
   "outputs": [],
   "source": [
    "pl.figure(figsize=(7,7))\n",
    "pl.pcolormesh(np.flipud(div_rot_H), cmap='Greys', vmin=dr_vmin, vmax=0)\n",
    "pl.gca().set_aspect('equal')"
   ]
  },
  {
   "cell_type": "code",
   "execution_count": null,
   "metadata": {
    "collapsed": false
   },
   "outputs": [],
   "source": [
    "pl.figure(figsize=(7,7))\n",
    "\n",
    "H_sigma = (6*u.arcmin / bin_size).decompose().value\n",
    "pl.pcolormesh(gaussian_filter(np.flipud(div_rot_H), H_sigma), \n",
    "              cmap='Greys', vmin=dr_vmin, vmax=dr_vmax)\n",
    "pl.gca().set_aspect('equal')"
   ]
  },
  {
   "cell_type": "code",
   "execution_count": null,
   "metadata": {
    "collapsed": true
   },
   "outputs": [],
   "source": [
    "sub = (slice(60,100), slice(30,120))"
   ]
  },
  {
   "cell_type": "code",
   "execution_count": null,
   "metadata": {
    "collapsed": false
   },
   "outputs": [],
   "source": [
    "pl.figure(figsize=(7,7))\n",
    "\n",
    "H_sigma = (6*u.arcmin / bin_size).decompose().value\n",
    "pl.pcolormesh(gaussian_filter(np.flipud(div_rot_H)[sub], H_sigma), \n",
    "              cmap='Greys', vmin=dr_vmin, vmax=dr_vmax)\n",
    "pl.gca().set_aspect('equal')"
   ]
  },
  {
   "cell_type": "code",
   "execution_count": null,
   "metadata": {
    "collapsed": true
   },
   "outputs": [],
   "source": []
  }
 ],
 "metadata": {
  "kernelspec": {
   "display_name": "Python 3",
   "language": "python",
   "name": "python3"
  },
  "language_info": {
   "codemirror_mode": {
    "name": "ipython",
    "version": 3
   },
   "file_extension": ".py",
   "mimetype": "text/x-python",
   "name": "python",
   "nbconvert_exporter": "python",
   "pygments_lexer": "ipython3",
   "version": "3.5.1"
  }
 },
 "nbformat": 4,
 "nbformat_minor": 0
}