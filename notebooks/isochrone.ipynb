{
 "cells": [
  {
   "cell_type": "code",
   "execution_count": null,
   "metadata": {
    "collapsed": true
   },
   "outputs": [],
   "source": [
    "# Third-party\n",
    "from astropy.io import ascii\n",
    "import astropy.coordinates as coord\n",
    "import astropy.units as u\n",
    "import h5py\n",
    "import matplotlib as mpl\n",
    "import matplotlib.pyplot as pl\n",
    "import numpy as np\n",
    "pl.style.use('apw-notebook')\n",
    "%matplotlib inline\n",
    "from scipy import interpolate\n",
    "from scipy.misc import logsumexp\n",
    "\n",
    "from astroML.utils import log_multivariate_gaussian"
   ]
  },
  {
   "cell_type": "code",
   "execution_count": null,
   "metadata": {
    "collapsed": true
   },
   "outputs": [],
   "source": [
    "DM = 15.6"
   ]
  },
  {
   "cell_type": "code",
   "execution_count": null,
   "metadata": {
    "collapsed": true
   },
   "outputs": [],
   "source": [
    "iso_filename = \"/Users/adrian/projects/globber/data/ngc5897/dartmouth_iso_ps1.dat\"\n",
    "iso = ascii.read(iso_filename, header_start=8)"
   ]
  },
  {
   "cell_type": "code",
   "execution_count": null,
   "metadata": {
    "collapsed": false
   },
   "outputs": [],
   "source": [
    "pl.figure(figsize=(4,8))\n",
    "\n",
    "pl.scatter(iso['gP1']-iso['iP1'], iso['iP1']+DM, alpha=0.5)\n",
    "\n",
    "pl.xlim(0,1.)\n",
    "pl.ylim(21,17.5)"
   ]
  },
  {
   "cell_type": "code",
   "execution_count": null,
   "metadata": {
    "collapsed": false
   },
   "outputs": [],
   "source": [
    "itrp_i = np.linspace(17., 21.5, 128)\n",
    "itrp_gi = interp(itrp_i)"
   ]
  },
  {
   "cell_type": "code",
   "execution_count": null,
   "metadata": {
    "collapsed": false
   },
   "outputs": [],
   "source": [
    "pl.figure(figsize=(4,8))\n",
    "\n",
    "pl.scatter(itrp_gi, itrp_i, alpha=0.5)\n",
    "\n",
    "pl.xlim(0,1.)\n",
    "pl.ylim(21,17.5)"
   ]
  },
  {
   "cell_type": "code",
   "execution_count": null,
   "metadata": {
    "collapsed": false
   },
   "outputs": [],
   "source": [
    "x = np.arange(0,1,0.02)\n",
    "y = np.arange(17.5,21.,0.04)\n",
    "shp = (y.size, x.size)\n",
    "xygrid = np.vstack(list(map(np.ravel,np.meshgrid(x, y)))).T"
   ]
  },
  {
   "cell_type": "code",
   "execution_count": null,
   "metadata": {
    "collapsed": false
   },
   "outputs": [],
   "source": [
    "xymodel = np.vstack((itrp_gi,itrp_i)).T\n",
    "xymodel.shape"
   ]
  },
  {
   "cell_type": "code",
   "execution_count": null,
   "metadata": {
    "collapsed": false
   },
   "outputs": [],
   "source": [
    "h = 0.02\n",
    "\n",
    "V = np.diag([h]*2)**2\n",
    "W = np.array([[1, -1],   # g-i\n",
    "              [0, 1]])  # i magnitude\n",
    "\n",
    "# each covariance C = WCW^T\n",
    "V = np.einsum('mj,jk->mk', W, V)\n",
    "V = np.einsum('lk,mk->ml', W, V)\n",
    "V"
   ]
  },
  {
   "cell_type": "code",
   "execution_count": null,
   "metadata": {
    "collapsed": false
   },
   "outputs": [],
   "source": [
    "ll = log_multivariate_gaussian(xygrid[:,np.newaxis], xymodel[np.newaxis], V)\n",
    "ll = logsumexp(ll, axis=1)\n",
    "ll.shape"
   ]
  },
  {
   "cell_type": "code",
   "execution_count": null,
   "metadata": {
    "collapsed": false
   },
   "outputs": [],
   "source": [
    "pl.figure(figsize=(4,8))\n",
    "\n",
    "pl.pcolormesh(xygrid[:,0].reshape(shp), xygrid[:,1].reshape(shp), \n",
    "              np.exp(ll).reshape(shp), cmap='Blues')\n",
    "\n",
    "pl.xlim(0,1.)\n",
    "pl.ylim(21,17.5)"
   ]
  },
  {
   "cell_type": "markdown",
   "metadata": {},
   "source": [
    "### Check that contrast is highest near turnoff"
   ]
  },
  {
   "cell_type": "code",
   "execution_count": null,
   "metadata": {
    "collapsed": true
   },
   "outputs": [],
   "source": [
    "XCov_filename = \"/Users/adrian/projects/globber/data/ngc5897/XCov_med.h5\""
   ]
  },
  {
   "cell_type": "code",
   "execution_count": null,
   "metadata": {
    "collapsed": false
   },
   "outputs": [],
   "source": [
    "with h5py.File(XCov_filename, \"r\") as f:\n",
    "    bg_X = f['control']['X'][:]\n",
    "    bg_Cov = f['control']['Cov'][:]\n",
    "    \n",
    "    idx = (bg_X[:,0] >= 17.) & (bg_X[:,0] <= 21.5) & (bg_X[:,2] >= -0.1) & (bg_X[:,2] <= 1.1)\n",
    "    bg_X = bg_X[idx]\n",
    "    bg_Cov = bg_Cov[idx]\n",
    "    \n",
    "    bg_X = bg_X[::50,[2,0]]\n",
    "    bg_Cov = bg_Cov[::50,[2,0]][:,:,[2,0]]"
   ]
  },
  {
   "cell_type": "code",
   "execution_count": null,
   "metadata": {
    "collapsed": false
   },
   "outputs": [],
   "source": [
    "pl.figure(figsize=(4,8))\n",
    "\n",
    "pl.plot(bg_X[:,0], bg_X[:,1], alpha=0.4, marker='.', ls='none')\n",
    "\n",
    "pl.xlim(0,1.)\n",
    "pl.ylim(21,17.5)"
   ]
  },
  {
   "cell_type": "code",
   "execution_count": null,
   "metadata": {
    "collapsed": false
   },
   "outputs": [],
   "source": [
    "bg_h = 0.05\n",
    "bg_V = np.diag([bg_h]*2)**2\n",
    "W = np.array([[1, -1],   # g-i\n",
    "              [0, 1]])  # i magnitude\n",
    "\n",
    "# each covariance C = WCW^T\n",
    "bg_V = np.einsum('mj,jk->mk', W, bg_V)\n",
    "bg_V = np.einsum('lk,mk->ml', W, bg_V)\n",
    "bg_V"
   ]
  },
  {
   "cell_type": "code",
   "execution_count": null,
   "metadata": {
    "collapsed": false
   },
   "outputs": [],
   "source": [
    "bg_X[np.newaxis].shape, xygrid[:,np.newaxis].shape, _V[np.newaxis].shape"
   ]
  },
  {
   "cell_type": "code",
   "execution_count": null,
   "metadata": {
    "collapsed": false
   },
   "outputs": [],
   "source": [
    "_V = bg_Cov + bg_V[np.newaxis]\n",
    "bg_ll = log_multivariate_gaussian(bg_X[np.newaxis], xygrid[:,np.newaxis], _V[np.newaxis])\n",
    "bg_ll = logsumexp(bg_ll, axis=1)\n",
    "bg_ll.shape"
   ]
  },
  {
   "cell_type": "code",
   "execution_count": null,
   "metadata": {
    "collapsed": false
   },
   "outputs": [],
   "source": [
    "pl.figure(figsize=(4,8))\n",
    "\n",
    "pl.pcolormesh(xygrid[:,0].reshape(shp), xygrid[:,1].reshape(shp), \n",
    "              np.exp(bg_ll).reshape(shp), cmap='Blues')\n",
    "\n",
    "pl.xlim(0,1.)\n",
    "pl.ylim(21,17.5)"
   ]
  },
  {
   "cell_type": "markdown",
   "metadata": {},
   "source": [
    "## The comparison!"
   ]
  },
  {
   "cell_type": "code",
   "execution_count": null,
   "metadata": {
    "collapsed": false
   },
   "outputs": [],
   "source": [
    "pl.figure(figsize=(4,8))\n",
    "\n",
    "pl.pcolormesh(xygrid[:,0].reshape(shp), xygrid[:,1].reshape(shp), \n",
    "              np.exp(ll - bg_ll).reshape(shp), cmap='Blues')\n",
    "\n",
    "pl.xlim(0,1.)\n",
    "pl.ylim(21,17.5)"
   ]
  },
  {
   "cell_type": "markdown",
   "metadata": {},
   "source": [
    "# ND interpolation of isochrone"
   ]
  },
  {
   "cell_type": "code",
   "execution_count": null,
   "metadata": {
    "collapsed": false
   },
   "outputs": [],
   "source": [
    "_iso = iso[::-1]\n",
    "tck, u = interpolate.splprep([_iso['gP1']-_iso['rP1'],_iso['gP1']-_iso['iP1'],_iso['gP1']-_iso['zP1']], \n",
    "                             u=_iso['iP1'], k=3, s=1E-4)\n",
    "u_fine = np.linspace(u.min(), u.max(), 1024)\n",
    "gr,gi,gz = interpolate.splev(u_fine, tck)\n",
    "\n",
    "# tck, u = interpolate.splprep([_iso['gP1']-_iso['iP1']], \n",
    "#                              u=_iso['iP1'], k=3, s=1E-4)\n",
    "# u_fine = np.linspace(u.min(), u.max(), 1024)\n",
    "# gi = interpolate.splev(u_fine, tck)"
   ]
  },
  {
   "cell_type": "code",
   "execution_count": null,
   "metadata": {
    "collapsed": false
   },
   "outputs": [],
   "source": [
    "pl.figure(figsize=(4,8))\n",
    "\n",
    "pl.scatter(itrp_gi, itrp_i, alpha=0.5, color='k')\n",
    "pl.scatter(gz, u_fine+DM, alpha=0.5, color='r')\n",
    "pl.scatter(gi, u_fine+DM, alpha=0.5, color='g')\n",
    "pl.scatter(gr, u_fine+DM, alpha=0.5, color='b')\n",
    "\n",
    "pl.xlim(0,1.)\n",
    "pl.ylim(21,17.5)"
   ]
  },
  {
   "cell_type": "markdown",
   "metadata": {},
   "source": [
    "## Check multivariate gaussian"
   ]
  },
  {
   "cell_type": "code",
   "execution_count": null,
   "metadata": {
    "collapsed": false
   },
   "outputs": [],
   "source": [
    "bg_h = 0.05\n",
    "bg_V = np.diag([bg_h]*2)**2\n",
    "W = np.array([[1, -1],   # g-i\n",
    "              [0, 1]])  # i magnitude\n",
    "\n",
    "# each covariance C = WCW^T\n",
    "bg_V = np.einsum('mj,jk->mk', W, bg_V)\n",
    "bg_V = np.einsum('lk,mk->ml', W, bg_V)\n",
    "bg_V"
   ]
  },
  {
   "cell_type": "code",
   "execution_count": null,
   "metadata": {
    "collapsed": false
   },
   "outputs": [],
   "source": [
    "_Cov = bg_Cov[:10]\n",
    "_X = bg_X[:10]\n",
    "_Cov.shape, _X.shape"
   ]
  },
  {
   "cell_type": "code",
   "execution_count": null,
   "metadata": {
    "collapsed": false
   },
   "outputs": [],
   "source": [
    "_X2 = xygrid\n",
    "_Cov2 = np.zeros(_X2.shape + (_X2.shape[-1],))\n",
    "_Cov2.shape, _X2.shape"
   ]
  },
  {
   "cell_type": "code",
   "execution_count": null,
   "metadata": {
    "collapsed": false
   },
   "outputs": [],
   "source": [
    "# METHOD 1:\n",
    "_V = _Cov + bg_V[np.newaxis] # uncertainties plus smooth\n",
    "_ll1 = log_multivariate_gaussian(_X[np.newaxis], _X2[:,np.newaxis], _V[np.newaxis])\n",
    "_ll1 = logsumexp(_ll1, axis=1)\n",
    "_ll1.shape"
   ]
  },
  {
   "cell_type": "code",
   "execution_count": null,
   "metadata": {
    "collapsed": false
   },
   "outputs": [],
   "source": [
    "# METHOD 2:\n",
    "_V12 = _Cov[np.newaxis] + _Cov2[:,np.newaxis] + bg_V[np.newaxis,np.newaxis] # uncertainties plus smooth\n",
    "_ll2 = log_multivariate_gaussian(_X[np.newaxis], _X2[:,np.newaxis], _V)\n",
    "_ll2 = logsumexp(_ll2, axis=1)\n",
    "_ll2.shape\n",
    "# print(_V12.shape, _X.shape, _X2.shape, _ll2.shape)"
   ]
  },
  {
   "cell_type": "code",
   "execution_count": null,
   "metadata": {
    "collapsed": false
   },
   "outputs": [],
   "source": [
    "fig,axes = pl.subplots(1,2,figsize=(8,8),sharex=True,sharey=True)\n",
    "\n",
    "axes[0].pcolormesh(xygrid[:,0].reshape(shp), xygrid[:,1].reshape(shp), \n",
    "                   np.exp(_ll1).reshape(shp), cmap='Blues')\n",
    "\n",
    "axes[1].pcolormesh(xygrid[:,0].reshape(shp), xygrid[:,1].reshape(shp), \n",
    "                   np.exp(_ll2).reshape(shp), cmap='Blues')\n",
    "\n",
    "pl.xlim(0,1.)\n",
    "pl.ylim(21,17.5)"
   ]
  },
  {
   "cell_type": "markdown",
   "metadata": {},
   "source": [
    "## Check isochrone func"
   ]
  },
  {
   "cell_type": "code",
   "execution_count": null,
   "metadata": {
    "collapsed": true
   },
   "outputs": [],
   "source": [
    "XCov_filename2 = \"/Users/adrian/projects/globber/data/ngc5897/XCov.h5\"\n",
    "\n",
    "with h5py.File(XCov_filename2, \"r\") as f:\n",
    "    _X = f['isochrone']['X'][:]"
   ]
  },
  {
   "cell_type": "code",
   "execution_count": null,
   "metadata": {
    "collapsed": false
   },
   "outputs": [],
   "source": [
    "fig,axes = pl.subplots(1,4,figsize=(15,5), sharey=True)\n",
    "\n",
    "DERPS = [_iso['gP1']-_iso['rP1'],_iso['gP1']-_iso['iP1'],_iso['gP1']-_iso['zP1'],_iso['rP1']-_iso['zP1']]\n",
    "\n",
    "for i in range(1,4+1):\n",
    "    axes[i-1].plot(_X[:,i], _X[:,0]+DM, ls='none', alpha=0.4)\n",
    "    axes[i-1].plot(DERPS[i-1], _iso['iP1']+DM, ls='none', alpha=0.4)\n",
    "    \n",
    "axes[0].set_ylim(22,14)"
   ]
  },
  {
   "cell_type": "code",
   "execution_count": null,
   "metadata": {
    "collapsed": true
   },
   "outputs": [],
   "source": []
  }
 ],
 "metadata": {
  "kernelspec": {
   "display_name": "Python 3",
   "language": "python",
   "name": "python3"
  },
  "language_info": {
   "codemirror_mode": {
    "name": "ipython",
    "version": 3
   },
   "file_extension": ".py",
   "mimetype": "text/x-python",
   "name": "python",
   "nbconvert_exporter": "python",
   "pygments_lexer": "ipython3",
   "version": "3.5.1"
  }
 },
 "nbformat": 4,
 "nbformat_minor": 0
}