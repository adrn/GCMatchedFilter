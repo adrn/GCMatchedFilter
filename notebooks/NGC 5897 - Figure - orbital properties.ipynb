{
 "cells": [
  {
   "cell_type": "code",
   "execution_count": null,
   "metadata": {
    "collapsed": true
   },
   "outputs": [],
   "source": [
    "import os\n",
    "\n",
    "# Third-party\n",
    "from astropy.io import ascii\n",
    "from astropy import table\n",
    "import astropy.coordinates as coord\n",
    "import astropy.units as u\n",
    "import numpy as np\n",
    "import matplotlib as mpl\n",
    "import matplotlib.pyplot as pl\n",
    "pl.style.use('apw-notebook')\n",
    "%matplotlib inline\n",
    "\n",
    "import gary.coordinates as gc\n",
    "import gary.dynamics as gd\n",
    "import gary.potential as gp\n",
    "from gary.observation import distance_modulus\n",
    "from gary.dynamics.orbit import combine as combine_orbit\n",
    "from gary.dynamics.core import combine as combine_ps\n",
    "\n",
    "from ophiuchus import galactocentric_frame, vcirc, vlsr\n",
    "import ophiuchus.potential as op\n",
    "pot = op.load_potential('static_mw')"
   ]
  },
  {
   "cell_type": "code",
   "execution_count": null,
   "metadata": {
    "collapsed": false
   },
   "outputs": [],
   "source": [
    "catalog_data_path = \"/Users/adrian/projects/globber/data/gc_catalogs/\"\n",
    "data_path = \"/Users/adrian/projects/globber/data/ngc5897/\"\n",
    "plot_path = \"/Users/adrian/projects/globber/figures/ngc5897\"\n",
    "if not os.path.exists(plot_path):\n",
    "    os.makedirs(plot_path)"
   ]
  },
  {
   "cell_type": "code",
   "execution_count": null,
   "metadata": {
    "collapsed": false
   },
   "outputs": [],
   "source": [
    "# Global configuration stuff\n",
    "cluster_name = \"NGC 5897\"\n",
    "DM = 15.62 # Brani's fit\n",
    "nsamples = 1024"
   ]
  },
  {
   "cell_type": "code",
   "execution_count": null,
   "metadata": {
    "collapsed": false
   },
   "outputs": [],
   "source": [
    "pm_gc_main = np.genfromtxt(os.path.join(catalog_data_path,\"gl_2012_J2000.cat1.txt\"), dtype=None, \n",
    "                           skip_header=2, \n",
    "                           usecols=[0,2,3,6,7,8,9,10,11,12,13],\n",
    "                           names=['ngc_num','ra','dec','dist','dist_err','mu_ra','mu_ra_err',\n",
    "                                  'mu_dec','mu_dec_err', 'vr', 'vr_err'])\n",
    "\n",
    "pm_gc_main = table.Table(pm_gc_main)\n",
    "\n",
    "go = ascii.read(os.path.join(catalog_data_path,\"go97_table1.txt\"))\n",
    "\n",
    "all_gc = pm_gc_main\n",
    "all_gc['name'] = np.array([\"NGC {}\".format(x) for x in all_gc['ngc_num']])\n",
    "all_gc = table.join(all_gc, go, keys='name')\n",
    "\n",
    "cluster = all_gc[all_gc['name'] == cluster_name]\n",
    "cluster_c = coord.SkyCoord(ra=float(cluster['ra'])*u.degree,\n",
    "                           dec=float(cluster['dec'])*u.degree,\n",
    "                           distance=float(cluster['dist'])*u.kpc)"
   ]
  },
  {
   "cell_type": "code",
   "execution_count": null,
   "metadata": {
    "collapsed": true
   },
   "outputs": [],
   "source": [
    "xyz = cluster_c.transform_to(galactocentric_frame).cartesian.xyz\n",
    "vxyz = gc.vhel_to_gal(cluster_c, pm=(cluster['mu_ra']*u.mas/u.yr,\n",
    "                                     cluster['mu_dec']*u.mas/u.yr),\n",
    "                      rv=cluster['vr']*u.km/u.s, \n",
    "                      galactocentric_frame=galactocentric_frame,\n",
    "                      vcirc=vcirc, vlsr=vlsr)"
   ]
  },
  {
   "cell_type": "code",
   "execution_count": null,
   "metadata": {
    "collapsed": true
   },
   "outputs": [],
   "source": [
    "np.random.seed(42)\n",
    "_distances = np.random.normal(cluster['dist'], cluster['dist_err'], size=nsamples)\n",
    "cluster_samples_c = coord.ICRS(ra=(np.zeros(nsamples) + cluster['ra'])*u.degree,\n",
    "                               dec=(np.zeros(nsamples) + cluster['dec'])*u.degree,\n",
    "                               distance=_distances*u.kpc)\n",
    "\n",
    "_mu_ras = np.random.normal(cluster['mu_ra'], cluster['mu_ra_err'], size=nsamples)\n",
    "_mu_decs = np.random.normal(cluster['mu_dec'], cluster['mu_dec_err'], size=nsamples)\n",
    "_vrs = np.random.normal(cluster['vr'], cluster['vr_err'], size=nsamples)\n",
    "\n",
    "# ---\n",
    "samples_xyz = cluster_samples_c.transform_to(galactocentric_frame).cartesian.xyz\n",
    "samples_vxyz = gc.vhel_to_gal(cluster_samples_c, \n",
    "                              pm=(_mu_ras*u.mas/u.yr, _mu_decs*u.mas/u.yr),\n",
    "                              rv=_vrs*u.km/u.s, \n",
    "                              galactocentric_frame=galactocentric_frame,\n",
    "                              vcirc=vcirc, vlsr=vlsr)"
   ]
  },
  {
   "cell_type": "code",
   "execution_count": null,
   "metadata": {
    "collapsed": false
   },
   "outputs": [],
   "source": [
    "w0 = gd.CartesianPhaseSpacePosition(pos=xyz, vel=vxyz)\n",
    "mean_orbit = pot.integrate_orbit(w0, dt=-0.5, nsteps=12000)\n",
    "\n",
    "_w0 = gd.CartesianPhaseSpacePosition(pos=samples_xyz, vel=samples_vxyz)\n",
    "all_w0 = combine_ps((w0,_w0))\n",
    "orbit = pot.integrate_orbit(all_w0, dt=-0.5, nsteps=12000)"
   ]
  },
  {
   "cell_type": "markdown",
   "metadata": {},
   "source": [
    "### Compute orbital properties"
   ]
  },
  {
   "cell_type": "code",
   "execution_count": null,
   "metadata": {
    "collapsed": true
   },
   "outputs": [],
   "source": [
    "pers = [orbit[:,i].pericenter().value for i in range(nsamples)] * u.kpc\n",
    "apos = [orbit[:,i].apocenter().value for i in range(nsamples)] * u.kpc\n",
    "eccs = (apos - pers) / (apos + pers)"
   ]
  },
  {
   "cell_type": "code",
   "execution_count": null,
   "metadata": {
    "collapsed": true
   },
   "outputs": [],
   "source": [
    "pers_xyz = np.zeros((3,len(pers)))\n",
    "pers_xyz[0] = pers.value\n",
    "pers_xyz = pers_xyz*u.kpc\n",
    "mx = pot.mass_enclosed(pers_xyz)\n",
    "\n",
    "pers_xyz = np.zeros((3,len(pers)))\n",
    "pers_xyz[2] = pers.value\n",
    "pers_xyz = pers_xyz*u.kpc\n",
    "mz = pot.mass_enclosed(pers_xyz)\n",
    "\n",
    "rtide_x = pers.to(u.pc) * (cluster['M'] / (3*mx))**(1/3.)\n",
    "rtide_z = pers.to(u.pc) * (cluster['M'] / (3*mz))**(1/3.)\n",
    "peri_rtide = np.mean(np.vstack((rtide_x, rtide_z)).value*rtide_z.unit, axis=0)\n",
    "\n",
    "core_radius = cluster['Rc']*u.pc"
   ]
  },
  {
   "cell_type": "code",
   "execution_count": null,
   "metadata": {
    "collapsed": false
   },
   "outputs": [],
   "source": [
    "fig,axes = pl.subplots(2,2,figsize=(8,6))\n",
    "\n",
    "axes[0,0].hist(pers, bins=np.linspace(0,10,16))\n",
    "axes[0,0].set_xlabel(r\"$r_p$ [kpc]\")\n",
    "\n",
    "axes[0,1].hist(apos, bins=np.linspace(5,25,16))\n",
    "axes[0,1].set_xlabel(r\"$r_a$ [kpc]\")\n",
    "\n",
    "axes[1,0].hist(eccs, bins=np.linspace(0,1,16))\n",
    "axes[1,0].set_xlabel(r\"$e$\")\n",
    "\n",
    "axes[1,1].hist(peri_rtide / core_radius, bins=np.linspace(0.5,10.,16));\n",
    "axes[1,1].set_xlabel(r\"$\\mathcal{R}$\")\n",
    "\n",
    "fig.tight_layout()\n",
    "fig.savefig(os.path.join(plot_path, \"orbital-props.pdf\"))"
   ]
  },
  {
   "cell_type": "code",
   "execution_count": null,
   "metadata": {
    "collapsed": true
   },
   "outputs": [],
   "source": []
  }
 ],
 "metadata": {
  "kernelspec": {
   "display_name": "Python 3",
   "language": "python",
   "name": "python3"
  },
  "language_info": {
   "codemirror_mode": {
    "name": "ipython",
    "version": 3
   },
   "file_extension": ".py",
   "mimetype": "text/x-python",
   "name": "python",
   "nbconvert_exporter": "python",
   "pygments_lexer": "ipython3",
   "version": "3.5.1"
  }
 },
 "nbformat": 4,
 "nbformat_minor": 0
}