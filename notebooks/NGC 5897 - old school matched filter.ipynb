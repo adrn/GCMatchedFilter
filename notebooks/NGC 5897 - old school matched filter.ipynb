{
 "cells": [
  {
   "cell_type": "code",
   "execution_count": null,
   "metadata": {
    "collapsed": true
   },
   "outputs": [],
   "source": [
    "import os\n",
    "import pickle\n",
    "import sys\n",
    "\n",
    "# Third-party\n",
    "from astropy.io import ascii\n",
    "import astropy.coordinates as coord\n",
    "import astropy.table as table\n",
    "import astropy.units as u\n",
    "import numpy as np\n",
    "import matplotlib as mpl\n",
    "import matplotlib.pyplot as pl\n",
    "pl.style.use('apw-notebook')\n",
    "%matplotlib inline\n",
    "from astropy.io.fits import getdata\n",
    "from scipy.misc import logsumexp\n",
    "from scipy.ndimage import gaussian_filter\n",
    "from scipy import interpolate\n",
    "from scipy.stats import scoreatpercentile\n",
    "from astroML.utils import log_multivariate_gaussian\n",
    "import h5py"
   ]
  },
  {
   "cell_type": "code",
   "execution_count": null,
   "metadata": {
    "collapsed": true
   },
   "outputs": [],
   "source": [
    "XCov_filename = \"/Users/adrian/projects/globber/data/ngc5897/XCov_lg.h5\""
   ]
  },
  {
   "cell_type": "code",
   "execution_count": null,
   "metadata": {
    "collapsed": true
   },
   "outputs": [],
   "source": [
    "cluster_c = coord.SkyCoord(ra=229.352*u.degree,\n",
    "                           dec=-21.01*u.degree)"
   ]
  },
  {
   "cell_type": "code",
   "execution_count": null,
   "metadata": {
    "collapsed": false
   },
   "outputs": [],
   "source": [
    "with h5py.File(XCov_filename, \"r\") as f:\n",
    "    allX = f['search']['X'][:]\n",
    "    pre_filter_ix = (allX[:,0] > 18.) & (allX[:,0] < 21.) & (allX[:,1] > 0.) & (allX[:,1] < 1.)\n",
    "    \n",
    "    allX = allX[pre_filter_ix]\n",
    "    ra = f['search']['ra'][:][pre_filter_ix]\n",
    "    dec = f['search']['dec'][:][pre_filter_ix]\n",
    "    cluX = f['cluster']['X'][:]\n",
    "    \n",
    "all_c = coord.SkyCoord(ra=ra*u.degree, dec=dec*u.degree)"
   ]
  },
  {
   "cell_type": "code",
   "execution_count": null,
   "metadata": {
    "collapsed": false
   },
   "outputs": [],
   "source": [
    "pl.figure(figsize=(8,6))\n",
    "pl.plot(ra, dec, ls='none', marker=',', alpha=0.05)\n",
    "pl.gca().set_aspect('equal')\n",
    "pl.xlim(pl.xlim()[::-1])"
   ]
  },
  {
   "cell_type": "code",
   "execution_count": null,
   "metadata": {
    "collapsed": true
   },
   "outputs": [],
   "source": [
    "cluster_ix = all_c.separation(cluster_c) < 10*u.arcmin"
   ]
  },
  {
   "cell_type": "code",
   "execution_count": null,
   "metadata": {
    "collapsed": true
   },
   "outputs": [],
   "source": [
    "def search_field(ra, dec):\n",
    "    ix1 = (ra > 222) & (ra < 235) & (dec < -17) & (dec > -24)\n",
    "    return ix1\n",
    "search_ix = search_field(ra, dec)"
   ]
  },
  {
   "cell_type": "code",
   "execution_count": null,
   "metadata": {
    "collapsed": true
   },
   "outputs": [],
   "source": [
    "# def control_field(ra, dec):\n",
    "#     ix1 = (ra > 228) & (ra < 232) & (dec < -24) & (dec > -26)\n",
    "#     ix2 = (ra > 228) & (ra < 232) & (dec < -17) & (dec > -19)\n",
    "#     return ix1 | ix2\n",
    "# control_ix = control_field(ra, dec)\n",
    "\n",
    "control_ix = search_ix & np.logical_not(cluster_ix)"
   ]
  },
  {
   "cell_type": "code",
   "execution_count": null,
   "metadata": {
    "collapsed": false
   },
   "outputs": [],
   "source": [
    "pl.figure(figsize=(8,6))\n",
    "\n",
    "pl.plot(ra, dec, ls='none', marker=',', alpha=0.1)\n",
    "pl.plot(ra[search_ix], dec[search_ix], ls='none', marker=',', alpha=0.1, color='g')\n",
    "pl.plot(ra[control_ix], dec[control_ix], ls='none', marker=',', alpha=0.1, color='r')\n",
    "\n",
    "pl.gca().set_aspect('equal')\n",
    "pl.xlim(235,220)\n",
    "pl.ylim(-26,-16)"
   ]
  },
  {
   "cell_type": "code",
   "execution_count": null,
   "metadata": {
    "collapsed": true
   },
   "outputs": [],
   "source": [
    "searchX = allX[search_ix]"
   ]
  },
  {
   "cell_type": "markdown",
   "metadata": {},
   "source": [
    "---"
   ]
  },
  {
   "cell_type": "code",
   "execution_count": null,
   "metadata": {
    "collapsed": false
   },
   "outputs": [],
   "source": [
    "gi_step = 0.04\n",
    "i_step = 0.08\n",
    "gi_bins = np.arange(0.0,0.5+step,gi_step)\n",
    "i_bins = np.arange(18,21+step,i_step)\n",
    "\n",
    "cluster_H,g_edges,gi_edges = np.histogram2d(cluX[:,1], cluX[:,0], bins=(gi_bins, i_bins))\n",
    "control_H,g_edges,gi_edges = np.histogram2d(allX[control_ix,1], allX[control_ix,0], bins=(gi_bins, i_bins))\n",
    "\n",
    "i_mesh,gi_mesh = np.meshgrid((i_bins[1:]+i_bins[:-1])/2, (gi_bins[1:]+gi_bins[:-1])/2)"
   ]
  },
  {
   "cell_type": "code",
   "execution_count": null,
   "metadata": {
    "collapsed": false
   },
   "outputs": [],
   "source": [
    "print(cluster_H.min(), cluster_H.max())\n",
    "print(control_H.min(), control_H.max())"
   ]
  },
  {
   "cell_type": "code",
   "execution_count": null,
   "metadata": {
    "collapsed": false
   },
   "outputs": [],
   "source": [
    "fig,axes = pl.subplots(1,3,figsize=(10,6),sharex=True,sharey=True)\n",
    "\n",
    "ax = axes[0]\n",
    "ax.pcolormesh(gi_mesh, i_mesh, cluster_H, cmap='Blues')\n",
    "ax.set_xlim(gi_bins.min(), gi_bins.max())\n",
    "ax.set_ylim(i_bins.max(), i_bins.min())\n",
    "ax.set_xlabel('$g-i$')\n",
    "ax.set_ylabel('$i$')\n",
    "\n",
    "ax = axes[1]\n",
    "ax.pcolormesh(gi_mesh, i_mesh, control_H, cmap='Blues')\n",
    "ax.set_xlabel('$g-i$')\n",
    "\n",
    "ax = axes[2]\n",
    "\n",
    "div = (cluster_H / cluster_H.sum()) / (control_H / control_H.sum())\n",
    "div[~np.isfinite(div)] = 0.\n",
    "# div = gaussian_filter(div, sigma=[0.04/i_step,0.04/gi_step][::-1])\n",
    "ax.pcolormesh(gi_mesh, i_mesh, div, cmap='Blues')\n",
    "ax.set_xlabel('$g-i$')\n",
    "\n",
    "# fig.colorbar()"
   ]
  },
  {
   "cell_type": "code",
   "execution_count": null,
   "metadata": {
    "collapsed": false
   },
   "outputs": [],
   "source": [
    "spl = interpolate.SmoothBivariateSpline(gi_mesh.ravel(), i_mesh.ravel(), \n",
    "                                        control_H.ravel()/control_H.sum(), kx=5, ky=5)\n",
    "spl_control_H = spl.ev(gi_mesh.ravel(), i_mesh.ravel())\n",
    "spl_control_H = spl_control_H.reshape(gi_mesh.shape)"
   ]
  },
  {
   "cell_type": "code",
   "execution_count": null,
   "metadata": {
    "collapsed": false
   },
   "outputs": [],
   "source": [
    "fig,axes = pl.subplots(1,3,figsize=(10,6),sharex=True,sharey=True)\n",
    "\n",
    "ax = axes[0]\n",
    "ax.pcolormesh(gi_mesh, i_mesh, cluster_H, cmap='Blues')\n",
    "ax.set_xlim(gi_bins.min(), gi_bins.max())\n",
    "ax.set_ylim(i_bins.max(), i_bins.min())\n",
    "ax.set_xlabel('$g-i$')\n",
    "ax.set_ylabel('$i$')\n",
    "\n",
    "ax = axes[1]\n",
    "ax.pcolormesh(gi_mesh, i_mesh, spl_control_H, cmap='Blues')\n",
    "ax.set_xlabel('$g-i$')\n",
    "\n",
    "ax = axes[2]\n",
    "\n",
    "div = (cluster_H/cluster_H.sum()) / spl_control_H\n",
    "# div[~np.isfinite(div)] = 0.\n",
    "# # div = gaussian_filter(div, sigma=[0.04/i_step,0.04/gi_step][::-1])\n",
    "ax.pcolormesh(gi_mesh, i_mesh, div, cmap='Blues', vmin=0, vmax=10)\n",
    "ax.set_xlabel('$g-i$')"
   ]
  },
  {
   "cell_type": "code",
   "execution_count": null,
   "metadata": {
    "collapsed": true
   },
   "outputs": [],
   "source": [
    "matched_filter = div.copy()\n",
    "matched_filter[(gi_mesh < 0.101) | (i_mesh < 18.85)] = 0.\n",
    "matched_filter = gaussian_filter(matched_filter, sigma=[0.02/i_step,0.02/gi_step][::-1])"
   ]
  },
  {
   "cell_type": "code",
   "execution_count": null,
   "metadata": {
    "collapsed": false
   },
   "outputs": [],
   "source": [
    "fig,ax = pl.subplots(1,1,figsize=(3,6))\n",
    "\n",
    "ax.pcolormesh(gi_mesh, i_mesh, matched_filter, cmap='Blues')\n",
    "ax.set_xlim(gi_bins.min(), gi_bins.max())\n",
    "ax.set_ylim(i_bins.max(), i_bins.min())\n",
    "ax.set_xlabel('$g-i$')\n",
    "ax.set_ylabel('$i$')"
   ]
  },
  {
   "cell_type": "code",
   "execution_count": null,
   "metadata": {
    "collapsed": false
   },
   "outputs": [],
   "source": [
    "print(search_ix.sum())"
   ]
  },
  {
   "cell_type": "code",
   "execution_count": null,
   "metadata": {
    "collapsed": false,
    "scrolled": true
   },
   "outputs": [],
   "source": [
    "weights = np.zeros(search_ix.sum())\n",
    "for i in range(weights.size):\n",
    "    derp,_,_ = np.histogram2d(searchX[i:i+1,1], searchX[i:i+1,0], \n",
    "                              bins=(gi_bins, i_bins))\n",
    "    weights[i] = (derp * matched_filter).sum()\n",
    "    if (i % 10000) == 0:\n",
    "        print(i)"
   ]
  },
  {
   "cell_type": "code",
   "execution_count": null,
   "metadata": {
    "collapsed": false
   },
   "outputs": [],
   "source": [
    "search_H,g_edges,gi_edges = np.histogram2d(searchX[:,1], searchX[:,0], \n",
    "                                           bins=(gi_bins, i_bins), weights=weights)"
   ]
  },
  {
   "cell_type": "code",
   "execution_count": null,
   "metadata": {
    "collapsed": false
   },
   "outputs": [],
   "source": [
    "fig,ax = pl.subplots(1,1,figsize=(3,6))\n",
    "\n",
    "ax.pcolormesh(gi_mesh, i_mesh, search_H, cmap='Blues')\n",
    "ax.set_xlim(gi_bins.min(), gi_bins.max())\n",
    "ax.set_ylim(i_bins.max(), i_bins.min())\n",
    "ax.set_xlabel('$g-i$')\n",
    "ax.set_ylabel('$i$')"
   ]
  },
  {
   "cell_type": "markdown",
   "metadata": {},
   "source": [
    "---"
   ]
  },
  {
   "cell_type": "code",
   "execution_count": null,
   "metadata": {
    "collapsed": true
   },
   "outputs": [],
   "source": [
    "sky_binsize = (6*u.arcmin).to(u.degree).value\n",
    "sky_smooth = (8*u.arcmin).to(u.degree).value / sky_binsize\n",
    "\n",
    "search_ra = ra[search_ix]\n",
    "search_dec = dec[search_ix]\n",
    "ra_bins = np.arange(search_ra.min(), search_ra.max()+sky_binsize, sky_binsize)\n",
    "dec_bins = np.arange(search_dec.min(), search_dec.max()+sky_binsize, sky_binsize)"
   ]
  },
  {
   "cell_type": "code",
   "execution_count": null,
   "metadata": {
    "collapsed": true
   },
   "outputs": [],
   "source": [
    "search_H_sky,ra_edges,dec_edges = np.histogram2d(search_ra, search_dec,\n",
    "                                                 bins=(ra_bins, dec_bins), \n",
    "                                                 weights=weights)\n",
    "\n",
    "unw_search_H_sky,ra_edges,dec_edges = np.histogram2d(search_ra, search_dec,\n",
    "                                                     bins=(ra_bins, dec_bins))\n",
    "\n",
    "search_H_sky = search_H_sky.T\n",
    "unw_search_H_sky = unw_search_H_sky.T\n",
    "# search_H_sky /= unw_search_H_sky\n",
    "\n",
    "ra_mesh,dec_mesh = np.meshgrid((ra_edges[1:]+ra_edges[:-1])/2, (dec_edges[1:]+dec_edges[:-1])/2)"
   ]
  },
  {
   "cell_type": "code",
   "execution_count": null,
   "metadata": {
    "collapsed": true
   },
   "outputs": [],
   "source": [
    "H_operation = lambda x: x**2"
   ]
  },
  {
   "cell_type": "code",
   "execution_count": null,
   "metadata": {
    "collapsed": false
   },
   "outputs": [],
   "source": [
    "tmp = H_operation(search_H_sky.ravel())\n",
    "bins = np.linspace(*scoreatpercentile(tmp, [1,99]), num=32)\n",
    "pl.hist(tmp, bins=bins);\n",
    "\n",
    "vmin,vmax = scoreatpercentile(tmp, [10,75])\n",
    "pl.axvline(vmin, color='r')\n",
    "pl.axvline(vmax, color='r')"
   ]
  },
  {
   "cell_type": "code",
   "execution_count": null,
   "metadata": {
    "collapsed": false
   },
   "outputs": [],
   "source": [
    "fig,axes = pl.subplots(1,2,figsize=(15,6),sharex=True,sharey=True)\n",
    "\n",
    "ax = axes[0]\n",
    "ax.pcolormesh(ra_mesh, dec_mesh, H_operation(search_H_sky), \n",
    "              cmap='Greys', vmin=vmin, vmax=vmax)\n",
    "\n",
    "pa = mpl.patches.Circle((cluster_c.ra.degree, cluster_c.dec.degree), radius=(7*u.arcmin).to(u.degree).value,\n",
    "                        edgecolor='r', facecolor='none')\n",
    "ax.add_patch(pa)\n",
    "\n",
    "ax.set_xlim(ra_mesh.max(), ra_mesh.min())\n",
    "ax.set_ylim(dec_mesh.min(), dec_mesh.max())\n",
    "ax.set_xlabel('RA [deg]')\n",
    "ax.set_ylabel('Dec [deg]')\n",
    "ax.set_aspect('equal')\n",
    "\n",
    "ax = axes[1]\n",
    "ax.pcolormesh(ra_mesh, dec_mesh, gaussian_filter(H_operation(search_H_sky), sky_smooth), \n",
    "              cmap='Greys', vmin=vmin, vmax=vmax)\n",
    "\n",
    "pa = mpl.patches.Circle((cluster_c.ra.degree, cluster_c.dec.degree), radius=(7*u.arcmin).to(u.degree).value,\n",
    "                        edgecolor='r', facecolor='none')\n",
    "ax.add_patch(pa)\n",
    "\n",
    "ax.set_xlim(ra_mesh.max(), ra_mesh.min())\n",
    "ax.set_ylim(dec_mesh.min(), dec_mesh.max())\n",
    "ax.set_xlabel('RA [deg]')\n",
    "ax.set_aspect('equal')"
   ]
  },
  {
   "cell_type": "code",
   "execution_count": null,
   "metadata": {
    "collapsed": false
   },
   "outputs": [],
   "source": [
    "tmp = np.log10(search_H_sky.ravel())\n",
    "fig,ax = pl.subplots(1,1,figsize=(6,6),sharex=True,sharey=True)\n",
    "\n",
    "ax.contour(ra_mesh, dec_mesh, search_H_sky, levels=10**np.linspace(tmp.max()-2.,tmp.max(),12), colors='k') # cmap='magma_r',\n",
    "\n",
    "# ax.set_xlim(ra_mesh.max(), ra_mesh.min())\n",
    "# ax.set_ylim(dec_mesh.min(), dec_mesh.max())\n",
    "\n",
    "ax.set_xlim(cluster_c.ra.degree + 1, cluster_c.ra.degree - 1)\n",
    "ax.set_ylim(cluster_c.dec.degree - 1, cluster_c.dec.degree + 1)\n",
    "\n",
    "ax.set_xlabel('RA [deg]')\n",
    "ax.set_ylabel('Dec [deg]')\n",
    "ax.set_aspect('equal')"
   ]
  },
  {
   "cell_type": "code",
   "execution_count": null,
   "metadata": {
    "collapsed": true
   },
   "outputs": [],
   "source": []
  }
 ],
 "metadata": {
  "kernelspec": {
   "display_name": "Python 3",
   "language": "python",
   "name": "python3"
  },
  "language_info": {
   "codemirror_mode": {
    "name": "ipython",
    "version": 3
   },
   "file_extension": ".py",
   "mimetype": "text/x-python",
   "name": "python",
   "nbconvert_exporter": "python",
   "pygments_lexer": "ipython3",
   "version": "3.5.1"
  }
 },
 "nbformat": 4,
 "nbformat_minor": 0
}