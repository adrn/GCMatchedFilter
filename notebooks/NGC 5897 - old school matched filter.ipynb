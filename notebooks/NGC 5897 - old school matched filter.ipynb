{
 "cells": [
  {
   "cell_type": "code",
   "execution_count": null,
   "metadata": {
    "collapsed": true
   },
   "outputs": [],
   "source": [
    "import os\n",
    "import pickle\n",
    "import sys\n",
    "\n",
    "# Third-party\n",
    "from astropy.io import ascii\n",
    "import astropy.coordinates as coord\n",
    "import astropy.table as table\n",
    "import astropy.units as u\n",
    "import numpy as np\n",
    "import matplotlib as mpl\n",
    "import matplotlib.pyplot as pl\n",
    "pl.style.use('apw-notebook')\n",
    "%matplotlib inline\n",
    "from astropy.io.fits import getdata\n",
    "from scipy.misc import logsumexp\n",
    "from scipy.ndimage import gaussian_filter\n",
    "from scipy import interpolate\n",
    "from scipy.stats import scoreatpercentile\n",
    "from astroML.utils import log_multivariate_gaussian\n",
    "import h5py"
   ]
  },
  {
   "cell_type": "code",
   "execution_count": null,
   "metadata": {
    "collapsed": true
   },
   "outputs": [],
   "source": [
    "XCov_filename = \"/Users/adrian/projects/globber/data/ngc5897/XCov_lg.h5\""
   ]
  },
  {
   "cell_type": "code",
   "execution_count": null,
   "metadata": {
    "collapsed": false
   },
   "outputs": [],
   "source": [
    "cluster_c = coord.SkyCoord(ra=229.352*u.degree,\n",
    "                           dec=-21.01*u.degree)\n",
    "r_c = (7.24*u.pc / (12.5*u.kpc)).to(u.arcmin, equivalencies=u.dimensionless_angles())\n",
    "r_t = (44*u.pc / (12.5*u.kpc)).to(u.arcmin, equivalencies=u.dimensionless_angles())\n",
    "print(r_c, r_t)"
   ]
  },
  {
   "cell_type": "code",
   "execution_count": null,
   "metadata": {
    "collapsed": false
   },
   "outputs": [],
   "source": [
    "with h5py.File(XCov_filename, \"r\") as f:\n",
    "    allX = f['search']['X'][:]\n",
    "    pre_filter_ix = (allX[:,0] > 18.) & (allX[:,0] < 21.) & (allX[:,1] > 0.) & (allX[:,1] < 1.)\n",
    "    \n",
    "    allX = allX[pre_filter_ix]\n",
    "    ra = f['search']['ra'][:][pre_filter_ix]\n",
    "    dec = f['search']['dec'][:][pre_filter_ix]\n",
    "    cluX = f['cluster']['X'][:]\n",
    "    \n",
    "all_c = coord.SkyCoord(ra=ra*u.degree, dec=dec*u.degree)"
   ]
  },
  {
   "cell_type": "code",
   "execution_count": null,
   "metadata": {
    "collapsed": false
   },
   "outputs": [],
   "source": [
    "pl.figure(figsize=(8,6))\n",
    "pl.plot(ra, dec, ls='none', marker=',', alpha=0.05)\n",
    "pl.gca().set_aspect('equal')\n",
    "pl.xlim(pl.xlim()[::-1])"
   ]
  },
  {
   "cell_type": "code",
   "execution_count": null,
   "metadata": {
    "collapsed": true
   },
   "outputs": [],
   "source": [
    "cluster_ix = all_c.separation(cluster_c) < 10*u.arcmin"
   ]
  },
  {
   "cell_type": "code",
   "execution_count": null,
   "metadata": {
    "collapsed": true
   },
   "outputs": [],
   "source": [
    "def search_field(ra, dec):\n",
    "    ix1 = (ra > 215) & (ra < 240) & (dec < -17) & (dec > -30)\n",
    "    return ix1\n",
    "search_ix = search_field(ra, dec)"
   ]
  },
  {
   "cell_type": "code",
   "execution_count": null,
   "metadata": {
    "collapsed": true
   },
   "outputs": [],
   "source": [
    "# def control_field(ra, dec):\n",
    "#     ix1 = (ra > 228) & (ra < 232) & (dec < -24) & (dec > -26)\n",
    "#     ix2 = (ra > 228) & (ra < 232) & (dec < -17) & (dec > -19)\n",
    "#     return ix1 | ix2\n",
    "# control_ix = control_field(ra, dec)\n",
    "\n",
    "control_ix = search_ix & np.logical_not(cluster_ix)"
   ]
  },
  {
   "cell_type": "code",
   "execution_count": null,
   "metadata": {
    "collapsed": false,
    "scrolled": true
   },
   "outputs": [],
   "source": [
    "pl.figure(figsize=(8,6))\n",
    "\n",
    "pl.plot(ra, dec, ls='none', marker=',', alpha=0.1)\n",
    "pl.plot(ra[search_ix], dec[search_ix], ls='none', marker=',', alpha=0.1, color='g')\n",
    "pl.plot(ra[control_ix], dec[control_ix], ls='none', marker=',', alpha=0.1, color='r')\n",
    "\n",
    "pl.gca().set_aspect('equal')\n",
    "pl.xlim(pl.xlim()[::-1])\n",
    "# pl.xlim(235,220)\n",
    "# pl.ylim(-26,-16)"
   ]
  },
  {
   "cell_type": "code",
   "execution_count": null,
   "metadata": {
    "collapsed": true
   },
   "outputs": [],
   "source": [
    "searchX = allX[search_ix]"
   ]
  },
  {
   "cell_type": "markdown",
   "metadata": {},
   "source": [
    "## Offset in distance modulus"
   ]
  },
  {
   "cell_type": "markdown",
   "metadata": {},
   "source": [
    " TODO: a script that does this for steps in dm of 0.05 from 0 to 1 for normed and un-normed"
   ]
  },
  {
   "cell_type": "code",
   "execution_count": null,
   "metadata": {
    "collapsed": true
   },
   "outputs": [],
   "source": [
    "dm_offset = 0."
   ]
  },
  {
   "cell_type": "code",
   "execution_count": null,
   "metadata": {
    "collapsed": false
   },
   "outputs": [],
   "source": [
    "search_data = dict()\n",
    "cluster_data = dict()\n",
    "control_data = dict()\n",
    "\n",
    "color_names = ['g-r','g-i','g-z']\n",
    "names = ['i'] + color_names\n",
    "for i,name in zip([0,1,2,3], names):\n",
    "    search_data[name] = searchX[:,i]\n",
    "    cluster_data[name] = cluX[:,i]\n",
    "    control_data[name] = allX[control_ix,i]\n",
    "\n",
    "search_data = table.Table(search_data).as_array()\n",
    "cluster_data = table.Table(cluster_data).as_array()\n",
    "control_data = table.Table(control_data).as_array()\n",
    "\n",
    "cluster_data['i'] += dm_offset"
   ]
  },
  {
   "cell_type": "markdown",
   "metadata": {},
   "source": [
    "---"
   ]
  },
  {
   "cell_type": "code",
   "execution_count": null,
   "metadata": {
    "collapsed": true
   },
   "outputs": [],
   "source": [
    "c_step = 0.03\n",
    "m_step = 0.06\n",
    "\n",
    "c_bins = np.arange(0,0.7+c_step,c_step)\n",
    "m_bins = np.arange(18,21+m_step,m_step)"
   ]
  },
  {
   "cell_type": "code",
   "execution_count": null,
   "metadata": {
    "collapsed": true
   },
   "outputs": [],
   "source": [
    "def bin_cmd(color, mag):\n",
    "    H,_,_ = np.histogram2d(color, mag, bins=(c_bins, m_bins))\n",
    "    m_mesh,c_mesh = np.meshgrid((m_bins[1:]+m_bins[:-1])/2, (c_bins[1:]+c_bins[:-1])/2)\n",
    "    \n",
    "    return c_mesh, m_mesh, H"
   ]
  },
  {
   "cell_type": "code",
   "execution_count": null,
   "metadata": {
    "collapsed": false
   },
   "outputs": [],
   "source": [
    "cluster_Hs = dict()\n",
    "control_Hs = dict()\n",
    "control_spline_Hs = dict()\n",
    "for cname in color_names:\n",
    "    xmesh,ymesh,cluster_H = bin_cmd(cluster_data[cname], cluster_data['i'])\n",
    "    xmesh,ymesh,control_H = bin_cmd(control_data[cname], control_data['i'])\n",
    "    cluster_Hs[cname] = cluster_H / cluster_H.sum()\n",
    "    control_Hs[cname] = control_H / control_H.sum()\n",
    "    \n",
    "    # use a bivariate spline to smooth the control CMD\n",
    "    spl = interpolate.SmoothBivariateSpline(xmesh.ravel(), ymesh.ravel(), \n",
    "                                            control_H.ravel()/control_H.sum(), kx=5, ky=5)\n",
    "    spl_control_H = spl.ev(xmesh.ravel(), ymesh.ravel())\n",
    "    spl_control_H = spl_control_H.reshape(xmesh.shape)\n",
    "    control_spline_Hs[cname] = spl_control_H\n",
    "    \n",
    "    # ---------------------------------------------\n",
    "    # diagnostic plot\n",
    "    fig,axes = pl.subplots(1,3,figsize=(10,6),sharex=True,sharey=True)\n",
    "\n",
    "    ax = axes[0]\n",
    "    ax.pcolormesh(xmesh, ymesh, cluster_H, cmap='Blues')\n",
    "    ax.set_xlim(xmesh.min(), xmesh.max())\n",
    "    ax.set_ylim(ymesh.max(), ymesh.min())\n",
    "    ax.set_xlabel('${}$'.format(cname))\n",
    "    ax.set_ylabel('$i$')\n",
    "    ax.set_title(\"Cluster stars\")\n",
    "\n",
    "    ax = axes[1]\n",
    "    ax.pcolormesh(xmesh, ymesh, control_H, cmap='Blues')\n",
    "    ax.set_xlabel('${}$'.format(cname))\n",
    "    ax.set_title(\"Control field\")\n",
    "    \n",
    "    ax = axes[2]\n",
    "    ax.pcolormesh(xmesh, ymesh, spl_control_H, cmap='Blues')\n",
    "    ax.set_xlabel('${}$'.format(cname))\n",
    "    ax.set_title(\"Spline smoothed\")"
   ]
  },
  {
   "cell_type": "markdown",
   "metadata": {},
   "source": [
    "### Divide them!"
   ]
  },
  {
   "cell_type": "code",
   "execution_count": null,
   "metadata": {
    "collapsed": false
   },
   "outputs": [],
   "source": [
    "fig,axes = pl.subplots(1,len(color_names),figsize=(12,4),sharex=True,sharey=True)\n",
    "for i,cname in enumerate(color_names):\n",
    "    ax = axes[i]\n",
    "    _,bins,_ = ax.hist(cluster_Hs[cname].ravel(), bins=np.logspace(-5,-1,32), alpha=0.4)\n",
    "    ax.hist(control_spline_Hs[cname].ravel(), bins=bins, alpha=0.4)\n",
    "\n",
    "ax.set_xscale('log')\n",
    "ax.set_yscale('log')"
   ]
  },
  {
   "cell_type": "code",
   "execution_count": null,
   "metadata": {
    "collapsed": false
   },
   "outputs": [],
   "source": [
    "fig,axes = pl.subplots(1,len(color_names),figsize=(12,4),sharex=True,sharey=True)\n",
    "for i,cname in enumerate(color_names):\n",
    "    ax = axes[i] \n",
    "    div = cluster_Hs[cname] / control_spline_Hs[cname]\n",
    "    div[div < 0.] = 0.\n",
    "    ax.hist(div.ravel(), bins=np.logspace(-1.5,2.5,32), alpha=0.4)\n",
    "    \n",
    "ax.set_xscale('log')\n",
    "ax.set_yscale('log')"
   ]
  },
  {
   "cell_type": "code",
   "execution_count": null,
   "metadata": {
    "collapsed": false
   },
   "outputs": [],
   "source": [
    "# thresh = 20\n",
    "# null_thresh = 4E-4\n",
    "threshs = {\n",
    "    'g-r': 10,\n",
    "    'g-i': 15,\n",
    "    'g-z': 25,\n",
    "}\n",
    "null_threshs = {\n",
    "    'g-r': 25E-4,\n",
    "    'g-i': 20E-4,\n",
    "    'g-z': 2E-3,\n",
    "}\n",
    "\n",
    "matched_filters = dict()\n",
    "for cname in color_names:    \n",
    "    null_thresh = null_threshs[cname]\n",
    "    thresh = threshs[cname]\n",
    "    \n",
    "    div = cluster_Hs[cname] / control_spline_Hs[cname]\n",
    "    div[div < 0.] = 0.\n",
    "    div[div > thresh] = thresh\n",
    "    div[(cluster_Hs[cname] < null_thresh) & (control_spline_Hs[cname] < null_thresh)] = 0.\n",
    "    matched_filters[cname] = div.copy()\n",
    "    \n",
    "    fig,axes = pl.subplots(1,3,figsize=(10,6),sharex=True,sharey=True)\n",
    "\n",
    "    ax = axes[0]\n",
    "    ax.pcolormesh(xmesh, ymesh, cluster_Hs[cname], cmap='Blues')\n",
    "    ax.set_xlim(xmesh.min(), xmesh.max())\n",
    "    ax.set_ylim(ymesh.max(), ymesh.min())\n",
    "    ax.set_xlabel('${}$'.format(cname))\n",
    "    ax.set_ylabel('$i$')\n",
    "    ax.set_title(\"Cluster stars\")\n",
    "\n",
    "    ax = axes[1]\n",
    "    ax.pcolormesh(xmesh, ymesh, spl_control_H, cmap='Blues')\n",
    "    ax.set_xlabel('${}$'.format(cname))\n",
    "    ax.set_title(\"Control field\")\n",
    "    \n",
    "    ax = axes[2]\n",
    "    ax.pcolormesh(xmesh, ymesh, div, cmap='Blues')\n",
    "    ax.set_xlabel('${}$'.format(cname))\n",
    "    ax.set_title(\"Spline smoothed\")"
   ]
  },
  {
   "cell_type": "markdown",
   "metadata": {},
   "source": [
    "### Smooth the matched filters"
   ]
  },
  {
   "cell_type": "code",
   "execution_count": null,
   "metadata": {
    "collapsed": false
   },
   "outputs": [],
   "source": [
    "cmd_smooth = 0.02 # mag\n",
    "smooth_matched_filters = dict()\n",
    "for cname in color_names:\n",
    "    smooth_matched_filters[cname] = gaussian_filter(matched_filters[cname], \n",
    "                                                    sigma=[cmd_smooth/c_step,cmd_smooth/m_step])\n",
    "    \n",
    "fig,axes = pl.subplots(1,len(color_names),figsize=(10,6),sharex=True,sharey=True)\n",
    "for i,cname in enumerate(color_names):\n",
    "    ax = axes[i]\n",
    "    ax.pcolormesh(xmesh, ymesh, smooth_matched_filters[cname], cmap='Blues')\n",
    "    ax.set_xlabel('${}$'.format(cname))\n",
    "    \n",
    "ax.set_xlim(xmesh.min(), xmesh.max())\n",
    "ax.set_ylim(ymesh.max(), ymesh.min())"
   ]
  },
  {
   "cell_type": "code",
   "execution_count": null,
   "metadata": {
    "collapsed": false
   },
   "outputs": [],
   "source": [
    "print(search_ix.sum())"
   ]
  },
  {
   "cell_type": "code",
   "execution_count": null,
   "metadata": {
    "collapsed": false
   },
   "outputs": [],
   "source": [
    "n_search = search_ix.sum()\n",
    "\n",
    "weights = dict()\n",
    "for cname in color_names:\n",
    "# for cname in ['g-z']:\n",
    "    _x,_y = digitize2d(search_data[cname], search_data['i'], c_bins, m_bins)\n",
    "    weights[cname] = np.zeros(n_search)\n",
    "    \n",
    "    for i in range(n_search):\n",
    "        try:\n",
    "            weights[cname][i] = smooth_matched_filters[cname][_x[i]-1,_y[i]-1]\n",
    "        except IndexError:\n",
    "            weights[cname][i] = 0. # falls outside bin??    \n",
    "    \n",
    "#     weights[cname] = np.array([smooth_matched_filters[cname][_x[i]-1,_y[i]-1] for i in range(n_search)])"
   ]
  },
  {
   "cell_type": "code",
   "execution_count": null,
   "metadata": {
    "collapsed": false,
    "scrolled": true
   },
   "outputs": [],
   "source": [
    "# n_search = search_ix.sum()\n",
    "\n",
    "# weights = dict()\n",
    "# for cname in color_names:\n",
    "#     weights[cname] = np.zeros(n_search)\n",
    "\n",
    "# for i in range(n_search):\n",
    "#     for j,cname in enumerate(color_names):\n",
    "#         derp,_,_ = np.histogram2d(search_data[cname][i:i+1], search_data['i'][i:i+1], bins=(c_bins, m_bins))\n",
    "#         weights[cname][i] = (derp * smooth_matched_filters[cname]).sum()\n",
    "    \n",
    "#     if (i % 10000) == 0:\n",
    "#         print(i)"
   ]
  },
  {
   "cell_type": "markdown",
   "metadata": {},
   "source": [
    "---\n",
    "\n",
    "## Weighted histogram of stars on sky"
   ]
  },
  {
   "cell_type": "code",
   "execution_count": null,
   "metadata": {
    "collapsed": true
   },
   "outputs": [],
   "source": [
    "sky_binsize = (6*u.arcmin).to(u.degree).value\n",
    "sky_smooth = (6*u.arcmin).to(u.degree).value / sky_binsize\n",
    "\n",
    "search_ra = ra[search_ix]\n",
    "search_dec = dec[search_ix]\n",
    "ra_bins = np.arange(search_ra.min(), search_ra.max()+sky_binsize, sky_binsize)\n",
    "dec_bins = np.arange(search_dec.min(), search_dec.max()+sky_binsize, sky_binsize)"
   ]
  },
  {
   "cell_type": "code",
   "execution_count": null,
   "metadata": {
    "collapsed": false
   },
   "outputs": [],
   "source": [
    "search_H_sky = None\n",
    "unw_search_H_sky = None\n",
    "for cname in weights.keys():\n",
    "    _H_sky,ra_edges,dec_edges = np.histogram2d(search_ra, search_dec,\n",
    "                                               bins=(ra_bins, dec_bins), \n",
    "                                               weights=weights[cname])\n",
    "\n",
    "    _unw_H_sky,ra_edges,dec_edges = np.histogram2d(search_ra, search_dec,\n",
    "                                                   bins=(ra_bins, dec_bins))\n",
    "    \n",
    "    if search_H_sky is None:\n",
    "        search_H_sky = _H_sky.T\n",
    "        unw_search_H_sky = _unw_H_sky.T\n",
    "    else:\n",
    "#         search_H_sky += _H_sky.T\n",
    "#         unw_search_H_sky += _unw_H_sky.T\n",
    "        search_H_sky *= _H_sky.T\n",
    "        unw_search_H_sky *= _unw_H_sky.T\n",
    "\n",
    "norm_search_H_sky = search_H_sky / unw_search_H_sky\n",
    "        \n",
    "ra_mesh,dec_mesh = np.meshgrid((ra_edges[1:]+ra_edges[:-1])/2, (dec_edges[1:]+dec_edges[:-1])/2)"
   ]
  },
  {
   "cell_type": "code",
   "execution_count": null,
   "metadata": {
    "collapsed": false
   },
   "outputs": [],
   "source": [
    "# save_path = \"/Users/adrian/projects/globber/data/ngc5897/density_maps\"\n",
    "# if not os.path.exists(save_path):\n",
    "#     os.mkdir(save_path)\n",
    "\n",
    "# np.save(os.path.join(save_path, 'ddm{:.2f}.npy'.format(dm_offset)), search_H_sky)\n",
    "# np.save(os.path.join(save_path, 'ddm{:.2f}_norm.npy'.format(dm_offset)), norm_search_H_sky)"
   ]
  },
  {
   "cell_type": "code",
   "execution_count": null,
   "metadata": {
    "collapsed": false
   },
   "outputs": [],
   "source": [
    "# H_operation = lambda x: np.log(x)\n",
    "H_operation = lambda x: np.sqrt(x)\n",
    "# H_operation = lambda x: x\n",
    "# H_operation = lambda x: x**2"
   ]
  },
  {
   "cell_type": "code",
   "execution_count": null,
   "metadata": {
    "collapsed": false
   },
   "outputs": [],
   "source": [
    "tmp = H_operation(norm_search_H_sky.ravel())\n",
    "bins = np.linspace(*scoreatpercentile(tmp, [1,99]), num=32)\n",
    "pl.hist(tmp, bins=bins);\n",
    "\n",
    "vmin,vmax = scoreatpercentile(tmp, [15,85])\n",
    "pl.axvline(vmin, color='r')\n",
    "pl.axvline(vmax, color='r')"
   ]
  },
  {
   "cell_type": "code",
   "execution_count": null,
   "metadata": {
    "collapsed": false
   },
   "outputs": [],
   "source": [
    "fig,axes = pl.subplots(1,2,figsize=(15,6),sharex=True,sharey=True)\n",
    "\n",
    "ax = axes[0]\n",
    "ax.pcolormesh(ra_mesh, dec_mesh, H_operation(norm_search_H_sky), \n",
    "              cmap='Greys', vmin=vmin, vmax=vmax)\n",
    "\n",
    "pa = mpl.patches.Circle((cluster_c.ra.degree, cluster_c.dec.degree), radius=r_c.to(u.degree).value,\n",
    "                        edgecolor='r', facecolor='none')\n",
    "ax.add_patch(pa)\n",
    "pa = mpl.patches.Circle((cluster_c.ra.degree, cluster_c.dec.degree), radius=r_t.to(u.degree).value,\n",
    "                        edgecolor='g', facecolor='none')\n",
    "ax.add_patch(pa)\n",
    "\n",
    "ax.set_xlim(ra_mesh.max(), ra_mesh.min())\n",
    "ax.set_ylim(dec_mesh.min(), dec_mesh.max())\n",
    "ax.set_xlabel('RA [deg]')\n",
    "ax.set_ylabel('Dec [deg]')\n",
    "ax.set_aspect('equal')\n",
    "\n",
    "ax = axes[1]\n",
    "ax.pcolormesh(ra_mesh, dec_mesh, gaussian_filter(H_operation(norm_search_H_sky), sky_smooth), \n",
    "              cmap='Greys', vmin=vmin, vmax=vmax)\n",
    "\n",
    "pa = mpl.patches.Circle((cluster_c.ra.degree, cluster_c.dec.degree), radius=r_c.to(u.degree).value,\n",
    "                        edgecolor='r', facecolor='none')\n",
    "ax.add_patch(pa)\n",
    "pa = mpl.patches.Circle((cluster_c.ra.degree, cluster_c.dec.degree), radius=r_t.to(u.degree).value,\n",
    "                        edgecolor='g', facecolor='none')\n",
    "ax.add_patch(pa)\n",
    "\n",
    "ax.set_xlim(ra_mesh.max(), ra_mesh.min())\n",
    "ax.set_ylim(dec_mesh.min(), dec_mesh.max())\n",
    "ax.set_xlabel('RA [deg]')\n",
    "ax.set_aspect('equal')"
   ]
  },
  {
   "cell_type": "code",
   "execution_count": null,
   "metadata": {
    "collapsed": false
   },
   "outputs": [],
   "source": [
    "zoom_buffer = 3\n",
    "\n",
    "fig,axes = pl.subplots(1,2,figsize=(15,6),sharex=True,sharey=True)\n",
    "\n",
    "ax = axes[0]\n",
    "ax.pcolormesh(ra_mesh, dec_mesh, H_operation(norm_search_H_sky), \n",
    "              cmap='Greys', vmin=vmin, vmax=vmax)\n",
    "pa = mpl.patches.Circle((cluster_c.ra.degree, cluster_c.dec.degree), radius=r_c.to(u.degree).value,\n",
    "                        edgecolor='r', facecolor='none')\n",
    "ax.add_patch(pa)\n",
    "pa = mpl.patches.Circle((cluster_c.ra.degree, cluster_c.dec.degree), radius=r_t.to(u.degree).value,\n",
    "                        edgecolor='g', facecolor='none')\n",
    "ax.add_patch(pa)\n",
    "\n",
    "ax.set_xlim(cluster_c.ra.degree+zoom_buffer, cluster_c.ra.degree-zoom_buffer)\n",
    "ax.set_ylim(cluster_c.dec.degree-zoom_buffer, cluster_c.dec.degree+zoom_buffer)\n",
    "ax.set_xlabel('RA [deg]')\n",
    "ax.set_ylabel('Dec [deg]')\n",
    "ax.set_aspect('equal')\n",
    "\n",
    "ax = axes[1]\n",
    "ax.pcolormesh(ra_mesh, dec_mesh, gaussian_filter(H_operation(norm_search_H_sky), sky_smooth), \n",
    "              cmap='Greys', vmin=vmin, vmax=vmax)\n",
    "\n",
    "pa = mpl.patches.Circle((cluster_c.ra.degree, cluster_c.dec.degree), radius=r_c.to(u.degree).value,\n",
    "                        edgecolor='r', facecolor='none')\n",
    "ax.add_patch(pa)\n",
    "pa = mpl.patches.Circle((cluster_c.ra.degree, cluster_c.dec.degree), radius=r_t.to(u.degree).value,\n",
    "                        edgecolor='g', facecolor='none')\n",
    "ax.add_patch(pa)\n",
    "\n",
    "\n",
    "ax.set_xlim(cluster_c.ra.degree+zoom_buffer, cluster_c.ra.degree-zoom_buffer)\n",
    "ax.set_ylim(cluster_c.dec.degree-zoom_buffer, cluster_c.dec.degree+zoom_buffer)\n",
    "ax.set_xlabel('RA [deg]')\n",
    "ax.set_aspect('equal')"
   ]
  },
  {
   "cell_type": "markdown",
   "metadata": {},
   "source": [
    "---"
   ]
  },
  {
   "cell_type": "code",
   "execution_count": null,
   "metadata": {
    "collapsed": false
   },
   "outputs": [],
   "source": [
    "tmp = np.log10(search_H_sky.ravel())\n",
    "fig,ax = pl.subplots(1,1,figsize=(6,6),sharex=True,sharey=True)\n",
    "\n",
    "# ax.contour(ra_mesh, dec_mesh, search_H_sky, levels=10**np.linspace(nvmin,tmp.max(),12), colors='k') # cmap='magma_r',\n",
    "ax.contour(ra_mesh, dec_mesh, search_H_sky, levels=np.logspace(np.log10(vmin),tmp.max(),10), cmap='magma')\n",
    "\n",
    "# ax.set_xlim(ra_mesh.max(), ra_mesh.min())\n",
    "# ax.set_ylim(dec_mesh.min(), dec_mesh.max())\n",
    "\n",
    "ax.set_xlim(cluster_c.ra.degree + zoom_buffer, cluster_c.ra.degree - zoom_buffer)\n",
    "ax.set_ylim(cluster_c.dec.degree - zoom_buffer, cluster_c.dec.degree + zoom_buffer)\n",
    "\n",
    "ax.set_xlabel('RA [deg]')\n",
    "ax.set_ylabel('Dec [deg]')\n",
    "ax.set_aspect('equal')"
   ]
  },
  {
   "cell_type": "markdown",
   "metadata": {},
   "source": [
    "---"
   ]
  },
  {
   "cell_type": "code",
   "execution_count": null,
   "metadata": {
    "collapsed": true
   },
   "outputs": [],
   "source": [
    "# # H_operation = lambda x: np.log(x)\n",
    "# # H_operation = lambda x: np.sqrt(x)\n",
    "# H_operation = lambda x: x\n",
    "# # H_operation = lambda x: x**2"
   ]
  },
  {
   "cell_type": "code",
   "execution_count": null,
   "metadata": {
    "collapsed": false
   },
   "outputs": [],
   "source": [
    "# zoom_buffer = 5\n",
    "\n",
    "# vmin = None\n",
    "# vmax = None\n",
    "# for j,dm_offset in enumerate([-0.4,-0.3,-0.2,-0.1,0.,0.1,0.2,0.3,0.4]):\n",
    "#     the_H = np.load(os.path.join(save_path, 'ddm{:.2f}.npy'.format(dm_offset)))\n",
    "    \n",
    "#     if vmin is None:\n",
    "#         tmp = H_operation(the_H.ravel())\n",
    "#         vmin,vmax = scoreatpercentile(tmp, [15,85])\n",
    "\n",
    "#     fig,ax = pl.subplots(1,1,figsize=(6,6))\n",
    "    \n",
    "#     ax.pcolormesh(ra_mesh, dec_mesh, H_operation(the_H), \n",
    "#                   cmap='Greys', vmin=vmin, vmax=vmax)\n",
    "#     pa = mpl.patches.Circle((cluster_c.ra.degree, cluster_c.dec.degree), radius=r_c.to(u.degree).value,\n",
    "#                             edgecolor='r', facecolor='none')\n",
    "#     ax.add_patch(pa)\n",
    "#     pa = mpl.patches.Circle((cluster_c.ra.degree, cluster_c.dec.degree), radius=r_t.to(u.degree).value,\n",
    "#                             edgecolor='g', facecolor='none')\n",
    "#     ax.add_patch(pa)\n",
    "\n",
    "#     ax.set_xlim(cluster_c.ra.degree+zoom_buffer, cluster_c.ra.degree-zoom_buffer)\n",
    "#     ax.set_ylim(cluster_c.dec.degree-zoom_buffer, cluster_c.dec.degree+zoom_buffer)\n",
    "#     ax.set_xlabel('RA [deg]')\n",
    "#     ax.set_ylabel('Dec [deg]')\n",
    "#     ax.set_aspect('equal')\n",
    "    \n",
    "#     fig.savefig(\"/Users/adrian/Downloads/{}.png\".format(j), dpi=300)"
   ]
  },
  {
   "cell_type": "code",
   "execution_count": null,
   "metadata": {
    "collapsed": true
   },
   "outputs": [],
   "source": []
  }
 ],
 "metadata": {
  "kernelspec": {
   "display_name": "Python 3",
   "language": "python",
   "name": "python3"
  },
  "language_info": {
   "codemirror_mode": {
    "name": "ipython",
    "version": 3
   },
   "file_extension": ".py",
   "mimetype": "text/x-python",
   "name": "python",
   "nbconvert_exporter": "python",
   "pygments_lexer": "ipython3",
   "version": "3.5.1"
  }
 },
 "nbformat": 4,
 "nbformat_minor": 0
}