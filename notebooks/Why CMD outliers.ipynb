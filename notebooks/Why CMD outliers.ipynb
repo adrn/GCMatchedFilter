{
 "cells": [
  {
   "cell_type": "code",
   "execution_count": null,
   "metadata": {
    "collapsed": true
   },
   "outputs": [],
   "source": [
    "from collections import OrderedDict\n",
    "import astropy.units as u\n",
    "import astropy.coordinates as coord\n",
    "import numpy as np\n",
    "from numpy.polynomial.polynomial import polyval\n",
    "import matplotlib.pyplot as pl\n",
    "pl.style.use('apw-notebook')\n",
    "%matplotlib inline\n",
    "import h5py\n",
    "from scipy.ndimage import gaussian_filter\n",
    "from scipy.stats import scoreatpercentile\n",
    "\n",
    "from astroML.density_estimation import XDGMM\n",
    "from astroML.utils import log_multivariate_gaussian\n",
    "from scipy.misc import logsumexp"
   ]
  },
  {
   "cell_type": "code",
   "execution_count": null,
   "metadata": {
    "collapsed": true
   },
   "outputs": [],
   "source": [
    "XCov_filename = \"/Users/adrian/projects/globber/data/ngc5897/XCov_med.h5\""
   ]
  },
  {
   "cell_type": "code",
   "execution_count": null,
   "metadata": {
    "collapsed": false
   },
   "outputs": [],
   "source": [
    "with h5py.File(XCov_filename, \"r\") as f:\n",
    "    ra = f['search']['ra'][:]\n",
    "    dec = f['search']['dec'][:]\n",
    "    \n",
    "    allX = f['search']['X'][:]\n",
    "    allCov = f['search']['Cov'][:]\n",
    "    \n",
    "    nonX = f['control']['X'][:]\n",
    "    nonCov = f['control']['Cov'][:]\n",
    "    \n",
    "    cluX = f['cluster']['X'][:]\n",
    "    isoX = f['isochrone']['X'][:]\n",
    "    \n",
    "    non_ll = f['search']['control_log_likelihood'][:]\n",
    "    iso_ll = f['search']['isochrone_15.55_log_likelihood'][:]\n",
    "    \n",
    "    idx = np.isfinite(non_ll)\n",
    "    \n",
    "    ra = ra[idx]\n",
    "    dec = dec[idx]\n",
    "    allX = allX[idx]\n",
    "    allCov = allCov[idx]\n",
    "    non_ll = non_ll[idx]\n",
    "    iso_ll = iso_ll[idx]"
   ]
  },
  {
   "cell_type": "code",
   "execution_count": null,
   "metadata": {
    "collapsed": false
   },
   "outputs": [],
   "source": [
    "bins = np.linspace(-50, 25, 64)\n",
    "pl.hist(iso_ll, bins=bins, alpha=0.5)\n",
    "pl.hist(non_ll, bins=bins, alpha=0.5)\n",
    "# pl.hist(ll, bins=bins, alpha=0.5)\n",
    "# pl.axvline(threshold)\n",
    "pl.yscale('log')"
   ]
  },
  {
   "cell_type": "code",
   "execution_count": null,
   "metadata": {
    "collapsed": true
   },
   "outputs": [],
   "source": [
    "def worker(allX, allCov, otherX, otherCov, smooth=None, alpha=0.02):\n",
    "    V = allCov[:,np.newaxis,:,:] + otherCov\n",
    "\n",
    "    if smooth is not None:\n",
    "        H = np.zeros(allCov.shape[-2:]) + smooth**2\n",
    "        V += H[np.newaxis,np.newaxis]\n",
    "\n",
    "    ll = log_multivariate_gaussian(allX[:,np.newaxis,:], otherX, V)\n",
    "    N = ll.shape[1]\n",
    "    bg = N*alpha/(1-alpha) * np.ones((ll.shape[0],1))\n",
    "    ll = np.hstack((ll,bg))\n",
    "    ll = logsumexp(ll, axis=-1) - np.log(N*(1-alpha))\n",
    "    return ll"
   ]
  },
  {
   "cell_type": "code",
   "execution_count": null,
   "metadata": {
    "collapsed": false
   },
   "outputs": [],
   "source": [
    "bad_idx, = np.where(non_ll < -10)\n",
    "\n",
    "bad_ra = ra[bad_idx]\n",
    "bad_dec = dec[bad_idx]\n",
    "\n",
    "bad_idx = bad_idx[(bad_ra > ps1['ra'].min()) & (bad_ra < ps1['ra'].max()) &\n",
    "                  (bad_dec > ps1['dec'].min()) & (bad_dec < ps1['dec'].max())]"
   ]
  },
  {
   "cell_type": "code",
   "execution_count": null,
   "metadata": {
    "collapsed": false
   },
   "outputs": [],
   "source": [
    "fig,axes = pl.subplots(1,3,figsize=(12,6),sharex=True,sharey=True)\n",
    "for i,j in enumerate([1,2,3]):\n",
    "    axes[i].plot(nonX[::10,j], nonX[::10,0], ls='none', marker=',')\n",
    "\n",
    "axes[0].set_xlim(0,1.)\n",
    "axes[0].set_ylim(21,14)"
   ]
  },
  {
   "cell_type": "code",
   "execution_count": null,
   "metadata": {
    "collapsed": false
   },
   "outputs": [],
   "source": [
    "fig,axes = pl.subplots(1,3,figsize=(12,6),sharex=True,sharey=True)\n",
    "\n",
    "# derp_idx = allX[bad_idx,1] < 0.1\n",
    "for i,j in enumerate([1,2,3]):\n",
    "    axes[i].plot(allX[bad_idx,j], allX[bad_idx,0], ls='none')\n",
    "\n",
    "for i,j in enumerate([1,2,3]):\n",
    "    axes[i].plot(allX[bad_idx[0],j], allX[bad_idx[0],0], ls='none', color='r', marker='o')\n",
    "\n",
    "axes[0].set_xlim(0,1.)\n",
    "axes[0].set_ylim(21,14)"
   ]
  },
  {
   "cell_type": "code",
   "execution_count": null,
   "metadata": {
    "collapsed": false
   },
   "outputs": [],
   "source": [
    "ll = worker(allX[bad_idx], allCov[bad_idx],\n",
    "            nonX[::1000], nonCov[::1000], smooth=0.05, alpha=0.1E-2)"
   ]
  },
  {
   "cell_type": "code",
   "execution_count": null,
   "metadata": {
    "collapsed": false
   },
   "outputs": [],
   "source": [
    "ll"
   ]
  },
  {
   "cell_type": "code",
   "execution_count": null,
   "metadata": {
    "collapsed": true
   },
   "outputs": [],
   "source": [
    "ps1 = np.load(\"/Users/adrian/projects/globber/data/ngc5897/PS1_stars_pv3_dered_sm.npy\")"
   ]
  },
  {
   "cell_type": "code",
   "execution_count": null,
   "metadata": {
    "collapsed": true
   },
   "outputs": [],
   "source": [
    "ps1_c = coord.SkyCoord(ra=ps1['ra']*u.degree, dec=ps1['dec']*u.degree)"
   ]
  },
  {
   "cell_type": "code",
   "execution_count": null,
   "metadata": {
    "collapsed": false
   },
   "outputs": [],
   "source": [
    "yo = 1\n",
    "bad_c = coord.SkyCoord(ra=ra[bad_idx[yo]]*u.degree, dec=dec[bad_idx[yo]]*u.degree)\n",
    "ll[yo].max()"
   ]
  },
  {
   "cell_type": "code",
   "execution_count": null,
   "metadata": {
    "collapsed": false
   },
   "outputs": [],
   "source": [
    "match_ix,sep,_ = bad_c.match_to_catalog_sky(ps1_c)\n",
    "print(sep)\n",
    "print(ps1[match_ix]['i'] - ps1[match_ix]['dered_i'])"
   ]
  },
  {
   "cell_type": "code",
   "execution_count": null,
   "metadata": {
    "collapsed": false
   },
   "outputs": [],
   "source": [
    "((ps1['i'] - ps1['dered_i']) > 0.2).sum()"
   ]
  },
  {
   "cell_type": "code",
   "execution_count": null,
   "metadata": {
    "collapsed": false
   },
   "outputs": [],
   "source": [
    "pl.hist(ps1['sg_r'], bins=np.linspace(-6.5,0.2,156))\n",
    "pl.yscale('log')"
   ]
  },
  {
   "cell_type": "code",
   "execution_count": null,
   "metadata": {
    "collapsed": true
   },
   "outputs": [],
   "source": []
  }
 ],
 "metadata": {
  "kernelspec": {
   "display_name": "Python 3",
   "language": "python",
   "name": "python3"
  },
  "language_info": {
   "codemirror_mode": {
    "name": "ipython",
    "version": 3
   },
   "file_extension": ".py",
   "mimetype": "text/x-python",
   "name": "python",
   "nbconvert_exporter": "python",
   "pygments_lexer": "ipython3",
   "version": "3.5.1"
  }
 },
 "nbformat": 4,
 "nbformat_minor": 0
}