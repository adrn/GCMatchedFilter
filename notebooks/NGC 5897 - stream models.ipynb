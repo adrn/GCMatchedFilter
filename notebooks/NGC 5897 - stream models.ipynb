{
 "cells": [
  {
   "cell_type": "code",
   "execution_count": null,
   "metadata": {
    "collapsed": true
   },
   "outputs": [],
   "source": [
    "import os\n",
    "import sys\n",
    "\n",
    "# Third-party\n",
    "from astropy.io import ascii\n",
    "import astropy.coordinates as coord\n",
    "import astropy.table as table\n",
    "import astropy.units as u\n",
    "import numpy as np\n",
    "import matplotlib as mpl\n",
    "import matplotlib.pyplot as pl\n",
    "pl.style.use('apw-notebook')\n",
    "%matplotlib inline\n",
    "from astropy.io.fits import getdata\n",
    "\n",
    "import gary.coordinates as gc\n",
    "import gary.dynamics as gd\n",
    "import gary.potential as gp\n",
    "from gary.dynamics.orbit import combine as combine_orbit\n",
    "from gary.dynamics.core import combine as combine_ps\n",
    "from gary.observation import distance_modulus\n",
    "\n",
    "from ophiuchus import galactocentric_frame, vcirc, vlsr\n",
    "import ophiuchus.potential as op"
   ]
  },
  {
   "cell_type": "code",
   "execution_count": null,
   "metadata": {
    "collapsed": true
   },
   "outputs": [],
   "source": [
    "catalog_data_path = \"/Users/adrian/projects/globber/data/gc_catalogs/\"\n",
    "cluster_name = 'NGC 5897'\n",
    "nsamples = 128\n",
    "potential = op.load_potential('static_mw')"
   ]
  },
  {
   "cell_type": "markdown",
   "metadata": {},
   "source": [
    "## Load cluster data and sample from error distribution"
   ]
  },
  {
   "cell_type": "code",
   "execution_count": null,
   "metadata": {
    "collapsed": false
   },
   "outputs": [],
   "source": [
    "pm_gc_main = np.genfromtxt(os.path.join(catalog_data_path,\"gl_2012_J2000.cat1.txt\"), dtype=None, \n",
    "                           skip_header=2, \n",
    "                           usecols=[0,2,3,6,7,8,9,10,11,12,13],\n",
    "                           names=['ngc_num','ra','dec','dist','dist_err','mu_ra','mu_ra_err',\n",
    "                                  'mu_dec','mu_dec_err', 'vr', 'vr_err'])\n",
    "\n",
    "pm_gc_main = table.Table(pm_gc_main)\n",
    "\n",
    "go = ascii.read(os.path.join(catalog_data_path,\"go97_table1.txt\"))\n",
    "\n",
    "all_gc = pm_gc_main\n",
    "all_gc['name'] = np.array([\"NGC {}\".format(x) for x in all_gc['ngc_num']])\n",
    "all_gc = table.join(all_gc, go, keys='name')\n",
    "\n",
    "# HACK: use distance modulus from Kock et al. and make uncertainty better\n",
    "from gary.observation import distance as distance_from_dm\n",
    "cluster = all_gc[all_gc['name'] == cluster_name]\n",
    "cluster['dist'] = distance_from_dm(15.55).to(u.kpc).value\n",
    "cluster['dist_err'] = 0.05*cluster['dist']\n",
    "cluster"
   ]
  },
  {
   "cell_type": "code",
   "execution_count": null,
   "metadata": {
    "collapsed": true
   },
   "outputs": [],
   "source": [
    "cluster_c = coord.ICRS(ra=cluster['ra']*u.degree,\n",
    "                       dec=cluster['dec']*u.degree,\n",
    "                       distance=cluster['dist']*u.kpc)"
   ]
  },
  {
   "cell_type": "code",
   "execution_count": null,
   "metadata": {
    "collapsed": true
   },
   "outputs": [],
   "source": [
    "xyz = cluster_c.transform_to(galactocentric_frame).cartesian.xyz\n",
    "vxyz = gc.vhel_to_gal(cluster_c, pm=(cluster['mu_ra']*u.mas/u.yr,\n",
    "                                     cluster['mu_dec']*u.mas/u.yr),\n",
    "                      rv=cluster['vr']*u.km/u.s, \n",
    "                      galactocentric_frame=galactocentric_frame,\n",
    "                      vcirc=vcirc, vlsr=vlsr)"
   ]
  },
  {
   "cell_type": "code",
   "execution_count": null,
   "metadata": {
    "collapsed": true
   },
   "outputs": [],
   "source": [
    "np.random.seed(42)\n",
    "_distances = np.random.normal(cluster['dist'], cluster['dist_err'], size=nsamples)\n",
    "cluster_samples_c = coord.ICRS(ra=(np.zeros(nsamples) + cluster['ra'])*u.degree,\n",
    "                               dec=(np.zeros(nsamples) + cluster['dec'])*u.degree,\n",
    "                               distance=_distances*u.kpc)\n",
    "\n",
    "_mu_ras = np.random.normal(cluster['mu_ra'], cluster['mu_ra_err'], size=nsamples)\n",
    "_mu_decs = np.random.normal(cluster['mu_dec'], cluster['mu_dec_err'], size=nsamples)\n",
    "_vrs = np.random.normal(cluster['vr'], cluster['vr_err'], size=nsamples)\n",
    "\n",
    "# ---\n",
    "samples_xyz = cluster_samples_c.transform_to(galactocentric_frame).cartesian.xyz\n",
    "samples_vxyz = gc.vhel_to_gal(cluster_samples_c, \n",
    "                              pm=(_mu_ras*u.mas/u.yr, _mu_decs*u.mas/u.yr),\n",
    "                              rv=_vrs*u.km/u.s, \n",
    "                              galactocentric_frame=galactocentric_frame,\n",
    "                              vcirc=vcirc, vlsr=vlsr)"
   ]
  },
  {
   "cell_type": "code",
   "execution_count": null,
   "metadata": {
    "collapsed": false
   },
   "outputs": [],
   "source": [
    "w0 = gd.CartesianPhaseSpacePosition(pos=xyz, vel=vxyz)\n",
    "mean_orbit = potential.integrate_orbit(w0, dt=-0.5, nsteps=12000)\n",
    "\n",
    "_w0 = gd.CartesianPhaseSpacePosition(pos=samples_xyz, vel=samples_vxyz)\n",
    "all_w0 = combine_ps((w0,_w0))\n",
    "orbit = potential.integrate_orbit(all_w0, dt=-0.5, nsteps=12000)"
   ]
  },
  {
   "cell_type": "code",
   "execution_count": null,
   "metadata": {
    "collapsed": false
   },
   "outputs": [],
   "source": [
    "w0.represent_as(coord.CylindricalRepresentation)"
   ]
  },
  {
   "cell_type": "code",
   "execution_count": null,
   "metadata": {
    "collapsed": false
   },
   "outputs": [],
   "source": [
    "c_back,v_back = orbit[:100].to_frame(coord.ICRS, vcirc=vcirc, vlsr=vlsr, # orbit -50 Myr\n",
    "                                     galactocentric_frame=galactocentric_frame) \n",
    "\n",
    "orbit_forw = potential.integrate_orbit(all_w0, dt=0.5, nsteps=100)\n",
    "c_forw,v_forw = orbit_forw.to_frame(coord.ICRS, vcirc=vcirc, vlsr=vlsr, # orbit +50 Myr\n",
    "                                    galactocentric_frame=galactocentric_frame) "
   ]
  },
  {
   "cell_type": "code",
   "execution_count": null,
   "metadata": {
    "collapsed": false
   },
   "outputs": [],
   "source": [
    "fig,axes = pl.subplots(8,8,figsize=(12,12),sharex=True,sharey=True)\n",
    "\n",
    "for i in range(len(axes.flat)):\n",
    "    ax = axes.flat[i]\n",
    "    \n",
    "    # put markers at tidal radius along radial vector from center of MW\n",
    "    this_xyz = samples_xyz[:,i]\n",
    "\n",
    "    r = np.linalg.norm(this_xyz,axis=0)\n",
    "    r_hat = (this_xyz / r)\n",
    "    r_tide = (cluster['M'][0] / potential.mass_enclosed(this_xyz))**(1/3.) * r\n",
    "\n",
    "    pos,neg = this_xyz + r_hat*r_tide, this_xyz - r_hat*r_tide\n",
    "    Lpts = coord.Galactocentric(coord.CartesianRepresentation(np.vstack((pos.value,neg.value)).T*u.kpc))\n",
    "    Lpts_icrs = Lpts.transform_to(coord.ICRS)\n",
    "    \n",
    "    ax.set_xticklabels([])\n",
    "    ax.set_yticklabels([])\n",
    "    \n",
    "    _style = dict(ls='-', alpha=0.5, lw=2., marker=None)\n",
    "    ax.plot(c_back.ra.degree[:,i], c_back.dec.degree[:,i], color='k', **_style)\n",
    "    ax.plot(c_forw.ra.degree[:,i], c_forw.dec.degree[:,i], color='#2166AC', **_style)\n",
    "\n",
    "    ax.plot(cluster_c.ra.degree, cluster_c.dec.degree, marker='o', color='k')\n",
    "    ax.plot(Lpts_icrs.ra.degree, Lpts_icrs.dec.degree, marker='o', color='r', ls='none')\n",
    "\n",
    "ax.set_xlim(235,225)\n",
    "ax.set_ylim(-25,-15)\n",
    "    \n",
    "fig.tight_layout()"
   ]
  },
  {
   "cell_type": "markdown",
   "metadata": {},
   "source": [
    "### Some stream models"
   ]
  },
  {
   "cell_type": "code",
   "execution_count": null,
   "metadata": {
    "collapsed": false
   },
   "outputs": [],
   "source": [
    "cluster"
   ]
  },
  {
   "cell_type": "code",
   "execution_count": null,
   "metadata": {
    "collapsed": true
   },
   "outputs": [],
   "source": [
    "from gary.dynamics.mockstream import fardal_stream, streakline_stream\n",
    "import gary.integrate as gi"
   ]
  },
  {
   "cell_type": "code",
   "execution_count": null,
   "metadata": {
    "collapsed": true
   },
   "outputs": [],
   "source": [
    "stream_models = dict()"
   ]
  },
  {
   "cell_type": "code",
   "execution_count": null,
   "metadata": {
    "collapsed": false
   },
   "outputs": [],
   "source": [
    "fig,axes = pl.subplots(4,4,figsize=(12,12),sharex=True,sharey=True)\n",
    "\n",
    "for i in range(len(axes.flat)):\n",
    "    print(i)\n",
    "    ax = axes.flat[i]\n",
    "    \n",
    "    if i in stream_models:\n",
    "        stream = stream_models[i]\n",
    "    else:\n",
    "        prog_orbit = potential.integrate_orbit(all_w0[i], dt=-0.25, nsteps=2000)\n",
    "        stream = fardal_stream(potential, prog_orbit[::-1], prog_mass=cluster['M'][0], \n",
    "                               release_every=1, Integrator=gi.DOPRI853Integrator)\n",
    "    #     stream = streakline_stream(potential, prog_orbit[::-1], prog_mass=cluster['M'][0], \n",
    "    #                                release_every=2., Integrator=gi.DOPRI853Integrator)\n",
    "        stream_models[i] = stream\n",
    "    \n",
    "\n",
    "    stream_c,stream_v = stream.to_frame(coord.ICRS, vcirc=vcirc, vlsr=vlsr, \n",
    "                                        galactocentric_frame=galactocentric_frame) \n",
    "\n",
    "    \n",
    "    ax.plot(stream_c.ra.degree, stream_c.dec.degree, marker='.', alpha=0.1, ls='none')\n",
    "\n",
    "ax.set_xlim(235,225)\n",
    "ax.set_ylim(-25,-15)\n",
    "    \n",
    "fig.tight_layout()"
   ]
  },
  {
   "cell_type": "code",
   "execution_count": null,
   "metadata": {
    "collapsed": false
   },
   "outputs": [],
   "source": [
    "fig,axes = pl.subplots(4,4,figsize=(12,12),sharex=True,sharey=True)\n",
    "\n",
    "for i in range(len(axes.flat)):\n",
    "    ax = axes.flat[i]\n",
    "    \n",
    "    stream = stream_models[i]\n",
    "    stream_c,stream_v = stream.to_frame(coord.ICRS, vcirc=vcirc, vlsr=vlsr, \n",
    "                                        galactocentric_frame=galactocentric_frame) \n",
    "\n",
    "    \n",
    "    ax.plot(stream_c.ra.degree, distance_modulus(stream_c.distance), marker='.', alpha=0.1, ls='none')\n",
    "\n",
    "ax.set_xlim(235,225)\n",
    "ax.set_ylim(15,16)\n",
    "    \n",
    "fig.tight_layout()"
   ]
  },
  {
   "cell_type": "code",
   "execution_count": null,
   "metadata": {
    "collapsed": true
   },
   "outputs": [],
   "source": []
  }
 ],
 "metadata": {
  "kernelspec": {
   "display_name": "Python 3",
   "language": "python",
   "name": "python3"
  },
  "language_info": {
   "codemirror_mode": {
    "name": "ipython",
    "version": 3
   },
   "file_extension": ".py",
   "mimetype": "text/x-python",
   "name": "python",
   "nbconvert_exporter": "python",
   "pygments_lexer": "ipython3",
   "version": "3.5.1"
  }
 },
 "nbformat": 4,
 "nbformat_minor": 0
}