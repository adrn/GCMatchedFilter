{
 "cells": [
  {
   "cell_type": "markdown",
   "metadata": {},
   "source": [
    "From Brani's PS1 query, dereddened with `scripts/deredden-ps1.py`"
   ]
  },
  {
   "cell_type": "code",
   "execution_count": null,
   "metadata": {
    "collapsed": false
   },
   "outputs": [],
   "source": [
    "import os\n",
    "import pickle\n",
    "import sys\n",
    "\n",
    "# Third-party\n",
    "from astropy.io import ascii\n",
    "import astropy.coordinates as coord\n",
    "import astropy.table as table\n",
    "import astropy.units as u\n",
    "import numpy as np\n",
    "import matplotlib as mpl\n",
    "import matplotlib.pyplot as pl\n",
    "pl.style.use('apw-notebook')\n",
    "%matplotlib inline\n",
    "from astropy.io.fits import getdata\n",
    "import healpy as hp\n",
    "from scipy.misc import logsumexp\n",
    "from scipy.ndimage import gaussian_filter\n",
    "from astroML.utils import log_multivariate_gaussian\n",
    "\n",
    "import gary.coordinates as gc\n",
    "import gary.dynamics as gd\n",
    "import gary.potential as gp\n",
    "from gary.observation import distance_modulus\n",
    "\n",
    "from ophiuchus import galactocentric_frame, vcirc, vlsr\n",
    "import ophiuchus.potential as op"
   ]
  },
  {
   "cell_type": "code",
   "execution_count": null,
   "metadata": {
    "collapsed": true
   },
   "outputs": [],
   "source": [
    "catalog_data_path = \"/Users/adrian/projects/globber/data/gc_catalogs/\"\n",
    "data_path = \"/Users/adrian/projects/globber/data/ngc5897/\"\n",
    "plot_path = \"/Users/adrian/projects/globber/plots/ngc5897\"\n",
    "\n",
    "if not os.path.exists(plot_path):\n",
    "    os.mkdir(plot_path)"
   ]
  },
  {
   "cell_type": "code",
   "execution_count": null,
   "metadata": {
    "collapsed": false
   },
   "outputs": [],
   "source": [
    "cluster_name = \"NGC 5897\"\n",
    "\n",
    "# Global configuration stuff\n",
    "DM = 15.62 # Brani's fit\n",
    "cluster_c = coord.SkyCoord(ra=229.352*u.degree,\n",
    "                           dec=-21.01*u.degree) # cluster sky position\n",
    "\n",
    "in_cluster_pad = 0.075*u.degree # include cluster stars within (small for purity)\n",
    "out_cluster_pad = 0.12*u.degree # exclude cluster stars within (large to be safe)\n",
    "g_lim = (17.5, 20.5) # range of g-band magnitudes to use\n",
    "\n",
    "color_lim = {\n",
    "    'g-r': (0,0.5),\n",
    "    'g-i': (0,0.75),\n",
    "    'g-z': (0,0.75),\n",
    "}"
   ]
  },
  {
   "cell_type": "markdown",
   "metadata": {},
   "source": [
    "## Data munging to read in stupid proper motion catalog"
   ]
  },
  {
   "cell_type": "code",
   "execution_count": null,
   "metadata": {
    "collapsed": false
   },
   "outputs": [],
   "source": [
    "pm_gc_main = np.genfromtxt(os.path.join(catalog_data_path,\"gl_2012_J2000.cat1.txt\"), dtype=None, \n",
    "                           skip_header=2, \n",
    "                           usecols=[0,2,3,6,7,8,9,10,11,12,13],\n",
    "                           names=['ngc_num','ra','dec','dist','dist_err','mu_ra','mu_ra_err',\n",
    "                                  'mu_dec','mu_dec_err', 'vr', 'vr_err'])\n",
    "\n",
    "pm_gc_main = table.Table(pm_gc_main)"
   ]
  },
  {
   "cell_type": "code",
   "execution_count": null,
   "metadata": {
    "collapsed": true
   },
   "outputs": [],
   "source": [
    "go = ascii.read(os.path.join(catalog_data_path,\"go97_table1.txt\"))"
   ]
  },
  {
   "cell_type": "code",
   "execution_count": null,
   "metadata": {
    "collapsed": false
   },
   "outputs": [],
   "source": [
    "all_gc = pm_gc_main\n",
    "all_gc['name'] = np.array([\"NGC {}\".format(x) for x in all_gc['ngc_num']])\n",
    "all_gc = table.join(all_gc, go, keys='name')\n",
    "\n",
    "cluster = all_gc[all_gc['name'] == cluster_name]\n",
    "\n",
    "# HACK: use Branimir's distance modulus and make uncertainty better\n",
    "from gary.observation import distance as distance_from_dm\n",
    "cluster['dist'] = distance_from_dm(15.62).to(u.kpc).value\n",
    "cluster['dist_err'] = 0.05*cluster['dist']\n",
    "cluster"
   ]
  },
  {
   "cell_type": "markdown",
   "metadata": {},
   "source": [
    "### Load the Pan-STARRs data"
   ]
  },
  {
   "cell_type": "code",
   "execution_count": null,
   "metadata": {
    "collapsed": false
   },
   "outputs": [],
   "source": [
    "ps1 = np.load(os.path.join(data_path, \"PS1_stars_pv3_dered_sm.npy\"))\n",
    "ps1 = ps1[np.isfinite(ps1['dered_z'])]\n",
    "ps1_c = coord.ICRS(ra=ps1['ra']*u.degree, dec=ps1['dec']*u.degree)"
   ]
  },
  {
   "cell_type": "code",
   "execution_count": null,
   "metadata": {
    "collapsed": false
   },
   "outputs": [],
   "source": [
    "ps1_ra_bounds = (ps1_c.ra.min(), ps1_c.ra.max())\n",
    "ps1_dec_bounds = (ps1_c.dec.min(), ps1_c.dec.max())\n",
    "ps1_ra_bounds, ps1_dec_bounds"
   ]
  },
  {
   "cell_type": "markdown",
   "metadata": {},
   "source": [
    "### Convert coordinates, proper motions into galactocentric cartesian"
   ]
  },
  {
   "cell_type": "code",
   "execution_count": null,
   "metadata": {
    "collapsed": true
   },
   "outputs": [],
   "source": [
    "nsamples = 128"
   ]
  },
  {
   "cell_type": "code",
   "execution_count": null,
   "metadata": {
    "collapsed": false
   },
   "outputs": [],
   "source": [
    "print(cluster.colnames)"
   ]
  },
  {
   "cell_type": "code",
   "execution_count": null,
   "metadata": {
    "collapsed": false
   },
   "outputs": [],
   "source": [
    "cluster_c = coord.ICRS(ra=cluster['ra']*u.degree,\n",
    "                       dec=cluster['dec']*u.degree,\n",
    "                       distance=cluster['dist']*u.kpc)"
   ]
  },
  {
   "cell_type": "code",
   "execution_count": null,
   "metadata": {
    "collapsed": false
   },
   "outputs": [],
   "source": [
    "xyz = cluster_c.transform_to(galactocentric_frame).cartesian.xyz\n",
    "vxyz = gc.vhel_to_gal(cluster_c, pm=(cluster['mu_ra']*u.mas/u.yr,\n",
    "                                     cluster['mu_dec']*u.mas/u.yr),\n",
    "                      rv=cluster['vr']*u.km/u.s, \n",
    "                      galactocentric_frame=galactocentric_frame,\n",
    "                      vcirc=vcirc, vlsr=vlsr)"
   ]
  },
  {
   "cell_type": "code",
   "execution_count": null,
   "metadata": {
    "collapsed": true
   },
   "outputs": [],
   "source": [
    "np.random.seed(42)\n",
    "_distances = np.random.normal(cluster['dist'], cluster['dist_err'], size=nsamples)\n",
    "cluster_samples_c = coord.ICRS(ra=(np.zeros(nsamples) + cluster['ra'])*u.degree,\n",
    "                               dec=(np.zeros(nsamples) + cluster['dec'])*u.degree,\n",
    "                               distance=_distances*u.kpc)\n",
    "\n",
    "_mu_ras = np.random.normal(cluster['mu_ra'], cluster['mu_ra_err'], size=nsamples)\n",
    "_mu_decs = np.random.normal(cluster['mu_dec'], cluster['mu_dec_err'], size=nsamples)\n",
    "_vrs = np.random.normal(cluster['vr'], cluster['vr_err'], size=nsamples)\n",
    "\n",
    "# ---\n",
    "samples_xyz = cluster_samples_c.transform_to(galactocentric_frame).cartesian.xyz\n",
    "samples_vxyz = gc.vhel_to_gal(cluster_samples_c, \n",
    "                              pm=(_mu_ras*u.mas/u.yr, _mu_decs*u.mas/u.yr),\n",
    "                              rv=_vrs*u.km/u.s, \n",
    "                              galactocentric_frame=galactocentric_frame,\n",
    "                              vcirc=vcirc, vlsr=vlsr)"
   ]
  },
  {
   "cell_type": "markdown",
   "metadata": {},
   "source": [
    "### Try integrating some orbits"
   ]
  },
  {
   "cell_type": "code",
   "execution_count": null,
   "metadata": {
    "collapsed": true
   },
   "outputs": [],
   "source": [
    "from gary.dynamics.orbit import combine as combine_orbit\n",
    "from gary.dynamics.core import combine as combine_ps"
   ]
  },
  {
   "cell_type": "code",
   "execution_count": null,
   "metadata": {
    "collapsed": false
   },
   "outputs": [],
   "source": [
    "pot = op.load_potential('static_mw')"
   ]
  },
  {
   "cell_type": "code",
   "execution_count": null,
   "metadata": {
    "collapsed": false
   },
   "outputs": [],
   "source": [
    "w0 = gd.CartesianPhaseSpacePosition(pos=xyz, vel=vxyz)\n",
    "mean_orbit = pot.integrate_orbit(w0, dt=-0.5, nsteps=12000)\n",
    "\n",
    "_w0 = gd.CartesianPhaseSpacePosition(pos=samples_xyz, vel=samples_vxyz)\n",
    "all_w0 = combine_ps((w0,_w0))\n",
    "orbit = pot.integrate_orbit(all_w0, dt=-0.5, nsteps=12000)"
   ]
  },
  {
   "cell_type": "markdown",
   "metadata": {},
   "source": [
    "### Estimate tidal radius at pericenter"
   ]
  },
  {
   "cell_type": "code",
   "execution_count": null,
   "metadata": {
    "collapsed": false
   },
   "outputs": [],
   "source": [
    "pers = [orbit[:,i].pericenter().value for i in range(nsamples)] * u.kpc\n",
    "apos = [orbit[:,i].apocenter().value for i in range(nsamples)] * u.kpc\n",
    "eccs = (apos - pers) / (apos + pers)"
   ]
  },
  {
   "cell_type": "code",
   "execution_count": null,
   "metadata": {
    "collapsed": false
   },
   "outputs": [],
   "source": [
    "pers_xyz = np.zeros((3,len(pers)))\n",
    "pers_xyz[0] = pers.value\n",
    "pers_xyz = pers_xyz*u.kpc\n",
    "mx = pot.mass_enclosed(pers_xyz)\n",
    "\n",
    "pers_xyz = np.zeros((3,len(pers)))\n",
    "pers_xyz[2] = pers.value\n",
    "pers_xyz = pers_xyz*u.kpc\n",
    "mz = pot.mass_enclosed(pers_xyz)\n",
    "\n",
    "rtide_x = pers.to(u.pc) * (cluster['M'] / (3*mx))**(1/3.)\n",
    "rtide_z = pers.to(u.pc) * (cluster['M'] / (3*mz))**(1/3.)\n",
    "peri_rtide = np.mean(np.vstack((rtide_x, rtide_z)).value*rtide_z.unit, axis=0)\n",
    "\n",
    "core_radius = cluster['Rc']*u.pc"
   ]
  },
  {
   "cell_type": "code",
   "execution_count": null,
   "metadata": {
    "collapsed": false
   },
   "outputs": [],
   "source": [
    "pl.hist(core_radius / peri_rtide, bins=np.linspace(0,1.,32));\n",
    "pl.xlabel(r\"$r_c / \\min(r_t)$\")"
   ]
  },
  {
   "cell_type": "code",
   "execution_count": null,
   "metadata": {
    "collapsed": false
   },
   "outputs": [],
   "source": [
    "pl.hist(eccs, bins=np.linspace(0,1,32))\n",
    "pl.xlabel(\"Eccentricity\")"
   ]
  },
  {
   "cell_type": "code",
   "execution_count": null,
   "metadata": {
    "collapsed": false
   },
   "outputs": [],
   "source": [
    "fig,axes = pl.subplots(1,2,figsize=(10,5),sharey=True)\n",
    "axes[0].hist(pers.value, bins=np.linspace(0,8,32))\n",
    "axes[0].set_xlabel(\"Pericenter [kpc]\")\n",
    "\n",
    "axes[1].hist(apos.value, bins=np.linspace(5,20,32))\n",
    "axes[1].set_xlabel(\"Apocenter [kpc]\")"
   ]
  },
  {
   "cell_type": "code",
   "execution_count": null,
   "metadata": {
    "collapsed": false
   },
   "outputs": [],
   "source": [
    "period = np.abs(orbit[:,0].estimate_period())\n",
    "print(\"orbital period: \", period)"
   ]
  },
  {
   "cell_type": "code",
   "execution_count": null,
   "metadata": {
    "collapsed": false
   },
   "outputs": [],
   "source": [
    "fig = orbit[:,0].plot()"
   ]
  },
  {
   "cell_type": "markdown",
   "metadata": {},
   "source": [
    "### Orbits integrated backwards and forwards"
   ]
  },
  {
   "cell_type": "code",
   "execution_count": null,
   "metadata": {
    "collapsed": false
   },
   "outputs": [],
   "source": [
    "c_back,v_back = orbit[:100].to_frame(coord.ICRS, vcirc=vcirc, vlsr=vlsr, # orbit -50 Myr\n",
    "                                     galactocentric_frame=galactocentric_frame) \n",
    "\n",
    "orbit_forw = pot.integrate_orbit(all_w0, dt=0.5, nsteps=100)\n",
    "c_forw,v_forw = orbit_forw.to_frame(coord.ICRS, vcirc=vcirc, vlsr=vlsr, # orbit +50 Myr\n",
    "                                    galactocentric_frame=galactocentric_frame) "
   ]
  },
  {
   "cell_type": "code",
   "execution_count": null,
   "metadata": {
    "collapsed": true
   },
   "outputs": [],
   "source": [
    "nplot = 256\n",
    "orbit_alpha = 0.05\n",
    "back_style = dict(linestyle='-', marker=None, color='k', alpha=orbit_alpha)\n",
    "forw_style = dict(linestyle='-', marker=None, color='#2166AC', alpha=orbit_alpha)"
   ]
  },
  {
   "cell_type": "code",
   "execution_count": null,
   "metadata": {
    "collapsed": false,
    "scrolled": true
   },
   "outputs": [],
   "source": [
    "ps1_select = mpl.patches.Rectangle((220,-24), width=20, height=7, alpha=0.1)\n",
    "\n",
    "fig,ax = pl.subplots(1,1,figsize=(8,6))\n",
    "ax.plot(c_back.ra.degree[:,:nplot], c_back.dec.degree[:,:nplot], **back_style)\n",
    "ax.plot(c_forw.ra.degree[:,:nplot], c_forw.dec.degree[:,:nplot], **forw_style)\n",
    "\n",
    "ax.set_xlim(ps1_ra_bounds[1].degree+1, ps1_ra_bounds[0].degree-1)\n",
    "ax.set_ylim(ps1_dec_bounds[0].degree-1, ps1_dec_bounds[1].degree+1)\n",
    "\n",
    "ax.add_patch(ps1_select)\n",
    "ax.set_aspect('equal')\n",
    "pl.minorticks_on()\n",
    "pl.xlabel(\"RA [deg]\")\n",
    "pl.ylabel(\"Dec [deg]\");"
   ]
  },
  {
   "cell_type": "code",
   "execution_count": null,
   "metadata": {
    "collapsed": false
   },
   "outputs": [],
   "source": [
    "fig,ax = pl.subplots(1,1,figsize=(8,6))\n",
    "ax.plot(c_back.ra.degree[:,:nplot], c_back.distance[:,:nplot], **back_style)\n",
    "ax.plot(c_forw.ra.degree[:,:nplot], c_forw.distance[:,:nplot], **forw_style)\n",
    "\n",
    "ax.set_xlabel(\"RA [deg]\")\n",
    "ax.set_ylabel(\"Helio. distance [kpc]\")\n",
    "\n",
    "ax.set_xlim(ps1_ra_bounds[1].degree+1, ps1_ra_bounds[0].degree-1)\n",
    "ax.set_ylim(9,16)\n",
    "pl.minorticks_on()\n",
    "pl.grid()"
   ]
  },
  {
   "cell_type": "code",
   "execution_count": null,
   "metadata": {
    "collapsed": false
   },
   "outputs": [],
   "source": [
    "fig,ax = pl.subplots(1,1,figsize=(8,6))\n",
    "\n",
    "ax.plot(c_back.ra.degree[:,:nplot], distance_modulus(c_back.distance[:,:nplot]), **back_style)\n",
    "ax.plot(c_forw.ra.degree[:,:nplot], distance_modulus(c_forw.distance[:,:nplot]), **forw_style)\n",
    "\n",
    "ax.set_xlabel(\"RA [deg]\")\n",
    "ax.set_ylabel(\"Distance modulus\")\n",
    "ax.set_xlim(ps1_ra_bounds[1].degree+1, ps1_ra_bounds[0].degree-1)\n",
    "ax.set_ylim(15.3, 15.9)\n",
    "# ax.xaxis.set_ticks(np.arange(200,330,10))\n",
    "pl.minorticks_on()\n",
    "pl.grid()"
   ]
  },
  {
   "cell_type": "code",
   "execution_count": null,
   "metadata": {
    "collapsed": false
   },
   "outputs": [],
   "source": [
    "fig,ax = pl.subplots(1,1,figsize=(8,6))\n",
    "ax.plot(c_back.ra.degree[:,:nplot], v_back[2].to(u.km/u.s).value[:,:nplot], **back_style)\n",
    "ax.plot(c_forw.ra.degree[:,:nplot], v_forw[2].to(u.km/u.s).value[:,:nplot], **forw_style)\n",
    "\n",
    "ax.set_xlabel(\"RA [deg]\")\n",
    "ax.set_ylabel(r\"$v_{\\rm los}$ [km/s]\")\n",
    "ax.set_xlim(ps1_ra_bounds[1].degree+1, ps1_ra_bounds[0].degree-1)\n",
    "pl.minorticks_on()\n",
    "pl.grid()"
   ]
  },
  {
   "cell_type": "markdown",
   "metadata": {},
   "source": [
    "## Select Control field stars and Target stars"
   ]
  },
  {
   "cell_type": "markdown",
   "metadata": {},
   "source": [
    "Just exclude cluster stars"
   ]
  },
  {
   "cell_type": "code",
   "execution_count": null,
   "metadata": {
    "collapsed": true
   },
   "outputs": [],
   "source": [
    "control_idx = ps1_c.separation(cluster_c) > out_cluster_pad\n",
    "targets_idx = np.ones_like(control_idx).astype(bool)"
   ]
  },
  {
   "cell_type": "code",
   "execution_count": null,
   "metadata": {
    "collapsed": false
   },
   "outputs": [],
   "source": [
    "control = ps1[control_idx]\n",
    "targets = ps1[targets_idx]\n",
    "len(control), len(targets)"
   ]
  },
  {
   "cell_type": "code",
   "execution_count": null,
   "metadata": {
    "collapsed": false,
    "scrolled": true
   },
   "outputs": [],
   "source": [
    "fig,ax = pl.subplots(1,1,figsize=(8,6))\n",
    "\n",
    "ax.plot(ps1['ra'], ps1['dec'], marker=',', ls='none', alpha=0.1, color='k')\n",
    "\n",
    "ax.plot(c_back[:,0].ra.degree, c_back[:,0].dec.degree, ls='-', marker=None)\n",
    "ax.plot(c_forw[:,0].ra.degree, c_forw[:,0].dec.degree, ls='--', marker=None)\n",
    "\n",
    "ax.set_xlim(ps1_ra_bounds[1].value, ps1_ra_bounds[0].value)\n",
    "ax.set_ylim(ps1_dec_bounds[0].value, ps1_dec_bounds[1].value)\n",
    "ax.set_aspect('equal')\n",
    "pl.minorticks_on()"
   ]
  },
  {
   "cell_type": "markdown",
   "metadata": {},
   "source": [
    "## Zoom around the cluster itself"
   ]
  },
  {
   "cell_type": "code",
   "execution_count": null,
   "metadata": {
    "collapsed": false
   },
   "outputs": [],
   "source": [
    "cluster_idx = ps1_c.separation(cluster_c) < in_cluster_pad\n",
    "cluster_stars = ps1[cluster_idx]\n",
    "len(cluster_stars)"
   ]
  },
  {
   "cell_type": "code",
   "execution_count": null,
   "metadata": {
    "collapsed": false
   },
   "outputs": [],
   "source": [
    "_buffer = 0.5\n",
    "fig,ax = pl.subplots(1,1,figsize=(8,6))\n",
    "\n",
    "alpha = 0.05\n",
    "ax.plot(ps1['ra'], ps1['dec'], marker='.', ls='none', alpha=alpha, color='k')\n",
    "ax.plot(cluster_stars['ra'], cluster_stars['dec'], marker='.', ls='none', alpha=0.2, color='g')\n",
    "\n",
    "ax.set_xlim(cluster['ra']+_buffer,cluster['ra']-_buffer)\n",
    "ax.set_ylim(cluster['dec']-_buffer,cluster['dec']+_buffer)\n",
    "ax.set_aspect('equal')\n",
    "pl.minorticks_on()"
   ]
  },
  {
   "cell_type": "markdown",
   "metadata": {},
   "source": [
    "### Read the isochrone"
   ]
  },
  {
   "cell_type": "code",
   "execution_count": null,
   "metadata": {
    "collapsed": false
   },
   "outputs": [],
   "source": [
    "# isochrone\n",
    "isoch = ascii.read(os.path.join(data_path,\"ngc5897_iso_ps1.dat\"), header_start=13)\n",
    "# isoch = ascii.read(os.path.join(data_path,\"ngc5897_iso_ps1_brani.dat\"), header_start=13)\n",
    "print(isoch.colnames)"
   ]
  },
  {
   "cell_type": "markdown",
   "metadata": {},
   "source": [
    "### Distance modulus = 15.55 mag (from http://arxiv.org/pdf/1403.1262v1.pdf)"
   ]
  },
  {
   "cell_type": "code",
   "execution_count": null,
   "metadata": {
    "collapsed": false
   },
   "outputs": [],
   "source": [
    "fig,ax = pl.subplots(1,1,figsize=(6,6))\n",
    "\n",
    "_iso_style = dict(marker='.', ls='none', alpha=0.5)\n",
    "ax.plot(isoch['gP1'] - isoch['rP1'], isoch['gP1'] + DM, **_iso_style)\n",
    "ax.set_xlim(-0.5,1.1)\n",
    "ax.set_ylim(22,13)\n",
    "ax.set_xlabel(\"$(g-r)_0$\")\n",
    "ax.set_ylabel(\"$g_0$\")\n",
    "\n",
    "fig.tight_layout()"
   ]
  },
  {
   "cell_type": "markdown",
   "metadata": {},
   "source": [
    "### Plot the cluster stars"
   ]
  },
  {
   "cell_type": "code",
   "execution_count": null,
   "metadata": {
    "collapsed": true
   },
   "outputs": [],
   "source": [
    "def plot_color_mag(data, col_prefix=\"dered_\", isochrone=True, dm=15.55, isochrone_style=None, **style):\n",
    "    _g = data['{}g'.format(col_prefix)]\n",
    "    _r = data['{}r'.format(col_prefix)]\n",
    "    _i = data['{}i'.format(col_prefix)]\n",
    "    _z = data['{}z'.format(col_prefix)]\n",
    "#     _y = data['{}y'.format(col_prefix)]\n",
    "    \n",
    "    if isochrone_style is None:\n",
    "        isochrone_style = dict()\n",
    "        \n",
    "    fig,axes = pl.subplots(1,3,figsize=(8,5),sharey=True)\n",
    "    \n",
    "    style['linestyle'] = style.get('linestyle', 'none')\n",
    "    style['marker'] = style.get('marker', '.')\n",
    "    style['alpha'] = style.get('alpha', 0.1)\n",
    "    axes[0].plot(_g-_r, _g, **style)\n",
    "    axes[1].plot(_g-_i, _g, **style)\n",
    "    axes[2].plot(_g-_z, _g, **style)\n",
    "#     axes[3].plot(_g-_y, _g, **style)\n",
    "    \n",
    "    if isochrone:\n",
    "        axes[0].plot(isoch['gP1'] - isoch['rP1'], isoch['gP1'] + dm, \n",
    "                     marker=isochrone_style.get('marker', None), **isochrone_style)\n",
    "        axes[1].plot(isoch['gP1'] - isoch['iP1'], isoch['gP1'] + dm, \n",
    "                     marker=isochrone_style.get('marker', None), **isochrone_style)\n",
    "        axes[2].plot(isoch['gP1'] - isoch['zP1'], isoch['gP1'] + dm, \n",
    "                     marker=isochrone_style.get('marker', None), **isochrone_style)\n",
    "#         axes[3].plot(isoch['gP1'] - isoch['yP1'], isoch['gP1'] + dm, \n",
    "#                      marker=isochrone_style.get('marker', None), **isochrone_style)\n",
    "\n",
    "    axes[0].set_ylim(22,13)\n",
    "    axes[0].set_xlim(-0.5,1.1)\n",
    "    axes[1].set_xlim(-0.75,2)\n",
    "    axes[2].set_xlim(-1,2.)\n",
    "#     axes[3].set_xlim(-1,2.)\n",
    "\n",
    "    axes[0].set_ylabel(\"$g_0$\")\n",
    "    axes[0].set_xlabel(\"$(g-r)_0$\")\n",
    "    axes[1].set_xlabel(\"$(g-i)_0$\")\n",
    "    axes[2].set_xlabel(\"$(g-z)_0$\")\n",
    "#     axes[3].set_xlabel(\"$(g-y)_0$\")\n",
    "\n",
    "    fig.tight_layout()\n",
    "    \n",
    "    return fig, axes"
   ]
  },
  {
   "cell_type": "code",
   "execution_count": null,
   "metadata": {
    "collapsed": false
   },
   "outputs": [],
   "source": [
    "fig,axes = plot_color_mag(cluster_stars, dm=DM, alpha=0.2)\n",
    "fig.suptitle(\"NGC 5897\", fontsize=20, y=1.02)\n",
    "\n",
    "for i,name in enumerate(['g-r','g-i','g-z']):\n",
    "    xy = (min(color_lim[name]),min(g_lim))\n",
    "    w = np.ptp(color_lim[name])\n",
    "    h = np.ptp(g_lim)\n",
    "\n",
    "    r = pl.Rectangle(xy, width=w, height=h, facecolor='g', alpha=0.3)\n",
    "    axes[i].add_patch(r)"
   ]
  },
  {
   "cell_type": "code",
   "execution_count": null,
   "metadata": {
    "collapsed": false
   },
   "outputs": [],
   "source": [
    "# np.save(os.path.join(data_path, \"ngc5897.npy\"), cluster_stars)"
   ]
  },
  {
   "cell_type": "markdown",
   "metadata": {},
   "source": [
    "---"
   ]
  },
  {
   "cell_type": "code",
   "execution_count": null,
   "metadata": {
    "collapsed": false
   },
   "outputs": [],
   "source": [
    "def derp(d, colname_pattern=\"dered_{band}\", buffer=0., dm=0):\n",
    "    cp = colname_pattern\n",
    "    b = buffer\n",
    "    \n",
    "    g_lim = (13.5, 17.1)\n",
    "    clim = color_lim.copy()\n",
    "    clim['g-r'] = (0,0.8)\n",
    "    \n",
    "    g = d[cp.format(band='g')]\n",
    "    gr = g-d[cp.format(band='r')]\n",
    "    gi = g-d[cp.format(band='i')]\n",
    "    gz = g-d[cp.format(band='z')]\n",
    "    \n",
    "    ix = (((g+dm) > (g_lim[0]-b)) & ((g+dm) < (g_lim[1]+b)) & \n",
    "          (gr > (clim['g-r'][0]-b)) & (gr < (clim['g-r'][1]+b)))\n",
    "    return d[ix]\n",
    "\n",
    "glue_ps1 = derp(ps1)\n",
    "from astropy.table import Table\n",
    "ascii.write(Table(glue_ps1), \"/Users/adrian/projects/globber/data/ngc5897/PS1_bright_glue.txt\")\n",
    "# np.save(\"/Users/adrian/projects/globber/data/ngc5897/PS1_bright_glue.npy\", glue_ps1)"
   ]
  },
  {
   "cell_type": "code",
   "execution_count": null,
   "metadata": {
    "collapsed": false
   },
   "outputs": [],
   "source": [
    "fig,axes = plot_color_mag(control, dm=DM, alpha=0.05, marker=',', isochrone=False)\n",
    "fig.suptitle(\"Control field\", fontsize=20, y=1.02)"
   ]
  },
  {
   "cell_type": "code",
   "execution_count": null,
   "metadata": {
    "collapsed": false
   },
   "outputs": [],
   "source": [
    "fig,axes = plot_color_mag(targets, dm=DM, alpha=0.2, marker=',', isochrone=False)\n",
    "fig.suptitle(\"Cluster field\", fontsize=20, y=1.02)"
   ]
  },
  {
   "cell_type": "markdown",
   "metadata": {},
   "source": [
    "---"
   ]
  },
  {
   "cell_type": "code",
   "execution_count": null,
   "metadata": {
    "collapsed": true
   },
   "outputs": [],
   "source": [
    "def cut_func(d, colname_pattern=\"dered_{band}\", buffer=0., dm=0):\n",
    "    cp = colname_pattern\n",
    "    b = buffer\n",
    "    \n",
    "    g = d[cp.format(band='g')]\n",
    "    gr = g-d[cp.format(band='r')]\n",
    "    gi = g-d[cp.format(band='i')]\n",
    "    gz = g-d[cp.format(band='z')]\n",
    "    \n",
    "    ix = (((g+dm) > (g_lim[0]-b)) & ((g+dm) < (g_lim[1]+b)) & \n",
    "          (gr > (color_lim['g-r'][0]-b)) & (gr < (color_lim['g-r'][1]+b)) &\n",
    "          (gi > (color_lim['g-i'][0]-b)) & (gi < (color_lim['g-i'][1]+b)) &\n",
    "          (gz > (color_lim['g-z'][0]-b)) & (gz < (color_lim['g-z'][1]+b)))\n",
    "    return d[ix]"
   ]
  },
  {
   "cell_type": "code",
   "execution_count": null,
   "metadata": {
    "collapsed": false
   },
   "outputs": [],
   "source": [
    "def draw_lines(axes):\n",
    "    # Just MSTO\n",
    "#     for ax in axes.flat:\n",
    "#         ax.axhline(17.5, color='r')\n",
    "#         ax.axhline(20.5, color='r')\n",
    "\n",
    "#     axes[0].axvline(-0.1, color='r')\n",
    "#     axes[0].axvline(0.6, color='r')\n",
    "#     axes[1].axvline(-0.2, color='r')\n",
    "#     axes[1].axvline(0.9, color='r')\n",
    "#     axes[2].axvline(-0.2, color='r')\n",
    "#     axes[2].axvline(0.9, color='r')\n",
    "    \n",
    "    # diagonal lines\n",
    "#     gr_line = lambda x: 10.*x + 15.3\n",
    "#     gi_line = lambda x: 7.*x + 15.25\n",
    "#     gz_line = lambda x: 4.*x + 16.75\n",
    "#     _gr = np.linspace(-0.4,0.8)\n",
    "#     _gi = np.linspace(-0.6,1.5)\n",
    "#     _gz = np.linspace(-0.8,1.5)\n",
    "#     axes[0].plot(_gr, gr_line(_gr), marker=None, color='r')\n",
    "#     axes[1].plot(_gi, gi_line(_gi), marker=None, color='r')\n",
    "#     axes[2].plot(_gz, gz_line(_gz), marker=None, color='r')\n",
    "#     axes[0].plot(_gr, gr_line(_gr)+5, marker=None, color='r')\n",
    "#     axes[1].plot(_gi, gi_line(_gi)+5, marker=None, color='r')\n",
    "#     axes[2].plot(_gz, gz_line(_gz)+4, marker=None, color='r')\n",
    "\n",
    "    # WITH BHB\n",
    "    # for ax in axes.flat:\n",
    "    #     ax.axhline(15.5, color='r')\n",
    "    #     ax.axhline(20.5, color='r')\n",
    "\n",
    "    # axes[0].axvline(-0.4, color='r')\n",
    "    # axes[0].axvline(0.6, color='r')\n",
    "    # axes[1].axvline(-0.65, color='r')\n",
    "    # axes[1].axvline(0.9, color='r')\n",
    "    # axes[2].axvline(-0.9, color='r')\n",
    "    # axes[2].axvline(0.9, color='r')\n",
    "    \n",
    "    # remove the disk instead of selecting the cluster\n",
    "    for ax in axes.flat:\n",
    "        ax.axhline(14., color='r', linestyle='--')\n",
    "        ax.axhline(21.5, color='r', linestyle='--')\n",
    "        ax.axhline(18., color='r')\n",
    "        \n",
    "    axes[0].axvline(0.3, color='r')\n",
    "    axes[0].axvline(0.42, color='r')\n",
    "    \n",
    "    axes[1].axvline(0.38, color='r')\n",
    "    axes[1].axvline(0.55, color='r')\n",
    "    \n",
    "    axes[2].axvline(0.4, color='r')\n",
    "    axes[2].axvline(0.6, color='r')\n",
    "\n",
    "fig,axes = plot_color_mag(cluster_stars, dm=DM, alpha=0.2)\n",
    "fig.suptitle(\"NGC 5897\", fontsize=20, y=1.02)\n",
    "draw_lines(axes)\n",
    "\n",
    "fig,axes = plot_color_mag(targets, dm=DM, alpha=0.02, marker=',', isochrone=False)\n",
    "fig.suptitle(\"Cluster field\", fontsize=20, y=1.02)\n",
    "draw_lines(axes)"
   ]
  },
  {
   "cell_type": "code",
   "execution_count": null,
   "metadata": {
    "collapsed": false
   },
   "outputs": [],
   "source": [
    "len(cluster_stars)"
   ]
  },
  {
   "cell_type": "code",
   "execution_count": null,
   "metadata": {
    "collapsed": false
   },
   "outputs": [],
   "source": [
    "cut_targets = cut_func(targets)\n",
    "\n",
    "cut_isochrone = cut_func(isoch, colname_pattern='{band}P1', dm=DM, buffer=0.05)\n",
    "cut_control = cut_func(control, buffer=0.05)\n",
    "cut_cluster = cut_func(cluster_stars, buffer=0.05)\n",
    "len(cut_targets), len(cut_control)"
   ]
  },
  {
   "cell_type": "markdown",
   "metadata": {},
   "source": [
    "---\n",
    "\n",
    "Hacks below"
   ]
  },
  {
   "cell_type": "code",
   "execution_count": null,
   "metadata": {
    "collapsed": true
   },
   "outputs": [],
   "source": [
    "def sky_cut(data):\n",
    "#     idx = ((data['ra'] < cluster_c.ra.degree) & (data['ra'] > 225))\n",
    "    idx = ((data['ra'] < cluster_c.ra.degree) & (data['ra'] > 228.4) & \n",
    "           (data['dec'] > cluster_c.dec.degree) & (data['dec'] < -20.5))\n",
    "    return data[idx]\n",
    "    \n",
    "def data_to_X_cov(data):\n",
    "    X = np.vstack([data['dered_{}'.format(band)] for band in 'griz']).T\n",
    "    Xerr = np.vstack([data['{}Err'.format(band)] for band in 'griz']).T\n",
    "    \n",
    "    # mixing matrix W\n",
    "    W = np.array([[1, 0, 0, 0],    # g magnitude\n",
    "                  [1, -1, 0, 0],   # g-r color\n",
    "                  [1, 0, -1, 0],   # g-i color\n",
    "                  [1, 0, 0, -1]])  # g-z color\n",
    "\n",
    "    X = np.dot(X, W.T)\n",
    "\n",
    "    # compute error covariance from mixing matrix\n",
    "    Xcov = np.zeros(Xerr.shape + Xerr.shape[-1:])\n",
    "    Xcov[:, range(Xerr.shape[1]), range(Xerr.shape[1])] = Xerr ** 2\n",
    "\n",
    "    # each covariance C = WCW^T\n",
    "    # best way to do this is with a tensor dot-product\n",
    "    Xcov = np.tensordot(np.dot(Xcov, W.T), W, (-2, -1))\n",
    "    \n",
    "    return X, Xcov"
   ]
  },
  {
   "cell_type": "code",
   "execution_count": null,
   "metadata": {
    "collapsed": false
   },
   "outputs": [],
   "source": [
    "clusterX,clusterCov = data_to_X_cov(sky_cut(cluster_stars)[::10])\n",
    "clusterX.shape"
   ]
  },
  {
   "cell_type": "code",
   "execution_count": null,
   "metadata": {
    "collapsed": false
   },
   "outputs": [],
   "source": [
    "controlX,controlCov = data_to_X_cov(sky_cut(control))\n",
    "controlX.shape"
   ]
  },
  {
   "cell_type": "code",
   "execution_count": null,
   "metadata": {
    "collapsed": false
   },
   "outputs": [],
   "source": [
    "targetsX,targetsCov = data_to_X_cov(sky_cut(targets)[::10])\n",
    "targetsX.shape"
   ]
  },
  {
   "cell_type": "code",
   "execution_count": null,
   "metadata": {
    "collapsed": true
   },
   "outputs": [],
   "source": [
    "def kde_with_cov(X, Xcov, Y, Ycov, smooth=0.):\n",
    "    if Xcov.ndim != 4:\n",
    "        Xcov = Xcov[:,np.newaxis,:,:]\n",
    "    \n",
    "#     if smooth > 0.:\n",
    "#         H = np.diag(np.ones(Xcov.shape[-1])*smooth)**2\n",
    "#         V = Xcov + H\n",
    "#     else:\n",
    "    V = Xcov + Ycov\n",
    "    \n",
    "    LL = log_multivariate_gaussian(X[:,np.newaxis,:], Y, V)\n",
    "    return logsumexp(LL, axis=-1) # NOTE: could also max here"
   ]
  },
  {
   "cell_type": "code",
   "execution_count": null,
   "metadata": {
    "collapsed": false
   },
   "outputs": [],
   "source": [
    "%timeit LL = kde_with_cov(targetsX, targetsCov, clusterX, clusterCov)"
   ]
  },
  {
   "cell_type": "code",
   "execution_count": null,
   "metadata": {
    "collapsed": false
   },
   "outputs": [],
   "source": [
    "LL.shape"
   ]
  },
  {
   "cell_type": "code",
   "execution_count": null,
   "metadata": {
    "collapsed": true
   },
   "outputs": [],
   "source": [
    "this_targets = sky_cut(targets)[::10]\n",
    "\n",
    "step = 0.05\n",
    "ra_bins = np.arange(this_targets['ra'].min(), this_targets['ra'].max(), step=step)\n",
    "dec_bins = np.arange(this_targets['dec'].min(), this_targets['dec'].max(), step=step)\n",
    "\n",
    "weights = np.exp(LL)\n",
    "good_idx = np.isfinite(weights)\n",
    "good_targets = this_targets[good_idx]\n",
    "\n",
    "H,ra_edges,dec_edges = np.histogram2d(good_targets['ra'], good_targets['dec'], \n",
    "                                      bins=(ra_bins,dec_bins), weights=weights[good_idx],\n",
    "                                      normed=True)\n",
    "# H[H > 1E5] = 1E5\n",
    "# H_sigma = 1\n",
    "# H = gaussian_filter(H, sigma=H_sigma)"
   ]
  },
  {
   "cell_type": "code",
   "execution_count": null,
   "metadata": {
    "collapsed": false
   },
   "outputs": [],
   "source": [
    "pl.imshow(H.T, interpolation='nearest', origin='bottom', cmap='Greys_r', vmin=0.)"
   ]
  },
  {
   "cell_type": "code",
   "execution_count": null,
   "metadata": {
    "collapsed": true
   },
   "outputs": [],
   "source": []
  },
  {
   "cell_type": "code",
   "execution_count": null,
   "metadata": {
    "collapsed": false
   },
   "outputs": [],
   "source": [
    "idx = np.where(LL == LL.max())"
   ]
  },
  {
   "cell_type": "code",
   "execution_count": null,
   "metadata": {
    "collapsed": false
   },
   "outputs": [],
   "source": [
    "idx"
   ]
  },
  {
   "cell_type": "code",
   "execution_count": null,
   "metadata": {
    "collapsed": false
   },
   "outputs": [],
   "source": [
    "targetsX[idx[0]], clusterX[idx[1]]"
   ]
  },
  {
   "cell_type": "markdown",
   "metadata": {},
   "source": [
    "HACKS ABOVE\n",
    "\n",
    "---\n",
    "\n",
    "## Testing KDE instead"
   ]
  },
  {
   "cell_type": "code",
   "execution_count": null,
   "metadata": {
    "collapsed": true
   },
   "outputs": [],
   "source": [
    "from sklearn.neighbors import KernelDensity"
   ]
  },
  {
   "cell_type": "code",
   "execution_count": null,
   "metadata": {
    "collapsed": false
   },
   "outputs": [],
   "source": [
    "features = []\n",
    "features.append(cut_isochrone['gP1'] + DM)\n",
    "features.append(cut_isochrone['gP1'] - cut_isochrone['rP1'])\n",
    "features.append(cut_isochrone['gP1'] - cut_isochrone['iP1'])\n",
    "features.append(cut_isochrone['gP1'] - cut_isochrone['zP1'])\n",
    "isoX = np.vstack(features).T\n",
    "\n",
    "def X_to_grid(X,size=64,custom_limits=None):\n",
    "    nfeatures = X.shape[-1]\n",
    "    grids = []\n",
    "    for i in range(nfeatures):\n",
    "        if custom_limits is None:\n",
    "            minX,maxX = (X[:,i].min(), X[:,i].max())\n",
    "            span = maxX-minX\n",
    "            lims = [minX-0.05*span, maxX+0.05*span]\n",
    "        else:\n",
    "            lims = custom_limits[i]\n",
    "        grid = np.linspace(lims[0], lims[1], size)\n",
    "        grids.append(grid)\n",
    "    \n",
    "    return np.meshgrid(*grids)"
   ]
  },
  {
   "cell_type": "markdown",
   "metadata": {},
   "source": [
    "### Fit a KDE to the isochrone"
   ]
  },
  {
   "cell_type": "code",
   "execution_count": null,
   "metadata": {
    "collapsed": false
   },
   "outputs": [],
   "source": [
    "# isochrone_kde = KernelDensity(bandwidth=0.05, kernel='gaussian')\n",
    "isochrone_kde = KernelDensity(bandwidth=0.1, kernel='epanechnikov')\n",
    "isochrone_kde.fit(isoX)"
   ]
  },
  {
   "cell_type": "code",
   "execution_count": null,
   "metadata": {
    "collapsed": false
   },
   "outputs": [],
   "source": [
    "Xgrid = X_to_grid(isoX, size=32, custom_limits=[g_lim,color_lim['g-r'],color_lim['g-i'],color_lim['g-z']])\n",
    "grid_shape = Xgrid[0].shape\n",
    "Xgrid = np.vstack([X.ravel() for X in Xgrid]).T\n",
    "\n",
    "log_dens = isochrone_kde.score_samples(Xgrid)\n",
    "log_dens = np.exp(log_dens).reshape(grid_shape).sum(axis=3).sum(axis=2) / (grid_shape[3]*grid_shape[2])"
   ]
  },
  {
   "cell_type": "code",
   "execution_count": null,
   "metadata": {
    "collapsed": false
   },
   "outputs": [],
   "source": [
    "pl.figure(figsize=(8,6))\n",
    "pl.pcolormesh(Xgrid[:,0].reshape(grid_shape)[...,0,0],\n",
    "              Xgrid[:,1].reshape(grid_shape)[...,0,0],\n",
    "              log_dens, cmap='viridis')\n",
    "pl.plot(cut_isochrone['gP1']+DM, cut_isochrone['gP1']-cut_isochrone['rP1'], \n",
    "        marker='o', alpha=1., linestyle='none', color='r')\n",
    "# pl.plot(cluster_stars['dered_g']-cluster_stars['dered_r'], cluster_stars['dered_g'], \n",
    "#         marker='.', alpha=0.3, linestyle='none', color='w')\n",
    "pl.xlim(g_lim[::-1])\n",
    "pl.ylim(color_lim['g-r'])\n",
    "pl.colorbar()\n",
    "pl.gca().set_aspect('equal')"
   ]
  },
  {
   "cell_type": "code",
   "execution_count": null,
   "metadata": {
    "collapsed": true
   },
   "outputs": [],
   "source": [
    "def kde_with_cov(Xdata, Xcov, Xiso, smooth=None):\n",
    "    if smooth is None:\n",
    "        smooth = isochrone_kde.bandwidth\n",
    "    \n",
    "    if Xcov.ndim != 4:\n",
    "        Xcov = Xcov[:,np.newaxis,:,:]\n",
    "        \n",
    "    H = np.diag(np.ones(Xcov.shape[-1])*smooth)**2\n",
    "    V = Xcov + H\n",
    "    \n",
    "    LL = log_multivariate_gaussian(Xdata[:,np.newaxis,:], Xiso, V)\n",
    "    return logsumexp(LL, axis=-1)"
   ]
  },
  {
   "cell_type": "markdown",
   "metadata": {},
   "source": [
    "### Use XDGMM to get the density of the background"
   ]
  },
  {
   "cell_type": "code",
   "execution_count": null,
   "metadata": {
    "collapsed": false
   },
   "outputs": [],
   "source": [
    "from astroML.density_estimation import XDGMM"
   ]
  },
  {
   "cell_type": "code",
   "execution_count": null,
   "metadata": {
    "collapsed": true
   },
   "outputs": [],
   "source": [
    "def data_to_X_cov(data):\n",
    "    X = np.vstack([data['dered_{}'.format(band)] for band in 'griz']).T\n",
    "    Xerr = np.vstack([data['{}Err'.format(band)] for band in 'griz']).T\n",
    "    \n",
    "    # mixing matrix W\n",
    "    W = np.array([[1, 0, 0, 0],    # g magnitude\n",
    "                  [1, -1, 0, 0],   # g-r color\n",
    "                  [1, 0, -1, 0],   # g-i color\n",
    "                  [1, 0, 0, -1]])  # g-z color\n",
    "\n",
    "    X = np.dot(X, W.T)\n",
    "\n",
    "    # compute error covariance from mixing matrix\n",
    "    Xcov = np.zeros(Xerr.shape + Xerr.shape[-1:])\n",
    "    Xcov[:, range(Xerr.shape[1]), range(Xerr.shape[1])] = Xerr ** 2\n",
    "\n",
    "    # each covariance C = WCW^T\n",
    "    # best way to do this is with a tensor dot-product\n",
    "    Xcov = np.tensordot(np.dot(Xcov, W.T), W, (-2, -1))\n",
    "    \n",
    "    return X, Xcov"
   ]
  },
  {
   "cell_type": "code",
   "execution_count": null,
   "metadata": {
    "collapsed": true
   },
   "outputs": [],
   "source": [
    "control_X,control_cov = data_to_X_cov(cut_control)"
   ]
  },
  {
   "cell_type": "code",
   "execution_count": null,
   "metadata": {
    "collapsed": false
   },
   "outputs": [],
   "source": [
    "control_X.shape"
   ]
  },
  {
   "cell_type": "markdown",
   "metadata": {},
   "source": [
    "TODO: on the cluster, fit an XDGMM with 32 clusters"
   ]
  },
  {
   "cell_type": "code",
   "execution_count": null,
   "metadata": {
    "collapsed": true
   },
   "outputs": [],
   "source": [
    "# pickle this thing! xd_clf\n",
    "with open(\"/Users/adrian/projects/globber/data/xd_control_clf.pickle\", \"rb\") as f:\n",
    "    xd_clf = pickle.load(f)"
   ]
  },
  {
   "cell_type": "code",
   "execution_count": null,
   "metadata": {
    "collapsed": false,
    "scrolled": true
   },
   "outputs": [],
   "source": [
    "# n_clusters = 16\n",
    "# n_iter = 100\n",
    "\n",
    "# xd_clf = XDGMM(n_clusters, n_iter=n_iter, tol=1E-4, verbose=True)\n",
    "# xd_clf.fit(control_X[::20], control_cov[::20])\n",
    "\n",
    "# # pickle this thing! xd_clf\n",
    "# with open(\"/Users/adrian/projects/globber/data/xd_control_clf.pickle\", \"wb\") as f:\n",
    "#     pickle.dump(xd_clf, f)"
   ]
  },
  {
   "cell_type": "code",
   "execution_count": null,
   "metadata": {
    "collapsed": true
   },
   "outputs": [],
   "source": [
    "sampleX = xd_clf.sample(size=100000)"
   ]
  },
  {
   "cell_type": "code",
   "execution_count": null,
   "metadata": {
    "collapsed": false
   },
   "outputs": [],
   "source": [
    "fig,axes = pl.subplots(1,2,figsize=(10,5),sharex=True,sharey=True)\n",
    "axes[0].plot(control_X[::10,1], control_X[::10,0], ls='none', marker=',', alpha=1.)\n",
    "axes[0].set_title(\"Data\")\n",
    "axes[1].plot(sampleX[:,1], sampleX[:,0], ls='none', marker=',')\n",
    "axes[1].set_title(\"XD\")\n",
    "\n",
    "axes[0].set_xlim(color_lim['g-r'])\n",
    "axes[0].set_ylim(g_lim)\n",
    "axes[0].set_ylim(axes[0].get_ylim()[::-1])"
   ]
  },
  {
   "cell_type": "markdown",
   "metadata": {},
   "source": [
    "Now evaluate with target field"
   ]
  },
  {
   "cell_type": "code",
   "execution_count": null,
   "metadata": {
    "collapsed": true
   },
   "outputs": [],
   "source": [
    "target_X,target_cov = data_to_X_cov(cut_targets)"
   ]
  },
  {
   "cell_type": "code",
   "execution_count": null,
   "metadata": {
    "collapsed": true
   },
   "outputs": [],
   "source": [
    "# log_prob_isochrone = isochrone_kde.score_samples(target_X)\n",
    "log_prob_isochrone = kde_with_cov(target_X, target_cov, isoX, smooth=isochrone_kde.bandwidth)"
   ]
  },
  {
   "cell_type": "code",
   "execution_count": null,
   "metadata": {
    "collapsed": false
   },
   "outputs": [],
   "source": [
    "log_prob_control = xd_clf.logprob_a(target_X, target_cov)"
   ]
  },
  {
   "cell_type": "code",
   "execution_count": null,
   "metadata": {
    "collapsed": false
   },
   "outputs": [],
   "source": [
    "log_prob_control.shape"
   ]
  },
  {
   "cell_type": "code",
   "execution_count": null,
   "metadata": {
    "collapsed": false,
    "scrolled": true
   },
   "outputs": [],
   "source": [
    "log_weights = log_prob_isochrone - logsumexp(log_prob_control, axis=-1)\n",
    "weights = np.exp(log_weights)"
   ]
  },
  {
   "cell_type": "code",
   "execution_count": null,
   "metadata": {
    "collapsed": false
   },
   "outputs": [],
   "source": [
    "np.isinf(log_weights).sum()"
   ]
  },
  {
   "cell_type": "code",
   "execution_count": null,
   "metadata": {
    "collapsed": false
   },
   "outputs": [],
   "source": [
    "log_weights.max()"
   ]
  },
  {
   "cell_type": "code",
   "execution_count": null,
   "metadata": {
    "collapsed": false
   },
   "outputs": [],
   "source": [
    "np.isfinite(log_weights).sum()"
   ]
  },
  {
   "cell_type": "code",
   "execution_count": null,
   "metadata": {
    "collapsed": false
   },
   "outputs": [],
   "source": [
    "pl.hist(log_weights[np.isfinite(log_weights)], bins=np.linspace(-5,5,128));"
   ]
  },
  {
   "cell_type": "code",
   "execution_count": null,
   "metadata": {
    "collapsed": true
   },
   "outputs": [],
   "source": [
    "vmin, vmax = (-2, 0)"
   ]
  },
  {
   "cell_type": "code",
   "execution_count": null,
   "metadata": {
    "collapsed": false
   },
   "outputs": [],
   "source": [
    "pl.figure(figsize=(8,6))\n",
    "\n",
    "_gr = cut_targets['dered_g']-cut_targets['dered_r']\n",
    "_g = cut_targets['dered_g']\n",
    "pl.scatter(_gr[::10], _g[::10], c=log_weights[::10],\n",
    "           marker='.', alpha=0.5, cmap='viridis', vmin=vmin, vmax=vmax)\n",
    "\n",
    "pl.xlim(-0.5,1.1)\n",
    "pl.ylim(g_lim[::-1])\n",
    "\n",
    "pl.colorbar()"
   ]
  },
  {
   "cell_type": "code",
   "execution_count": null,
   "metadata": {
    "collapsed": false
   },
   "outputs": [],
   "source": [
    "pl.figure(figsize=(8,6))\n",
    "\n",
    "_ra = cut_targets['ra']\n",
    "_dec = cut_targets['dec']\n",
    "pl.scatter(_ra, _dec, c=log_weights, s=4,\n",
    "           marker='o', alpha=0.25, cmap='viridis', vmin=vmin, vmax=vmax)\n",
    "pl.xlim(233,226)\n",
    "pl.ylim(-23,-18.5)\n",
    "pl.gca().set_aspect('equal')\n",
    "pl.colorbar()"
   ]
  },
  {
   "cell_type": "markdown",
   "metadata": {},
   "source": [
    "Make filtered image / weighted 2D histogram"
   ]
  },
  {
   "cell_type": "code",
   "execution_count": null,
   "metadata": {
    "collapsed": true
   },
   "outputs": [],
   "source": [
    "step = 0.08\n",
    "ra_bins = np.arange(ps1_ra_bounds[0].degree, ps1_ra_bounds[1].degree, step=step)\n",
    "dec_bins = np.arange(ps1_dec_bounds[0].degree, ps1_dec_bounds[1].degree, step=step)"
   ]
  },
  {
   "cell_type": "code",
   "execution_count": null,
   "metadata": {
    "collapsed": false
   },
   "outputs": [],
   "source": [
    "good_idx = np.isfinite(weights)\n",
    "good_targets = cut_targets[good_idx]\n",
    "\n",
    "H,ra_edges,dec_edges = np.histogram2d(good_targets['ra'], good_targets['dec'], \n",
    "                                      bins=(ra_bins,dec_bins), weights=weights[good_idx],\n",
    "                                      normed=True)\n",
    "H[H > 1E5] = 1E5\n",
    "H_sigma = 1\n",
    "H = gaussian_filter(H, sigma=H_sigma)"
   ]
  },
  {
   "cell_type": "code",
   "execution_count": null,
   "metadata": {
    "collapsed": false
   },
   "outputs": [],
   "source": [
    "H.max()"
   ]
  },
  {
   "cell_type": "code",
   "execution_count": null,
   "metadata": {
    "collapsed": false
   },
   "outputs": [],
   "source": [
    "logH = np.log10(H)\n",
    "\n",
    "fig,axes = pl.subplots(1,3,figsize=(15,5))\n",
    "\n",
    "axes[0].hist(logH[np.isfinite(logH)], bins=np.linspace(-5,5,64));\n",
    "axes[0].set_yscale('log')\n",
    "\n",
    "axes[1].hist(H[np.isfinite(H)], bins=np.linspace(0,0.1,64))\n",
    "axes[1].set_yscale('log')"
   ]
  },
  {
   "cell_type": "code",
   "execution_count": null,
   "metadata": {
    "collapsed": false
   },
   "outputs": [],
   "source": [
    "extent = [ps1_ra_bounds[0].degree, ps1_ra_bounds[1].degree,\n",
    "          ps1_dec_bounds[0].degree, ps1_dec_bounds[1].degree]\n",
    "\n",
    "fig,axes = pl.subplots(1,3,figsize=(15,5),sharex=True,sharey=True)\n",
    "\n",
    "axes[0].set_title(\"log\")\n",
    "axes[0].imshow(logH.T, interpolation='nearest', cmap='Greys', \n",
    "               extent=extent, origin='bottom', vmin=-3, vmax=0)\n",
    "\n",
    "axes[1].set_title(\"linear\")\n",
    "axes[1].imshow(H.T, interpolation='nearest', cmap='Greys', \n",
    "               extent=extent, origin='bottom', vmin=0., vmax=0.015)\n",
    "\n",
    "axes[2].set_title(\"sqrt\")\n",
    "axes[2].imshow(np.sqrt(H.T), interpolation='nearest', cmap='Greys', \n",
    "               extent=extent, origin='bottom', vmin=0., vmax=np.sqrt(0.015))\n",
    "\n",
    "for i in range(len(axes)):\n",
    "    axes[i].set_aspect('equal')\n",
    "    \n",
    "# axes[0].set_xlim(235, 225)\n",
    "axes[0].set_xlim(232, 227)"
   ]
  },
  {
   "cell_type": "markdown",
   "metadata": {},
   "source": [
    "---"
   ]
  },
  {
   "cell_type": "code",
   "execution_count": null,
   "metadata": {
    "collapsed": true
   },
   "outputs": [],
   "source": [
    "def bg_density(data, control, smooth=0.02):\n",
    "    # data\n",
    "    d_g = data['dered_g']\n",
    "    d_gr = data['dered_g'] - data['dered_r']\n",
    "    d_gi = data['dered_g'] - data['dered_i']\n",
    "#     d_gz = data['dered_g'] - data['dered_z']\n",
    "\n",
    "    d_g_var = data['gErr']**2\n",
    "    d_gr_var = d_g_var + data['rErr']**2\n",
    "    d_gi_var = d_g_var + data['iErr']**2\n",
    "#     d_gz_var = d_g_var + data['zErr']**2\n",
    "    \n",
    "    # control\n",
    "    c_g = control['dered_g']\n",
    "    c_gr = control['dered_g'] - control['dered_r']\n",
    "    c_gi = control['dered_g'] - control['dered_i']\n",
    "#     c_gz = control['dered_g'] - control['dered_z']\n",
    "    \n",
    "    c_g_var = control['gErr']**2\n",
    "    c_gr_var = c_g_var + control['rErr']**2\n",
    "    c_gi_var = c_g_var + control['iErr']**2\n",
    "#     c_gz_var = c_g_var + control['zErr']**2\n",
    "    \n",
    "    s_var = smooth**2\n",
    "    const = lambda x,y: 0.5*np.log(2*np.pi*(x + y + s_var))\n",
    "    dist  = -0.5 * (d_g[None] - c_g[:,None])**2 / (d_g_var[None] + c_g_var[:,None] + s_var) - const(d_g_var[None], c_g_var[:,None])\n",
    "    dist += -0.5 * (d_gr[None] - c_gr[:,None])**2 / (d_gr_var[None] + c_gr_var[:,None] + s_var) - const(d_gr_var[None], c_gr_var[:,None])\n",
    "    dist += -0.5 * (d_gi[None] - c_gi[:,None])**2 / (d_gi_var[None] + c_gi_var[:,None] + s_var) - const(d_gi_var[None], c_gi_var[:,None])\n",
    "#     dist += -0.5 * (d_gz[None] - c_gz[:,None])**2 / (d_gz_var[None] + c_gz_var[:,None] + s_var) - const(d_gz_var[None], c_gz_var[:,None])\n",
    "    \n",
    "    return logsumexp(dist, axis=0) - np.log(len(c_g))"
   ]
  },
  {
   "cell_type": "code",
   "execution_count": null,
   "metadata": {
    "collapsed": false
   },
   "outputs": [],
   "source": [
    "targets_bg = bg_density(cut_targ, cut_cont[::50], smooth=0.04) # smooth set arbitrarily"
   ]
  },
  {
   "cell_type": "code",
   "execution_count": null,
   "metadata": {
    "collapsed": true
   },
   "outputs": [],
   "source": [
    "def matched_filter_isochrone(data, isochrone, dm, smooth=0.02):\n",
    "    i_g = isochrone['gP1'] + dm\n",
    "    i_gr = isochrone['gP1'] - isochrone['rP1']\n",
    "    i_gi = isochrone['gP1'] - isochrone['iP1']\n",
    "#     i_gz = isochrone['gP1'] - isochrone['zP1']\n",
    "    \n",
    "    d_g = data['dered_g']\n",
    "    d_gr = data['dered_g'] - data['dered_r']\n",
    "    d_gi = data['dered_g'] - data['dered_i']\n",
    "#     d_gz = data['dered_g'] - data['dered_z']\n",
    "    \n",
    "    d_g_var = data['gErr']**2\n",
    "    d_gr_var = d_g_var + data['rErr']**2\n",
    "    d_gi_var = d_g_var + data['iErr']**2\n",
    "#     d_gz_var = d_g_var + data['zErr']**2\n",
    "    \n",
    "    s_var = smooth**2\n",
    "    const = lambda x: 0.5*np.log(2*np.pi*(x + s_var))\n",
    "    dist  = -0.5 * (d_g[None] - i_g[:,None])**2 / (s_var + d_g_var[None]) - const(d_g_var[None])\n",
    "    dist += -0.5 * (d_gr[None] - i_gr[:,None])**2 / (s_var + d_gr_var[None]) - const(d_gr_var[None])\n",
    "    dist += -0.5 * (d_gi[None] - i_gi[:,None])**2 / (s_var + d_gi_var[None]) - const(d_gi_var[None])\n",
    "#     dist += -0.5 * (d_gz[None] - i_gz[:,None])**2 / (s_var + d_gz_var[None]) - const(d_gz_var[None])\n",
    "    \n",
    "    return logsumexp(dist, axis=0) - np.log(len(isochrone))\n",
    "\n",
    "\n",
    "def matched_filter_empirical(data, cluster, dm, smooth=0.02):\n",
    "    # data\n",
    "    d_g = data['dered_g']\n",
    "    d_gr = data['dered_g'] - data['dered_r']\n",
    "    d_gi = data['dered_g'] - data['dered_i']\n",
    "#     d_gz = data['dered_g'] - data['dered_z']\n",
    "\n",
    "    d_g_var = data['gErr']**2\n",
    "    d_gr_var = d_g_var + data['rErr']**2\n",
    "    d_gi_var = d_g_var + data['iErr']**2\n",
    "#     d_gz_var = d_g_var + data['zErr']**2\n",
    "    \n",
    "    # control\n",
    "    c_g = cluster['dered_g']\n",
    "    c_gr = cluster['dered_g'] - cluster['dered_r']\n",
    "    c_gi = cluster['dered_g'] - cluster['dered_i']\n",
    "#     c_gz = control['dered_g'] - control['dered_z']\n",
    "    \n",
    "    c_g_var = cluster['gErr']**2\n",
    "    c_gr_var = c_g_var + cluster['rErr']**2\n",
    "    c_gi_var = c_g_var + cluster['iErr']**2\n",
    "#     c_gz_var = c_g_var + control['zErr']**2\n",
    "    \n",
    "    s_var = smooth**2\n",
    "    const = lambda x,y: 0.5*np.log(2*np.pi*(x + y + s_var))\n",
    "    dist  = -0.5 * (d_g[None] - c_g[:,None])**2 / (d_g_var[None] + c_g_var[:,None] + s_var) - const(d_g_var[None], c_g_var[:,None])\n",
    "    dist += -0.5 * (d_gr[None] - c_gr[:,None])**2 / (d_gr_var[None] + c_gr_var[:,None] + s_var) - const(d_gr_var[None], c_gr_var[:,None])\n",
    "    dist += -0.5 * (d_gi[None] - c_gi[:,None])**2 / (d_gi_var[None] + c_gi_var[:,None] + s_var) - const(d_gi_var[None], c_gi_var[:,None])\n",
    "#     dist += -0.5 * (d_gz[None] - c_gz[:,None])**2 / (d_gz_var[None] + c_gz_var[:,None] + s_var) - const(d_gz_var[None], c_gz_var[:,None])\n",
    "    \n",
    "    return logsumexp(dist, axis=0) - np.log(len(c_g))"
   ]
  },
  {
   "cell_type": "code",
   "execution_count": null,
   "metadata": {
    "collapsed": false
   },
   "outputs": [],
   "source": [
    "# filter_smooth = 0.1\n",
    "# targets_mf = matched_filter_isochrone(cut_targ, cut_isoc, \n",
    "#                                       dm=dm, smooth=filter_smooth)\n",
    "targets_mf = matched_filter_empirical(cut_targ, cluster_stars[::2], \n",
    "                                      dm=dm, smooth=0.05)"
   ]
  },
  {
   "cell_type": "code",
   "execution_count": null,
   "metadata": {
    "collapsed": false
   },
   "outputs": [],
   "source": [
    "log_weights = targets_mf - targets_bg\n",
    "log_weights_sort_idx = np.argsort(log_weights)[::-1]\n",
    "weights = np.exp(log_weights)"
   ]
  },
  {
   "cell_type": "code",
   "execution_count": null,
   "metadata": {
    "collapsed": false
   },
   "outputs": [],
   "source": [
    "pl.hist(weights, bins=np.logspace(-1,2,64))\n",
    "pl.xscale('log')"
   ]
  },
  {
   "cell_type": "code",
   "execution_count": null,
   "metadata": {
    "collapsed": false
   },
   "outputs": [],
   "source": [
    "fig,axes = plot_color_mag(cluster_stars, dm=dm, alpha=0.2)\n",
    "\n",
    "for j,band in enumerate('riz'):\n",
    "    ix = log_weights_sort_idx[:100]\n",
    "    axes[j].plot(cut_targ[ix]['dered_g']-cut_targ[ix]['dered_{}'.format(band)],\n",
    "                 cut_targ[ix]['dered_g'],\n",
    "                 marker='.', ls='none')\n",
    "\n",
    "# for i in range(10):\n",
    "#     for j,band in enumerate('riz'):\n",
    "#         ix = log_weights_sort_idx[i]\n",
    "#         axes[j].plot(cut_targ[ix]['dered_g']-cut_targ[ix]['dered_{}'.format(band)],\n",
    "#                      cut_targ[ix]['dered_g'],\n",
    "#                      marker='o', color='b')\n",
    "\n",
    "#         ix = log_weights_sort_idx[i+9000]\n",
    "#         axes[j].plot(cut_targ[ix]['dered_g']-cut_targ[ix]['dered_{}'.format(band)],\n",
    "#                      cut_targ[ix]['dered_g'],\n",
    "#                      marker='o', color='r')"
   ]
  },
  {
   "cell_type": "code",
   "execution_count": null,
   "metadata": {
    "collapsed": false
   },
   "outputs": [],
   "source": [
    "ra_bins = np.arange(ps1_ra_bounds[0].degree, ps1_ra_bounds[1].degree, step=0.1)\n",
    "dec_bins = np.arange(ps1_dec_bounds[0].degree, ps1_dec_bounds[1].degree, step=0.1)\n",
    "\n",
    "H,ra_edges,dec_edges = np.histogram2d(cut_targ['ra'], cut_targ['dec'], normed=True,\n",
    "                                      bins=(ra_bins,dec_bins), weights=weights)\n",
    "\n",
    "_spacing = ra_bins[1]-ra_bins[0]\n",
    "# H_sigma = (2*u.arcmin).to(u.degree).value / _spacing\n",
    "H_sigma = 0.6\n",
    "H = gaussian_filter(H, sigma=H_sigma)"
   ]
  },
  {
   "cell_type": "code",
   "execution_count": null,
   "metadata": {
    "collapsed": false
   },
   "outputs": [],
   "source": [
    "logH = np.log10(H)\n",
    "asinhH = np.arcsinh(H)\n",
    "sqrtH = np.sqrt(H)"
   ]
  },
  {
   "cell_type": "markdown",
   "metadata": {},
   "source": [
    "#### Log"
   ]
  },
  {
   "cell_type": "code",
   "execution_count": null,
   "metadata": {
    "collapsed": false
   },
   "outputs": [],
   "source": [
    "pl.hist(logH[np.isfinite(logH)], bins=np.linspace(-5,5,32));\n",
    "pl.yscale('log')"
   ]
  },
  {
   "cell_type": "code",
   "execution_count": null,
   "metadata": {
    "collapsed": false
   },
   "outputs": [],
   "source": [
    "extent = [ps1_ra_bounds[0].degree, ps1_ra_bounds[1].degree,\n",
    "          ps1_dec_bounds[0].degree, ps1_dec_bounds[1].degree]\n",
    "pl.imshow(logH.T, interpolation='nearest', cmap='Greys', vmin=-2, vmax=-1.4,\n",
    "          extent=extent, origin='bottom')\n",
    "pl.xlim(235,225)"
   ]
  },
  {
   "cell_type": "code",
   "execution_count": null,
   "metadata": {
    "collapsed": false
   },
   "outputs": [],
   "source": [
    "extent = [ps1_ra_bounds[0].degree, ps1_ra_bounds[1].degree,\n",
    "          ps1_dec_bounds[0].degree, ps1_dec_bounds[1].degree]\n",
    "pl.imshow(logH.T, interpolation='nearest', cmap='Greys', vmin=-3, vmax=-1.1,\n",
    "          extent=extent, origin='bottom')\n",
    "pl.xlim(235,225)"
   ]
  },
  {
   "cell_type": "markdown",
   "metadata": {},
   "source": [
    "#### Sqrt"
   ]
  },
  {
   "cell_type": "code",
   "execution_count": null,
   "metadata": {
    "collapsed": false
   },
   "outputs": [],
   "source": [
    "pl.hist(sqrtH.ravel(), bins=np.linspace(0,0.5,32));"
   ]
  },
  {
   "cell_type": "code",
   "execution_count": null,
   "metadata": {
    "collapsed": false
   },
   "outputs": [],
   "source": [
    "extent = [ps1_ra_bounds[0].degree, ps1_ra_bounds[1].degree,\n",
    "          ps1_dec_bounds[0].degree, ps1_dec_bounds[1].degree]\n",
    "pl.imshow(sqrtH.T, interpolation='nearest', cmap='Greys', vmin=0.1, vmax=0.22,\n",
    "          extent=extent, origin='bottom')\n",
    "pl.xlim(235,225)"
   ]
  },
  {
   "cell_type": "markdown",
   "metadata": {
    "collapsed": true
   },
   "source": [
    "#### arcsinh"
   ]
  },
  {
   "cell_type": "code",
   "execution_count": null,
   "metadata": {
    "collapsed": false
   },
   "outputs": [],
   "source": [
    "pl.hist(asinhH.ravel(), bins=np.linspace(0,0.1,32));\n",
    "pl.yscale('log')"
   ]
  },
  {
   "cell_type": "code",
   "execution_count": null,
   "metadata": {
    "collapsed": false
   },
   "outputs": [],
   "source": [
    "extent = [ps1_ra_bounds[0].degree, ps1_ra_bounds[1].degree,\n",
    "          ps1_dec_bounds[0].degree, ps1_dec_bounds[1].degree]\n",
    "pl.imshow(asinhH.T, interpolation='nearest', cmap='Greys', vmin=0.005, vmax=0.04,\n",
    "          extent=extent, origin='bottom')\n",
    "pl.xlim(235,225)"
   ]
  },
  {
   "cell_type": "markdown",
   "metadata": {},
   "source": [
    "#### Linear"
   ]
  },
  {
   "cell_type": "code",
   "execution_count": null,
   "metadata": {
    "collapsed": false
   },
   "outputs": [],
   "source": [
    "pl.hist(H.ravel(), bins=np.linspace(0,0.1,32));\n",
    "pl.yscale('log')"
   ]
  },
  {
   "cell_type": "code",
   "execution_count": null,
   "metadata": {
    "collapsed": false
   },
   "outputs": [],
   "source": [
    "extent = [ps1_ra_bounds[0].degree, ps1_ra_bounds[1].degree,\n",
    "          ps1_dec_bounds[0].degree, ps1_dec_bounds[1].degree]\n",
    "pl.imshow(H.T, interpolation='nearest', cmap='Greys', vmin=0.015, vmax=0.045,\n",
    "          extent=extent, origin='bottom')\n",
    "pl.xlim(235,225)"
   ]
  },
  {
   "cell_type": "markdown",
   "metadata": {},
   "source": [
    "## Run a streakline model on the mean orbit"
   ]
  },
  {
   "cell_type": "code",
   "execution_count": null,
   "metadata": {
    "collapsed": true
   },
   "outputs": [],
   "source": [
    "from gary.dynamics.mockstream import fardal_stream, streakline_stream\n",
    "import gary.integrate as gi"
   ]
  },
  {
   "cell_type": "code",
   "execution_count": null,
   "metadata": {
    "collapsed": false
   },
   "outputs": [],
   "source": [
    "fig,ax = pl.subplots(1,1,figsize=(8,6))\n",
    "for i in range(32):\n",
    "    _plot_filename = os.path.join(plot_path, \"{}_fardal.png\".format(i))\n",
    "    if os.path.exists(_plot_filename): continue\n",
    "        \n",
    "    prog_orbit = pot.integrate_orbit(all_w0[i], dt=-1., nsteps=4000)\n",
    "\n",
    "    stream = fardal_stream(pot, prog_orbit[::-1], prog_mass=2E5, \n",
    "                           release_every=2., Integrator=gi.DOPRI853Integrator)\n",
    "#     stream = streakline_stream(pot, prog_orbit[::-1], prog_mass=2E5, \n",
    "#                                release_every=2., Integrator=gi.DOPRI853Integrator)\n",
    "\n",
    "    stream_c,stream_v = stream.to_frame(coord.ICRS, vcirc=vcirc, vlsr=vlsr, \n",
    "                                        galactocentric_frame=galactocentric_frame) \n",
    "\n",
    "    \n",
    "    ax.plot(stream_c.ra.degree, stream_c.dec.degree, marker='.', alpha=0.25, ls='none')\n",
    "\n",
    "    ax.set_xlim(ps1_ra_bounds[1].degree+1, ps1_ra_bounds[0].degree-1)\n",
    "    ax.set_ylim(ps1_dec_bounds[0].degree-1, ps1_dec_bounds[1].degree+1)\n",
    "\n",
    "    ax.set_aspect('equal')\n",
    "    pl.minorticks_on()\n",
    "    pl.xlabel(\"RA [deg]\")\n",
    "    pl.ylabel(\"Dec [deg]\");\n",
    "    \n",
    "    fig.savefig(_plot_filename, dpi=300)\n",
    "    ax.cla()"
   ]
  },
  {
   "cell_type": "code",
   "execution_count": null,
   "metadata": {
    "collapsed": true
   },
   "outputs": [],
   "source": []
  }
 ],
 "metadata": {
  "kernelspec": {
   "display_name": "Python 3",
   "language": "python",
   "name": "python3"
  },
  "language_info": {
   "codemirror_mode": {
    "name": "ipython",
    "version": 3
   },
   "file_extension": ".py",
   "mimetype": "text/x-python",
   "name": "python",
   "nbconvert_exporter": "python",
   "pygments_lexer": "ipython3",
   "version": "3.5.1"
  }
 },
 "nbformat": 4,
 "nbformat_minor": 0
}