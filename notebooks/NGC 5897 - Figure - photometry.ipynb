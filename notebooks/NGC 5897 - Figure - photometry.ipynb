{
 "cells": [
  {
   "cell_type": "code",
   "execution_count": null,
   "metadata": {
    "collapsed": true
   },
   "outputs": [],
   "source": [
    "from astropy.io import ascii\n",
    "import astropy.units as u\n",
    "import astropy.coordinates as coord\n",
    "import numpy as np\n",
    "from numpy.polynomial.polynomial import polyval\n",
    "import matplotlib.pyplot as pl\n",
    "pl.style.use('apw-notebook')\n",
    "%matplotlib inline\n",
    "import h5py\n",
    "from scipy.ndimage import gaussian_filter\n",
    "from scipy.stats import scoreatpercentile"
   ]
  },
  {
   "cell_type": "code",
   "execution_count": null,
   "metadata": {
    "collapsed": true
   },
   "outputs": [],
   "source": [
    "ps1_filename = \"/Users/adrian/projects/globber/data/ngc5897/PS1_stars_pv3_dered_sm.npy\"\n",
    "iso_filename = \"/Users/adrian/projects/globber/data/ngc5897/dartmouth_iso_ps1.dat\""
   ]
  },
  {
   "cell_type": "code",
   "execution_count": null,
   "metadata": {
    "collapsed": true
   },
   "outputs": [],
   "source": [
    "cluster_c = coord.SkyCoord(ra=229.352*u.degree,\n",
    "                           dec=-21.01*u.degree)\n",
    "DM = 15.55\n",
    "\n",
    "color = ('g', 'i')\n",
    "mag = 'i'"
   ]
  },
  {
   "cell_type": "code",
   "execution_count": null,
   "metadata": {
    "collapsed": true
   },
   "outputs": [],
   "source": [
    "# TODO: swap this out for just using the XCov file instead\n",
    "ps1 = np.load(ps1_filename)\n",
    "ps1_c = coord.SkyCoord(ra=ps1['ra']*u.degree, dec=ps1['dec']*u.degree)\n",
    "\n",
    "mask = (ps1['iErr'] < 0.1) # & (ps1_c.separation(cluster_c) > 1.*u.arcmin)\n",
    "ps1 = ps1[mask]\n",
    "ps1_c = ps1_c[mask]"
   ]
  },
  {
   "cell_type": "code",
   "execution_count": null,
   "metadata": {
    "collapsed": true
   },
   "outputs": [],
   "source": [
    "# read dartmoth isochrone\n",
    "iso = ascii.read(iso_filename, header_start=8)"
   ]
  },
  {
   "cell_type": "code",
   "execution_count": null,
   "metadata": {
    "collapsed": true
   },
   "outputs": [],
   "source": [
    "idx = (ps1_c.separation(cluster_c) < 6*u.arcmin)"
   ]
  },
  {
   "cell_type": "code",
   "execution_count": null,
   "metadata": {
    "collapsed": false
   },
   "outputs": [],
   "source": [
    "pl.figure(figsize=(6,6))\n",
    "pl.plot(ps1['ra'][~idx], ps1['dec'][~idx], ls='none', marker='.')\n",
    "pl.plot(ps1['ra'][idx], ps1['dec'][idx], ls='none', marker='.', color='g')\n",
    "pl.xlim(cluster_c.ra.degree+0.5, cluster_c.ra.degree-0.5)\n",
    "pl.ylim(cluster_c.dec.degree-0.5, cluster_c.dec.degree+0.5)"
   ]
  },
  {
   "cell_type": "code",
   "execution_count": null,
   "metadata": {
    "collapsed": false
   },
   "outputs": [],
   "source": [
    "x0 = ps1['dered_{}'.format(color[0])]-ps1['dered_{}'.format(color[1])]\n",
    "m0 = ps1['dered_{}'.format(mag)] \n",
    "\n",
    "fig,axes = pl.subplots(1,3,figsize=(10,6),sharex=True,sharey=True)\n",
    "\n",
    "axes[0].plot(x0[~idx], m0[~idx],\n",
    "             ls='none', marker=',', alpha=0.04)\n",
    "\n",
    "axes[1].plot(x0[idx], m0[idx],\n",
    "             ls='none', marker=',', alpha=1.)\n",
    "axes[1].plot(iso['{}P1'.format(color[0])]-iso['{}P1'.format(color[1])], iso['{}P1'.format(mag)]+DM,\n",
    "             ls='-', marker=None, alpha=0.5, lw=3)\n",
    "\n",
    "axes[2].plot(x0[~idx], m0[~idx],\n",
    "             ls='none', marker=',', alpha=0.04)\n",
    "axes[2].plot(x0[idx], m0[idx],\n",
    "             ls='none', marker=',', alpha=1.)\n",
    "\n",
    "axes[0].set_xlim(-0.75,1.25)\n",
    "axes[0].set_ylim(22, 13)"
   ]
  },
  {
   "cell_type": "markdown",
   "metadata": {},
   "source": [
    "## Compare nearby fields to see if CMD is similar"
   ]
  },
  {
   "cell_type": "code",
   "execution_count": null,
   "metadata": {
    "collapsed": false
   },
   "outputs": [],
   "source": [
    "ps1['ra'].min(), ps1['ra'].max()"
   ]
  },
  {
   "cell_type": "code",
   "execution_count": null,
   "metadata": {
    "collapsed": false
   },
   "outputs": [],
   "source": [
    "fig,axes = pl.subplots(1,3,figsize=(10,6),sharex=True,sharey=True)\n",
    "\n",
    "_ix1 = ps1['ra'] < 221\n",
    "print(_ix1.sum())\n",
    "_ix2 = np.random.permutation(_ix1.sum())[:10000]\n",
    "axes[0].plot(x0[_ix1][_ix2], i0[_ix1][_ix2],\n",
    "             ls='none', marker='.', alpha=0.25)\n",
    "\n",
    "_ix1 = ps1['ra'] > 239\n",
    "print(_ix1.sum())\n",
    "_ix2 = np.random.permutation(_ix1.sum())[:10000]\n",
    "axes[1].plot(x0[_ix1][_ix2], i0[_ix1][_ix2],\n",
    "             ls='none', marker='.', alpha=0.25)\n",
    "\n",
    "# ----------------------------------------------------\n",
    "\n",
    "_ix1 = ps1['ra'] < 221\n",
    "_ix2 = np.random.permutation(_ix1.sum())[:5000]\n",
    "axes[2].plot(x0[_ix1][_ix2], i0[_ix1][_ix2], color='k',\n",
    "             ls='none', marker='.', alpha=0.25)\n",
    "\n",
    "_ix1 = ps1['ra'] > 239\n",
    "_ix2 = np.random.permutation(_ix1.sum())[:5000]\n",
    "axes[2].plot(x0[_ix1][_ix2], i0[_ix1][_ix2], color='k',\n",
    "             ls='none', marker='.', alpha=0.25)\n",
    "\n",
    "\n",
    "axes[0].set_xlim(-0.75,1.25)\n",
    "axes[0].set_ylim(22, 13)"
   ]
  },
  {
   "cell_type": "code",
   "execution_count": null,
   "metadata": {
    "collapsed": true
   },
   "outputs": [],
   "source": []
  }
 ],
 "metadata": {
  "kernelspec": {
   "display_name": "Python 3",
   "language": "python",
   "name": "python3"
  },
  "language_info": {
   "codemirror_mode": {
    "name": "ipython",
    "version": 3
   },
   "file_extension": ".py",
   "mimetype": "text/x-python",
   "name": "python",
   "nbconvert_exporter": "python",
   "pygments_lexer": "ipython3",
   "version": "3.5.1"
  }
 },
 "nbformat": 4,
 "nbformat_minor": 0
}