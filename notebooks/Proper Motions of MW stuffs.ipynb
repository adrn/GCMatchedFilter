{
 "cells": [
  {
   "cell_type": "markdown",
   "metadata": {},
   "source": [
    "See also:\n",
    "https://ui.adsabs.harvard.edu/#abs/2015MNRAS.454.1453R/abstract\n",
    "\n",
    "Downloaded PM GC catalogs from:\n",
    "http://www.stsci.edu/~marel/hstpromo.html#Projects\n",
    "\n",
    "For dSph PMs:\n",
    "Piatek et al. 2003, 2005, 2006, 2007; Lepine et al. 2011; Pryor et al. 2014"
   ]
  },
  {
   "cell_type": "code",
   "execution_count": null,
   "metadata": {
    "collapsed": false
   },
   "outputs": [],
   "source": [
    "import os\n",
    "\n",
    "# Third-party\n",
    "from astropy.io import ascii\n",
    "import astropy.coordinates as coord\n",
    "import astropy.units as u\n",
    "import matplotlib as mpl\n",
    "import matplotlib.pyplot as pl\n",
    "import numpy as np\n",
    "%matplotlib inline\n",
    "\n",
    "import gary.coordinates as gc\n",
    "import gary.dynamics as gd\n",
    "import gary.potential as gp\n",
    "\n",
    "from ophiuchus import galactocentric_frame, vcirc, vlsr\n",
    "import ophiuchus.potential as op\n",
    "\n",
    "from astropy.utils.data import download_file"
   ]
  },
  {
   "cell_type": "code",
   "execution_count": null,
   "metadata": {
    "collapsed": true
   },
   "outputs": [],
   "source": [
    "data_path = \"/Users/adrian/projects/globmfer/data\""
   ]
  },
  {
   "cell_type": "markdown",
   "metadata": {},
   "source": [
    "## Data munging to read in this stupid proper motion catalogs"
   ]
  },
  {
   "cell_type": "code",
   "execution_count": null,
   "metadata": {
    "collapsed": true
   },
   "outputs": [],
   "source": [
    "import astropy.table as at"
   ]
  },
  {
   "cell_type": "code",
   "execution_count": null,
   "metadata": {
    "collapsed": false
   },
   "outputs": [],
   "source": [
    "pm_gc_main = np.genfromtxt(os.path.join(data_path,\"gl_2012_J2000.cat1.txt\"), dtype=None, \n",
    "                           skip_header=2, \n",
    "                           usecols=[0,2,3,6,7,8,9,10,11,12,13],\n",
    "                           names=['ngc_num','ra','dec','dist','dist_err','mu_ra','mu_ra_err',\n",
    "                                  'mu_dec','mu_dec_err', 'vr', 'vr_err'])\n",
    "\n",
    "pm_gc_main = at.Table(pm_gc_main)"
   ]
  },
  {
   "cell_type": "code",
   "execution_count": null,
   "metadata": {
    "collapsed": false
   },
   "outputs": [],
   "source": [
    "len(pm_gc_main)"
   ]
  },
  {
   "cell_type": "code",
   "execution_count": null,
   "metadata": {
    "collapsed": false
   },
   "outputs": [],
   "source": [
    "pm_gc_bulge = np.genfromtxt(os.path.join(data_path,\"bulge_J2000.cat1.txt\"), dtype=None, \n",
    "                            skip_header=2, \n",
    "                            usecols=[0,2,3,6,7,8,9,10,11,12,13],\n",
    "                            names=['ngc_num','ra','dec','dist','dist_err','mu_ra','mu_ra_err',\n",
    "                                   'mu_dec','mu_dec_err', 'vr', 'vr_err'])\n",
    "pm_gc_bulge = at.Table(pm_gc_bulge)"
   ]
  },
  {
   "cell_type": "code",
   "execution_count": null,
   "metadata": {
    "collapsed": true
   },
   "outputs": [],
   "source": [
    "go = ascii.read(os.path.join(data_path,\"go97_table1.txt\"))"
   ]
  },
  {
   "cell_type": "code",
   "execution_count": null,
   "metadata": {
    "collapsed": false
   },
   "outputs": [],
   "source": [
    "all_gc = at.vstack((pm_gc_main, pm_gc_bulge))\n",
    "all_gc['name'] = np.array([\"NGC {}\".format(x) for x in all_gc['ngc_num']])\n",
    "all_gc = at.join(all_gc, go, keys='name')"
   ]
  },
  {
   "cell_type": "markdown",
   "metadata": {},
   "source": [
    "### Convert coordinates, proper motions into galactocentric cartesian"
   ]
  },
  {
   "cell_type": "code",
   "execution_count": null,
   "metadata": {
    "collapsed": false
   },
   "outputs": [],
   "source": [
    "c = coord.ICRS(ra=all_gc['ra']*u.degree,\n",
    "               dec=all_gc['dec']*u.degree,\n",
    "               distance=all_gc['dist']*u.kpc)"
   ]
  },
  {
   "cell_type": "code",
   "execution_count": null,
   "metadata": {
    "collapsed": false
   },
   "outputs": [],
   "source": [
    "xyz = c.transform_to(galactocentric_frame).cartesian.xyz\n",
    "vxyz = gc.vhel_to_gal(c, pm=(all_gc['mu_ra']*u.mas/u.yr,\n",
    "                             all_gc['mu_dec']*u.mas/u.yr),\n",
    "                      rv=all_gc['vr']*u.km/u.s, \n",
    "                      galactocentric_frame=galactocentric_frame,\n",
    "                      vcirc=vcirc, vlsr=vlsr)"
   ]
  },
  {
   "cell_type": "markdown",
   "metadata": {},
   "source": [
    "### Try integrating some orbits"
   ]
  },
  {
   "cell_type": "code",
   "execution_count": null,
   "metadata": {
    "collapsed": false
   },
   "outputs": [],
   "source": [
    "pot = op.load_potential('static_mw')\n",
    "# pot = op.load_potential('barred_mw_8')"
   ]
  },
  {
   "cell_type": "code",
   "execution_count": null,
   "metadata": {
    "collapsed": false
   },
   "outputs": [],
   "source": [
    "w0 = gd.CartesianPhaseSpacePosition(pos=xyz, vel=vxyz)\n",
    "orbit = pot.integrate_orbit(w0, dt=-0.5, nsteps=12000)"
   ]
  },
  {
   "cell_type": "code",
   "execution_count": null,
   "metadata": {
    "collapsed": false
   },
   "outputs": [],
   "source": [
    "pers = u.Quantity([orbit[:,i].pericenter() for i in range(orbit.norbits)])\n",
    "apos = u.Quantity([orbit[:,i].apocenter() for i in range(orbit.norbits)])"
   ]
  },
  {
   "cell_type": "code",
   "execution_count": null,
   "metadata": {
    "collapsed": false
   },
   "outputs": [],
   "source": [
    "fig,axes = pl.subplots(1,2,figsize=(10,5))\n",
    "\n",
    "bins = np.logspace(-1,2,16)\n",
    "axes[0].hist(pers.value, bins=bins)\n",
    "axes[0].set_xscale('log')\n",
    "\n",
    "bins = np.logspace(0,3.,16)\n",
    "axes[1].hist(apos.value, bins=bins)\n",
    "axes[1].set_xscale('log');\n",
    "\n",
    "axes[0].set_xlabel(\"Pericenter [kpc]\")\n",
    "axes[1].set_xlabel(\"Apocenter [kpc]\")\n",
    "axes[0].set_ylabel(\"N\")"
   ]
  },
  {
   "cell_type": "markdown",
   "metadata": {},
   "source": [
    "Phases of the clusters"
   ]
  },
  {
   "cell_type": "code",
   "execution_count": null,
   "metadata": {
    "collapsed": false
   },
   "outputs": [],
   "source": [
    "periods = u.Quantity([np.abs(orbit[:,i].estimate_period()) for i in range(orbit.norbits)])"
   ]
  },
  {
   "cell_type": "code",
   "execution_count": null,
   "metadata": {
    "collapsed": true
   },
   "outputs": [],
   "source": [
    "from scipy.signal import argrelmin"
   ]
  },
  {
   "cell_type": "code",
   "execution_count": null,
   "metadata": {
    "collapsed": false
   },
   "outputs": [],
   "source": [
    "phases = np.zeros(periods.size)\n",
    "for i in range(orbit.norbits):\n",
    "    sph,_ = orbit[:,i].represent_as(coord.SphericalRepresentation)\n",
    "    r = sph.distance\n",
    "    idx, = argrelmin(r)\n",
    "    phase = (orbit.t - orbit.t[idx[0]]) / periods[i]\n",
    "    phases[i] = phase[0]"
   ]
  },
  {
   "cell_type": "code",
   "execution_count": null,
   "metadata": {
    "collapsed": false
   },
   "outputs": [],
   "source": [
    "pl.hist(phases, bins=np.linspace(0,1,16));\n",
    "pl.xlabel(\"Orbital phase today\")"
   ]
  },
  {
   "cell_type": "markdown",
   "metadata": {},
   "source": [
    "### Estimate tidal radius at pericenter"
   ]
  },
  {
   "cell_type": "code",
   "execution_count": null,
   "metadata": {
    "collapsed": false
   },
   "outputs": [],
   "source": [
    "pers_xyz = np.zeros((3,len(pers)))\n",
    "pers_xyz[0] = pers.value\n",
    "pers_xyz = pers_xyz*u.kpc\n",
    "mx = pot.mass_enclosed(pers_xyz)\n",
    "\n",
    "pers_xyz = np.zeros((3,len(pers)))\n",
    "pers_xyz[2] = pers.value\n",
    "pers_xyz = pers_xyz*u.kpc\n",
    "mz = pot.mass_enclosed(pers_xyz)"
   ]
  },
  {
   "cell_type": "code",
   "execution_count": null,
   "metadata": {
    "collapsed": false
   },
   "outputs": [],
   "source": [
    "rtide_x = pers.to(u.pc) * (all_gc['M'] / (3*mx))**(1/3.)\n",
    "rtide_z = pers.to(u.pc) * (all_gc['M'] / (3*mz))**(1/3.)"
   ]
  },
  {
   "cell_type": "code",
   "execution_count": null,
   "metadata": {
    "collapsed": false
   },
   "outputs": [],
   "source": [
    "rtide = np.mean(np.vstack((rtide_x, rtide_z)).value*rtide_z.unit, axis=0)\n",
    "err_rtide = np.std(np.vstack((rtide_x, rtide_z)).value*rtide_z.unit, axis=0)"
   ]
  },
  {
   "cell_type": "code",
   "execution_count": null,
   "metadata": {
    "collapsed": false
   },
   "outputs": [],
   "source": [
    "core_radius = all_gc['Rc']*u.pc\n",
    "ratio = rtide / core_radius"
   ]
  },
  {
   "cell_type": "code",
   "execution_count": null,
   "metadata": {
    "collapsed": false
   },
   "outputs": [],
   "source": [
    "all_gc['peri_rtide_to_rcore'] = ratio\n",
    "sort_idx = np.argsort(ratio)[:][:10]\n",
    "# ratio[sort_idx]"
   ]
  },
  {
   "cell_type": "code",
   "execution_count": null,
   "metadata": {
    "collapsed": true
   },
   "outputs": [],
   "source": [
    "import astropy.coordinates as coord\n",
    "import astropy.units as u"
   ]
  },
  {
   "cell_type": "code",
   "execution_count": null,
   "metadata": {
    "collapsed": false
   },
   "outputs": [],
   "source": [
    "coord.Galactic(l=255*u.degree, b=48*u.degree).transform_to(coord.ICRS)"
   ]
  },
  {
   "cell_type": "code",
   "execution_count": null,
   "metadata": {
    "collapsed": false
   },
   "outputs": [],
   "source": [
    "all_gc['name','peri_rtide_to_rcore','ra','dec'][sort_idx]"
   ]
  },
  {
   "cell_type": "code",
   "execution_count": null,
   "metadata": {
    "collapsed": false
   },
   "outputs": [],
   "source": [
    "all_gc[sort_idx[0:10]]"
   ]
  },
  {
   "cell_type": "code",
   "execution_count": null,
   "metadata": {
    "collapsed": false
   },
   "outputs": [],
   "source": [
    "ngc5897_orbit = orbit[:,sort_idx[0]]"
   ]
  },
  {
   "cell_type": "code",
   "execution_count": null,
   "metadata": {
    "collapsed": false
   },
   "outputs": [],
   "source": [
    "fig = ngc5897_orbit.plot()"
   ]
  },
  {
   "cell_type": "code",
   "execution_count": null,
   "metadata": {
    "collapsed": false
   },
   "outputs": [],
   "source": [
    "ngc5897_c_back,ngc5897_v_back = ngc5897_orbit[:100].to_frame(coord.ICRS, vcirc=vcirc, vlsr=vlsr, # orbit -50 Myr\n",
    "                                                             galactocentric_frame=galactocentric_frame) \n",
    "\n",
    "ngc5897_orbit_forw = pot.integrate_orbit(ngc5897_orbit[0], dt=0.5, nsteps=100)\n",
    "ngc5897_c_forw,ngc5897_v_forw = ngc5897_orbit_forw.to_frame(coord.ICRS, vcirc=vcirc, vlsr=vlsr, # orbit +50 Myr\n",
    "                                                             galactocentric_frame=galactocentric_frame) "
   ]
  },
  {
   "cell_type": "markdown",
   "metadata": {},
   "source": [
    "There are 293039 SDSS stars with good photometry in the grey selection box"
   ]
  },
  {
   "cell_type": "code",
   "execution_count": null,
   "metadata": {
    "collapsed": false,
    "scrolled": true
   },
   "outputs": [],
   "source": [
    "sdss_select = mpl.patches.Rectangle((210,-25), width=20, height=10, alpha=0.1)\n",
    "\n",
    "fig,ax = pl.subplots(1,1,figsize=(8,6))\n",
    "ax.plot(ngc5897_c_back.ra.degree, ngc5897_c_back.dec.degree, ls='none')\n",
    "ax.plot(ngc5897_c_forw.ra.degree, ngc5897_c_forw.dec.degree, ls='none')\n",
    "ax.set_xlim(325,200)\n",
    "ax.set_ylim(-45,0)\n",
    "ax.xaxis.set_ticks(np.arange(200,330,10))\n",
    "ax.add_patch(sdss_select)\n",
    "pl.minorticks_on()\n",
    "pl.grid()"
   ]
  },
  {
   "cell_type": "markdown",
   "metadata": {},
   "source": [
    "Or, in RA - distance"
   ]
  },
  {
   "cell_type": "code",
   "execution_count": null,
   "metadata": {
    "collapsed": false
   },
   "outputs": [],
   "source": [
    "fig,ax = pl.subplots(1,1,figsize=(8,6))\n",
    "ax.plot(ngc5897_c_back.ra.degree, ngc5897_c_back.distance, ls='none')\n",
    "ax.plot(ngc5897_c_forw.ra.degree, ngc5897_c_forw.distance, ls='none')\n",
    "ax.set_ylabel(\"Helio. distance [kpc]\")\n",
    "ax.set_xlim(325,200)\n",
    "# ax.set_ylim(-45,0)\n",
    "ax.xaxis.set_ticks(np.arange(200,330,10))\n",
    "pl.minorticks_on()\n",
    "pl.grid()"
   ]
  },
  {
   "cell_type": "code",
   "execution_count": null,
   "metadata": {
    "collapsed": false
   },
   "outputs": [],
   "source": [
    "fig,ax = pl.subplots(1,1,figsize=(8,6))\n",
    "ax.plot(ngc5897_c_back.ra.degree, ngc5897_v_back[2].to(u.km/u.s).value, ls='none')\n",
    "ax.plot(ngc5897_c_forw.ra.degree, ngc5897_v_forw[2].to(u.km/u.s).value, ls='none')\n",
    "ax.set_ylabel(r\"$v_{\\rm los}$ [km/s]\")\n",
    "ax.set_xlim(325,200)\n",
    "# ax.set_ylim(-45,0)\n",
    "ax.xaxis.set_ticks(np.arange(200,330,10))\n",
    "pl.minorticks_on()\n",
    "pl.grid()"
   ]
  },
  {
   "cell_type": "markdown",
   "metadata": {},
   "source": [
    "Here I plot the positions of all stars selected from SDSS in the grey box:"
   ]
  },
  {
   "cell_type": "code",
   "execution_count": null,
   "metadata": {
    "collapsed": false
   },
   "outputs": [],
   "source": [
    "ngc5897_sdss = ascii.read(\"/Users/adrian/Downloads/NGC5897_adrn.csv\")"
   ]
  },
  {
   "cell_type": "code",
   "execution_count": null,
   "metadata": {
    "collapsed": false
   },
   "outputs": [],
   "source": [
    "sdss_select = mpl.patches.Rectangle((210,-25), width=20, height=20, alpha=0.1)\n",
    "\n",
    "fig,ax = pl.subplots(1,1,figsize=(8,6))\n",
    "ax.plot(ngc5897_c_back.ra.degree, ngc5897_c_back.dec.degree, ls='none')\n",
    "ax.plot(ngc5897_c_forw.ra.degree, ngc5897_c_forw.dec.degree, ls='none')\n",
    "\n",
    "ax.plot(ngc5897_sdss['ra'], ngc5897_sdss['dec'], marker=',', ls='none', alpha=0.25)\n",
    "\n",
    "ax.set_xlim(325,200)\n",
    "ax.set_ylim(-45,0)\n",
    "ax.xaxis.set_ticks(np.arange(200,330,10))\n",
    "ax.add_patch(sdss_select)\n",
    "pl.minorticks_on()\n",
    "pl.grid()"
   ]
  },
  {
   "cell_type": "code",
   "execution_count": null,
   "metadata": {
    "collapsed": true
   },
   "outputs": [],
   "source": [
    "control_idx = (ngc5897_sdss['ra'] < 220.) & (ngc5897_sdss['dec'] < -10.) & (ngc5897_sdss['dec'] > -15.)\n",
    "targets_idx = (ngc5897_sdss['dec'] < -15.) & (ngc5897_sdss['dec'] > -20.)\n",
    "\n",
    "control = ngc5897_sdss[control_idx]\n",
    "targets = ngc5897_sdss[targets_idx]"
   ]
  },
  {
   "cell_type": "code",
   "execution_count": null,
   "metadata": {
    "collapsed": false
   },
   "outputs": [],
   "source": [
    "# isochrone\n",
    "ngc5897_iso = ascii.read(\"/Users/adrian/Downloads/ngc5897_iso.txt\", header_start=8)\n",
    "ngc5897_iso.colnames"
   ]
  },
  {
   "cell_type": "markdown",
   "metadata": {},
   "source": [
    "Distance modulus = 15.55 mag (from http://arxiv.org/pdf/1403.1262v1.pdf)"
   ]
  },
  {
   "cell_type": "code",
   "execution_count": null,
   "metadata": {
    "collapsed": true
   },
   "outputs": [],
   "source": [
    "dm = 15.55"
   ]
  },
  {
   "cell_type": "code",
   "execution_count": null,
   "metadata": {
    "collapsed": false
   },
   "outputs": [],
   "source": [
    "_u = control['dered_u']\n",
    "_g = control['dered_g']\n",
    "_r = control['dered_r']\n",
    "_i = control['dered_i']\n",
    "\n",
    "alpha = 0.02\n",
    "\n",
    "fig,axes = pl.subplots(1,3,figsize=(10,5),sharey=True)\n",
    "\n",
    "axes[1].set_title(\"Control field\", fontsize=20)\n",
    "\n",
    "axes[0].plot(_u-_g, _g, ls='none', marker='.', alpha=alpha)\n",
    "axes[1].plot(_g-_r, _g, ls='none', marker='.', alpha=alpha)\n",
    "axes[2].plot(_g-_i, _g, ls='none', marker='.', alpha=alpha)\n",
    "\n",
    "axes[0].plot(ngc5897_iso['sdss_u'] - ngc5897_iso['sdss_g'], ngc5897_iso['sdss_g'] + dm, marker=None)\n",
    "axes[1].plot(ngc5897_iso['sdss_g'] - ngc5897_iso['sdss_r'], ngc5897_iso['sdss_g'] + dm, marker=None)\n",
    "axes[2].plot(ngc5897_iso['sdss_g'] - ngc5897_iso['sdss_i'], ngc5897_iso['sdss_g'] + dm, marker=None)\n",
    "\n",
    "axes[0].set_ylim(22,14)\n",
    "axes[0].set_xlim(0.5,2.5)\n",
    "axes[1].set_xlim(-0.25,1.1)\n",
    "axes[2].set_xlim(-0.5,2)\n",
    "\n",
    "axes[0].set_ylabel(\"$g_0$\")\n",
    "axes[0].set_xlabel(\"$(u-g)_0$\")\n",
    "axes[1].set_xlabel(\"$(g-r)_0$\")\n",
    "axes[2].set_xlabel(\"$(g-i)_0$\")\n",
    "\n",
    "fig.tight_layout()"
   ]
  },
  {
   "cell_type": "code",
   "execution_count": null,
   "metadata": {
    "collapsed": false
   },
   "outputs": [],
   "source": [
    "_u = targets['dered_u']\n",
    "_g = targets['dered_g']\n",
    "_r = targets['dered_r']\n",
    "_i = targets['dered_i']\n",
    "\n",
    "alpha = 0.02\n",
    "\n",
    "fig,axes = pl.subplots(1,3,figsize=(10,5),sharey=True)\n",
    "\n",
    "axes[1].set_title(\"NGC 5897 field\", fontsize=20)\n",
    "\n",
    "axes[0].plot(_u-_g, _g, ls='none', marker='.', alpha=alpha)\n",
    "axes[1].plot(_g-_r, _g, ls='none', marker='.', alpha=alpha)\n",
    "axes[2].plot(_g-_i, _g, ls='none', marker='.', alpha=alpha)\n",
    "\n",
    "axes[0].plot(ngc5897_iso['sdss_u'] - ngc5897_iso['sdss_g'], ngc5897_iso['sdss_g'] + dm, marker=None)\n",
    "axes[1].plot(ngc5897_iso['sdss_g'] - ngc5897_iso['sdss_r'], ngc5897_iso['sdss_g'] + dm, marker=None)\n",
    "axes[2].plot(ngc5897_iso['sdss_g'] - ngc5897_iso['sdss_i'], ngc5897_iso['sdss_g'] + dm, marker=None)\n",
    "\n",
    "axes[0].set_ylim(22,14)\n",
    "axes[0].set_xlim(0.5,2.5)\n",
    "axes[1].set_xlim(-0.25,1.1)\n",
    "axes[2].set_xlim(-0.5,2)\n",
    "\n",
    "axes[0].set_ylabel(\"$g_0$\")\n",
    "axes[0].set_xlabel(\"$(u-g)_0$\")\n",
    "axes[1].set_xlabel(\"$(g-r)_0$\")\n",
    "axes[2].set_xlabel(\"$(g-i)_0$\")\n",
    "\n",
    "fig.tight_layout()"
   ]
  },
  {
   "cell_type": "code",
   "execution_count": null,
   "metadata": {
    "collapsed": true
   },
   "outputs": [],
   "source": [
    "from scipy.misc import logsumexp\n",
    "\n",
    "def matched_filter(data, isochrone, dm, smooth=0.02, threshold=2):\n",
    "    data = data[(data['dered_g'] > 14) & (data['dered_g'] < 21.5)]\n",
    "    isochrone = isochrone[((isochrone['sdss_g'] + dm) > 14) & ((isochrone['sdss_g'] + dm) < 21.5)]\n",
    "    \n",
    "    i_g = isochrone['sdss_g'] + dm\n",
    "    i_ug = isochrone['sdss_u'] - isochrone['sdss_g']\n",
    "    i_gr = isochrone['sdss_g'] - isochrone['sdss_r']\n",
    "    i_gi = isochrone['sdss_g'] - isochrone['sdss_i']\n",
    "    \n",
    "    d_g = data['dered_g']\n",
    "    d_ug = data['dered_u'] - data['dered_g']\n",
    "    d_gr = data['dered_g'] - data['dered_r']\n",
    "    d_gi = data['dered_g'] - data['dered_i']\n",
    "    \n",
    "    d_g_var = data['err_g']**2\n",
    "    d_ug_var = data['err_u']**2 + data['err_g']**2 \n",
    "    d_gr_var = data['err_g']**2 + data['err_r']**2 \n",
    "    d_gi_var = data['err_g']**2 + data['err_i']**2 \n",
    "    \n",
    "    s_var = smooth**2\n",
    "    const = 0.5*np.log(2*np.pi*s_var)\n",
    "    dist  = -0.5 * (d_g[None] - i_g[:,None])**2 / (s_var + d_g_var[None]) - const\n",
    "    dist += -0.5 * (d_ug[None] - i_ug[:,None])**2 / (s_var + d_ug_var[None]) - const\n",
    "    dist += -0.5 * (d_gr[None] - i_gr[:,None])**2 / (s_var + d_gr_var[None]) - const\n",
    "    dist += -0.5 * (d_gi[None] - i_gi[:,None])**2 / (s_var + d_gi_var[None]) - const\n",
    "    \n",
    "    log_prob = logsumexp(dist, axis=0) - np.log(len(isochrone))\n",
    "    pl.hist(log_prob,bins=np.linspace(-1,12,16))\n",
    "    ix = log_prob > threshold\n",
    "    \n",
    "    return data[ix]"
   ]
  },
  {
   "cell_type": "code",
   "execution_count": null,
   "metadata": {
    "collapsed": true
   },
   "outputs": [],
   "source": [
    "filter_dm = 15.2\n",
    "filter_smooth = 0.01 # mag\n",
    "filter_threshold = 9.5"
   ]
  },
  {
   "cell_type": "code",
   "execution_count": null,
   "metadata": {
    "collapsed": false
   },
   "outputs": [],
   "source": [
    "filtered_control = matched_filter(control, ngc5897_iso, \n",
    "                                  dm=filter_dm, smooth=filter_smooth,\n",
    "                                  threshold=filter_threshold)"
   ]
  },
  {
   "cell_type": "code",
   "execution_count": null,
   "metadata": {
    "collapsed": false
   },
   "outputs": [],
   "source": [
    "filtered_targets = matched_filter(targets, ngc5897_iso, \n",
    "                                  dm=filter_dm, smooth=filter_smooth,\n",
    "                                  threshold=filter_threshold)"
   ]
  },
  {
   "cell_type": "code",
   "execution_count": null,
   "metadata": {
    "collapsed": false
   },
   "outputs": [],
   "source": [
    "print(len(filtered_control), len(filtered_targets))"
   ]
  },
  {
   "cell_type": "code",
   "execution_count": null,
   "metadata": {
    "collapsed": true
   },
   "outputs": [],
   "source": []
  },
  {
   "cell_type": "code",
   "execution_count": null,
   "metadata": {
    "collapsed": false
   },
   "outputs": [],
   "source": [
    "alpha = 0.02\n",
    "\n",
    "fig,axes = pl.subplots(1,3,figsize=(10,5),sharey=True)\n",
    "\n",
    "axes[1].set_title(\"NGC 5897 field\", fontsize=20)\n",
    "\n",
    "_u = targets['dered_u']\n",
    "_g = targets['dered_g']\n",
    "_r = targets['dered_r']\n",
    "_i = targets['dered_i']\n",
    "axes[0].plot(_u-_g, _g, ls='none', marker='.', alpha=alpha)\n",
    "axes[1].plot(_g-_r, _g, ls='none', marker='.', alpha=alpha)\n",
    "axes[2].plot(_g-_i, _g, ls='none', marker='.', alpha=alpha)\n",
    "\n",
    "_u = filtered_targets['dered_u']\n",
    "_g = filtered_targets['dered_g']\n",
    "_r = filtered_targets['dered_r']\n",
    "_i = filtered_targets['dered_i']\n",
    "axes[0].plot(_u-_g, _g, ls='none', marker='.')\n",
    "axes[1].plot(_g-_r, _g, ls='none', marker='.')\n",
    "axes[2].plot(_g-_i, _g, ls='none', marker='.')\n",
    "\n",
    "axes[0].plot(ngc5897_iso['sdss_u'] - ngc5897_iso['sdss_g'], ngc5897_iso['sdss_g'] + dm, marker=None)\n",
    "axes[1].plot(ngc5897_iso['sdss_g'] - ngc5897_iso['sdss_r'], ngc5897_iso['sdss_g'] + dm, marker=None)\n",
    "axes[2].plot(ngc5897_iso['sdss_g'] - ngc5897_iso['sdss_i'], ngc5897_iso['sdss_g'] + dm, marker=None)\n",
    "\n",
    "axes[0].set_ylim(22,14)\n",
    "axes[0].set_xlim(0.5,2.5)\n",
    "axes[1].set_xlim(-0.25,1.1)\n",
    "axes[2].set_xlim(-0.5,2)\n",
    "\n",
    "axes[0].set_ylabel(\"$g_0$\")\n",
    "axes[0].set_xlabel(\"$(u-g)_0$\")\n",
    "axes[1].set_xlabel(\"$(g-r)_0$\")\n",
    "axes[2].set_xlabel(\"$(g-i)_0$\")\n",
    "\n",
    "fig.tight_layout()"
   ]
  },
  {
   "cell_type": "code",
   "execution_count": null,
   "metadata": {
    "collapsed": false
   },
   "outputs": [],
   "source": [
    "fig,ax = pl.subplots(1,1,figsize=(8,6))\n",
    "# ax.plot(ngc5897_c_back.ra.degree, ngc5897_c_back.dec.degree, ls='none')\n",
    "# ax.plot(ngc5897_c_forw.ra.degree, ngc5897_c_forw.dec.degree, ls='none')\n",
    "\n",
    "ax.plot(filtered_control['ra'], filtered_control['dec'], marker='.', ls='none', alpha=0.5)\n",
    "ax.plot(filtered_targets['ra'], filtered_targets['dec'], marker='.', ls='none', alpha=0.5)\n",
    "\n",
    "ax.set_xlim(220,210)\n",
    "ax.set_ylim(-20,-10)\n",
    "pl.minorticks_on()\n",
    "pl.grid()"
   ]
  },
  {
   "cell_type": "markdown",
   "metadata": {},
   "source": [
    "Hm, well, the above isn't very conclusive...maybe I'll try looking in teh catalina data too?"
   ]
  },
  {
   "cell_type": "code",
   "execution_count": null,
   "metadata": {
    "collapsed": false
   },
   "outputs": [],
   "source": [
    "css = ascii.read(\"/Users/adrian/Downloads/catalina_south.csv\")\n",
    "print(css.colnames)"
   ]
  },
  {
   "cell_type": "code",
   "execution_count": null,
   "metadata": {
    "collapsed": false
   },
   "outputs": [],
   "source": [
    "fig,ax = pl.subplots(1,1,figsize=(8,6))\n",
    "\n",
    "galcen = coord.Galactic(l=0*u.deg, b=0*u.deg).transform_to(coord.ICRS)\n",
    "ax.scatter(galcen.ra.degree, galcen.dec.degree)\n",
    "\n",
    "ax.plot(css['RAJ2000'], css['DEJ2000'], marker='.', ls='none')\n",
    "\n",
    "ax.plot(ngc5897_c_back.ra.degree, ngc5897_c_back.dec.degree, ls='none')\n",
    "ax.plot(ngc5897_c_forw.ra.degree, ngc5897_c_forw.dec.degree, ls='none')\n",
    "\n",
    "ax.set_xlim(325,200)\n",
    "ax.set_ylim(-45,0)\n",
    "ax.xaxis.set_ticks(np.arange(200,330,10))\n",
    "pl.minorticks_on()\n",
    "pl.grid()"
   ]
  },
  {
   "cell_type": "code",
   "execution_count": null,
   "metadata": {
    "collapsed": false
   },
   "outputs": [],
   "source": [
    "box_ix = ((css['RAJ2000'] > 210) & (css['RAJ2000'] < 230) & \n",
    "          (css['DEJ2000'] > -22) & (css['DEJ2000'] < -15) &\n",
    "          (css['dH'] > 9.) & (css['dH'] < 13.))\n",
    "box_ix.sum()"
   ]
  },
  {
   "cell_type": "code",
   "execution_count": null,
   "metadata": {
    "collapsed": false
   },
   "outputs": [],
   "source": [
    "pl.plot(css['RAJ2000'][box_ix], css['DEJ2000'][box_ix], ls='none', marker='o')"
   ]
  },
  {
   "cell_type": "code",
   "execution_count": null,
   "metadata": {
    "collapsed": true
   },
   "outputs": [],
   "source": []
  }
 ],
 "metadata": {
  "kernelspec": {
   "display_name": "Python 3",
   "language": "python",
   "name": "python3"
  },
  "language_info": {
   "codemirror_mode": {
    "name": "ipython",
    "version": 3
   },
   "file_extension": ".py",
   "mimetype": "text/x-python",
   "name": "python",
   "nbconvert_exporter": "python",
   "pygments_lexer": "ipython3",
   "version": "3.5.1"
  }
 },
 "nbformat": 4,
 "nbformat_minor": 0
}